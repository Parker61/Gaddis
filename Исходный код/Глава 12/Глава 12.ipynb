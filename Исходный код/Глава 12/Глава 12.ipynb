{
 "cells": [
  {
   "cell_type": "code",
   "execution_count": null,
   "metadata": {},
   "outputs": [],
   "source": [
    "# -*- coding: utf-8 -*-"
   ]
  },
  {
   "cell_type": "markdown",
   "metadata": {},
   "source": [
    "# Глава 12. Рекурсия"
   ]
  },
  {
   "cell_type": "markdown",
   "metadata": {},
   "source": [
    "## 12.1 Введение в рекурсию"
   ]
  },
  {
   "cell_type": "markdown",
   "metadata": {},
   "source": [
    "### Программа 12-1 (endless_recursion.py)"
   ]
  },
  {
   "cell_type": "code",
   "execution_count": null,
   "metadata": {},
   "outputs": [],
   "source": [
    "# Эта программа демонстрирует рекурсивную функцию.\n",
    "\n",
    "def main():\n",
    "    message()\n",
    "\n",
    "def message():\n",
    "    print('Это рекурсивная функцию.')\n",
    "    message()\n",
    "\n",
    "# Вызвать главную функцию.\n",
    "main()"
   ]
  },
  {
   "cell_type": "markdown",
   "metadata": {},
   "source": [
    "### Программа 12-2 (recursive.py)"
   ]
  },
  {
   "cell_type": "code",
   "execution_count": 3,
   "metadata": {},
   "outputs": [
    {
     "name": "stdout",
     "output_type": "stream",
     "text": [
      "Это рекурсивная функция.\n",
      "Это рекурсивная функция.\n",
      "Это рекурсивная функция.\n",
      "Это рекурсивная функция.\n",
      "Это рекурсивная функция.\n"
     ]
    }
   ],
   "source": [
    "# Эта программа имеет рекурсивную функцию.\n",
    "\n",
    "def main():\n",
    "    # Передав аргумент 5 в функцию message,\n",
    "    # мы сообщаем ей, что нужно показать\n",
    "    # сообщение пять раз.\n",
    "    message(5)\n",
    "\n",
    "def message(times):\n",
    "    if times > 0:\n",
    "        print('Это рекурсивная функция.')\n",
    "        message(times - 1)\n",
    "\n",
    "# Вызвать главную функцию.\n",
    "main()"
   ]
  },
  {
   "cell_type": "markdown",
   "metadata": {},
   "source": [
    "## 2.2 Решение задач при помощи рекурсии"
   ]
  },
  {
   "cell_type": "markdown",
   "metadata": {},
   "source": [
    "### Программа 12-3 (factorial.py)"
   ]
  },
  {
   "cell_type": "code",
   "execution_count": 5,
   "metadata": {},
   "outputs": [
    {
     "name": "stdout",
     "output_type": "stream",
     "text": [
      "Введите неотрицательное целое число: 4\n",
      "Факториал числа 4 равняется 24\n"
     ]
    }
   ],
   "source": [
    "# Эта программа применяет рекурсию \n",
    "# для вычисления факториала числа.\n",
    "\n",
    "def main():\n",
    "    # Получить от пользователя число.\n",
    "    number = int(input('Введите неотрицательное целое число: '))\n",
    "\n",
    "     # Получить факториал числа.\n",
    "    fact = factorial(number)\n",
    "\n",
    "    # Показать факториал.\n",
    "    print('Факториал числа', number, 'равняется', fact)\n",
    "\n",
    "# Функция factorial применяет рекурсию, чтобы\n",
    "# вычислить факториал своего аргумента, который,\n",
    "# как предполагается, является неотрицательным.\n",
    "def factorial(num):\n",
    "    if num == 0:\n",
    "        return 1\n",
    "    else:\n",
    "        return num * factorial(num - 1)\n",
    "\n",
    "# Вызвать главную функцию.\n",
    "main()"
   ]
  },
  {
   "cell_type": "markdown",
   "metadata": {},
   "source": [
    "## 12.3 Примеры рекурсивных алгоритмов на основе рекурсии"
   ]
  },
  {
   "cell_type": "markdown",
   "metadata": {},
   "source": [
    "### Программа 12-4 (range_sum.py)"
   ]
  },
  {
   "cell_type": "code",
   "execution_count": 6,
   "metadata": {},
   "outputs": [
    {
     "name": "stdout",
     "output_type": "stream",
     "text": [
      "Сумма значений со 2 по 5 позиции равняется 18\n"
     ]
    }
   ],
   "source": [
    "# Эта программа демонстрирует функцию range_sum.\n",
    "\n",
    "def main():\n",
    "    # Создать список чисел.\n",
    "    numbers = [1, 2, 3, 4, 5, 6, 7, 8, 9]\n",
    "\n",
    "    # Получить сумму значений в индексных\n",
    "    # позициях, начиная с 2 вплоть до 5.\n",
    "    my_sum = range_sum(numbers, 2, 5)\n",
    "\n",
    "    # Показать сумму.\n",
    "    print('Сумма значений со 2 по 5 позиции равняется', my_sum)\n",
    "\n",
    "# Функция range_sum возвращает сумму заданного\n",
    "# диапазона значений в списке num_list. Параметр start\n",
    "# задает индексную позицию начального значения.\n",
    "# Параметр end задает индексную позицию конечного значения.\n",
    "def range_sum(num_list, start, end):\n",
    "    if start > end:\n",
    "        return 0\n",
    "    else:\n",
    "        return num_list[start] + range_sum(num_list, start + 1, end)\n",
    "\n",
    "# Вызвать главную функцию.\n",
    "main()"
   ]
  },
  {
   "cell_type": "markdown",
   "metadata": {},
   "source": [
    "### Программа 12-5 (fibonacci.py)"
   ]
  },
  {
   "cell_type": "code",
   "execution_count": 12,
   "metadata": {},
   "outputs": [
    {
     "name": "stdout",
     "output_type": "stream",
     "text": [
      "Первые 10 чисел\n",
      "последовательности Фибоначчи:\n",
      "1\n",
      "1\n",
      "2\n",
      "3\n",
      "5\n",
      "8\n",
      "13\n",
      "21\n",
      "34\n",
      "55\n"
     ]
    }
   ],
   "source": [
    "# Эта программа применяет рекурсию для печати чисел\n",
    "# последовательности Фибоначчи.\n",
    "\n",
    "def main():\n",
    "    print('Первые 10 чисел')\n",
    "    print('последовательности Фибоначчи:')\n",
    "\n",
    "    for number in range(1, 11):\n",
    "        print(fib(number))\n",
    "\n",
    "# Функция fib возвращает n-ое число\n",
    "# последовательности Фибоначчи.\n",
    "def fib(n):\n",
    "    if n == 0:\n",
    "        return 0\n",
    "    elif n == 1:\n",
    "        return 1\n",
    "    else:\n",
    "        return fib(n - 1) + fib(n - 2)\n",
    "\n",
    "# Вызвать главную функцию.\n",
    "main()"
   ]
  },
  {
   "cell_type": "markdown",
   "metadata": {},
   "source": [
    "### Программа 12-6 (gcd.py)"
   ]
  },
  {
   "cell_type": "code",
   "execution_count": 1,
   "metadata": {},
   "outputs": [
    {
     "name": "stdout",
     "output_type": "stream",
     "text": [
      "Введите целое число: 49\n",
      "Введите еще одно целое число: 28\n",
      "Наибольший общий делитель\n",
      "этих двух чисел равняется 7\n"
     ]
    }
   ],
   "source": [
    "# Эта программа применяет рекурсию для нахождения\n",
    "# наибольшего общего делителя (НОД или GCD) двух чисел.\n",
    "\n",
    "def main():\n",
    "    # Получить два числа.\n",
    "    num1 = int(input('Введите целое число: '))\n",
    "    num2 = int(input('Введите еще одно целое число: '))\n",
    "\n",
    "    # Показать НОД (GCD).\n",
    "    print('Наибольший общий делитель')\n",
    "    print('этих двух чисел равняется', gcd(num1, num2))\n",
    "\n",
    "# Функция gcd возвращает наибольший общий \n",
    "# делитель двух чисел.\n",
    "def gcd(x, y):\n",
    "    if x % y == 0:\n",
    "        return y\n",
    "    else:\n",
    "        return gcd(x, x % y)\n",
    "\n",
    "# Вызвать главную функцию.\n",
    "main()"
   ]
  },
  {
   "cell_type": "markdown",
   "metadata": {},
   "source": [
    "### Программа 12-7 (towers_of_hanoi.py)"
   ]
  },
  {
   "cell_type": "code",
   "execution_count": 13,
   "metadata": {},
   "outputs": [
    {
     "name": "stdout",
     "output_type": "stream",
     "text": [
      "Переложить кольцо с 1 на 3\n",
      "Переложить кольцо с 1 на 2\n",
      "Переложить кольцо с 3 на 2\n",
      "Переложить кольцо с 1 на 3\n",
      "Переложить кольцо с 2 на 1\n",
      "Переложить кольцо с 2 на 3\n",
      "Переложить кольцо с 1 на 3\n",
      "Все кольца перемещены!\n"
     ]
    }
   ],
   "source": [
    "# Эта программа имитирует головоломку 'Ханойские башни'.\n",
    "\n",
    "def main():\n",
    "    # Задать несколько исходных значений.\n",
    "    num_discs = 3\n",
    "    from_peg = 1\n",
    "    to_peg = 3\n",
    "    temp_peg = 2\n",
    "\n",
    "    # Решить задачу.\n",
    "    move_discs(num_discs, from_peg, to_peg, temp_peg)\n",
    "    print('Все кольца перемещены!')\n",
    "\n",
    "# Функция moveDiscs показывает процесс перемещения \n",
    "# колец в головоломке 'Ханойские башни'.\n",
    "# Параметры функции:\n",
    "# num: количество перемещаемых колец.\n",
    "# from_peg: стержень, с которого взять кольцо.\n",
    "# to_peg: стержень, на который переложить кольцо.\n",
    "# temp_peg: временный стержень.\n",
    "def move_discs(num, from_peg, to_peg, temp_peg):\n",
    "    if num > 0:\n",
    "        move_discs(num - 1, from_peg, temp_peg, to_peg)\n",
    "        print('Переложить кольцо с', from_peg, 'на', to_peg)\n",
    "        move_discs(num - 1, temp_peg, to_peg, from_peg)\n",
    "\n",
    "# Вызвать главную функцию.\n",
    "main()"
   ]
  },
  {
   "cell_type": "code",
   "execution_count": null,
   "metadata": {},
   "outputs": [],
   "source": []
  }
 ],
 "metadata": {
  "kernelspec": {
   "display_name": "Python 3",
   "language": "python",
   "name": "python3"
  },
  "language_info": {
   "codemirror_mode": {
    "name": "ipython",
    "version": 3
   },
   "file_extension": ".py",
   "mimetype": "text/x-python",
   "name": "python",
   "nbconvert_exporter": "python",
   "pygments_lexer": "ipython3",
   "version": "3.6.4"
  }
 },
 "nbformat": 4,
 "nbformat_minor": 2
}

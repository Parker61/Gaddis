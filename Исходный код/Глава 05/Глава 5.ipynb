{
 "cells": [
  {
   "cell_type": "code",
   "execution_count": null,
   "metadata": {},
   "outputs": [],
   "source": [
    "# -*- coding: utf-8 -*-"
   ]
  },
  {
   "cell_type": "markdown",
   "metadata": {},
   "source": [
    "# Глава 5. Функции"
   ]
  },
  {
   "cell_type": "markdown",
   "metadata": {},
   "source": [
    "## 5.2\tОпределение и вызов пустой функции"
   ]
  },
  {
   "cell_type": "markdown",
   "metadata": {},
   "source": [
    "### Программа 5-1 (function_demo.py)"
   ]
  },
  {
   "cell_type": "code",
   "execution_count": 1,
   "metadata": {},
   "outputs": [
    {
     "name": "stdout",
     "output_type": "stream",
     "text": [
      "Я - Артур,\n",
      "король британцев.\n"
     ]
    }
   ],
   "source": [
    "# Эта программа демонстрирует функцию.\n",
    "# Сначала мы определяем функцию с именем message.\n",
    "def message():\n",
    "    print('Я - Артур,')\n",
    "    print('король британцев.')\n",
    "\n",
    "# Вызвать функцию message.\n",
    "message()"
   ]
  },
  {
   "cell_type": "markdown",
   "metadata": {},
   "source": [
    "### Программа 5-2 (two_functions.py)"
   ]
  },
  {
   "cell_type": "code",
   "execution_count": 4,
   "metadata": {},
   "outputs": [
    {
     "name": "stdout",
     "output_type": "stream",
     "text": [
      "У меня для вас известие.\n",
      "Я – Артур,\n",
      "король британцев.\n",
      "До свидания!\n"
     ]
    }
   ],
   "source": [
    "# Эта программа имеет две функции. Сначала мы\n",
    "# определяем главную функцию. \n",
    "def main():\n",
    "    print('У меня для вас известие.')\n",
    "    message()\n",
    "    print('До свидания!')\n",
    "\n",
    "# Затем мы определяем функцию message. \n",
    "def message():\n",
    "    print('Я – Артур,') \n",
    "    print('король британцев.')\n",
    "\n",
    "# Вызвать функцию\n",
    "main() "
   ]
  },
  {
   "cell_type": "markdown",
   "metadata": {},
   "source": [
    "## 5.3 Разработка программы с использованием функций"
   ]
  },
  {
   "cell_type": "markdown",
   "metadata": {},
   "source": [
    "### Программа 5-3 (acme_dryer.py)"
   ]
  },
  {
   "cell_type": "code",
   "execution_count": 1,
   "metadata": {},
   "outputs": [
    {
     "name": "stdout",
     "output_type": "stream",
     "text": [
      "Эта программа дает рекомендации по\n",
      "разборке бельевой сушилки фирмы ACME.\n",
      "Данный процесс состоит из 4 шагов.\n",
      "\n",
      "Нажмите Enter, чтобы увидеть Шаг 1.\n",
      "Шаг 1: Отключить сушилку и\n",
      "отодвинуть ее от стены.\n",
      "\n",
      "Нажмите Enter, чтобы увидеть Шаг 2.\n",
      "Шаг 2: Удалить шесть винтов\n",
      "с задней стороны сушилки.\n",
      "\n",
      "Нажмите Enter, чтобы увидеть Шаг 3.\n",
      "Шаг 3: Удалить заднюю панель\n",
      "сушилки.\n",
      "\n",
      "Нажмите Enter, чтобы увидеть Шаг 4.\n",
      "Шаг 4: Вынуть верхний блок\n",
      "сушилки.\n"
     ]
    }
   ],
   "source": [
    "# Эта программа показывает пошаговые инструкции\n",
    "# для разборке бельевой сушилки фирмы Acme.\n",
    "# Главная функция выполняет основную логику программы.\n",
    "def main():\n",
    "    # Показать стартовое сообщение.\n",
    "    startup_message()\n",
    "    input('Нажмите Enter, чтобы увидеть Шаг 1.')\n",
    "    # Показать шаг 1.\n",
    "    step1()\n",
    "    input('Нажмите Enter, чтобы увидеть Шаг 2.')\n",
    "    # Показать шаг 2.\n",
    "    step2()\n",
    "    input('Нажмите Enter, чтобы увидеть Шаг 3.')\n",
    "    # Показать шаг 3.\n",
    "    step3()\n",
    "    input('Нажмите Enter, чтобы увидеть Шаг 4.')\n",
    "    # Показать шаг 4.\n",
    "    step4()\n",
    "\n",
    "# Функция startup_message показывает\n",
    "# первоначальное сообщение программы на экране.\n",
    "def startup_message():\n",
    "    print('Эта программа дает рекомендации по')\n",
    "    print('разборке бельевой сушилки фирмы ACME.')\n",
    "    print('Данный процесс состоит из 4 шагов.')\n",
    "    print()\n",
    "\n",
    "# Функция step1 показывает инструкции\n",
    "# для шага 1.\n",
    "def step1():\n",
    "    print('Шаг 1: Отключить сушилку и')\n",
    "    print('отодвинуть ее от стены.')\n",
    "    print()\n",
    "\n",
    "# Функция step2 показывает инструкции\n",
    "# для шага 2.\n",
    "def step2():\n",
    "    print('Шаг 2: Удалить шесть винтов')\n",
    "    print('с задней стороны сушилки.')\n",
    "    print()\n",
    "\n",
    "# Функция step3 показывает инструкции\n",
    "# для шага 3.\n",
    "def step3():\n",
    "    print('Шаг 3: Удалить заднюю панель')\n",
    "    print('сушилки.')\n",
    "    print()\n",
    "\n",
    "# Функция step4 показывает инструкции\n",
    "# для шага 4.\n",
    "def step4():\n",
    "    print('Шаг 4: Вынуть верхний блок')\n",
    "    print('сушилки.')\n",
    "\n",
    "# Вызвать функцию main, чтобы начать программу.\n",
    "main()"
   ]
  },
  {
   "cell_type": "markdown",
   "metadata": {},
   "source": [
    "## 5.4 Локальные переменные"
   ]
  },
  {
   "cell_type": "markdown",
   "metadata": {},
   "source": [
    "### Программа 5-4 (bad_local.py)"
   ]
  },
  {
   "cell_type": "code",
   "execution_count": 11,
   "metadata": {},
   "outputs": [
    {
     "name": "stdout",
     "output_type": "stream",
     "text": [
      "Введите свое имя: иван\n"
     ]
    },
    {
     "ename": "NameError",
     "evalue": "name 'name' is not defined",
     "output_type": "error",
     "traceback": [
      "\u001b[1;31m---------------------------------------------------------------------------\u001b[0m",
      "\u001b[1;31mNameError\u001b[0m                                 Traceback (most recent call last)",
      "\u001b[1;32m<ipython-input-11-fc662d1e4ebd>\u001b[0m in \u001b[0;36m<module>\u001b[1;34m()\u001b[0m\n\u001b[0;32m      9\u001b[0m \u001b[1;33m\u001b[0m\u001b[0m\n\u001b[0;32m     10\u001b[0m \u001b[1;31m# Вызвать функцию main.\u001b[0m\u001b[1;33m\u001b[0m\u001b[1;33m\u001b[0m\u001b[0m\n\u001b[1;32m---> 11\u001b[1;33m \u001b[0mmain\u001b[0m\u001b[1;33m(\u001b[0m\u001b[1;33m)\u001b[0m\u001b[1;33m\u001b[0m\u001b[0m\n\u001b[0m",
      "\u001b[1;32m<ipython-input-11-fc662d1e4ebd>\u001b[0m in \u001b[0;36mmain\u001b[1;34m()\u001b[0m\n\u001b[0;32m      2\u001b[0m \u001b[1;32mdef\u001b[0m \u001b[0mmain\u001b[0m\u001b[1;33m(\u001b[0m\u001b[1;33m)\u001b[0m\u001b[1;33m:\u001b[0m\u001b[1;33m\u001b[0m\u001b[0m\n\u001b[0;32m      3\u001b[0m     \u001b[0mget_name\u001b[0m\u001b[1;33m(\u001b[0m\u001b[1;33m)\u001b[0m\u001b[1;33m\u001b[0m\u001b[0m\n\u001b[1;32m----> 4\u001b[1;33m     \u001b[0mprint\u001b[0m\u001b[1;33m(\u001b[0m\u001b[1;34m'Привет,'\u001b[0m\u001b[1;33m,\u001b[0m \u001b[0mname\u001b[0m\u001b[1;33m)\u001b[0m \u001b[1;31m# Это вызовет ошибку!\u001b[0m\u001b[1;33m\u001b[0m\u001b[0m\n\u001b[0m\u001b[0;32m      5\u001b[0m \u001b[1;33m\u001b[0m\u001b[0m\n\u001b[0;32m      6\u001b[0m \u001b[1;31m# Определение функции get_name.\u001b[0m\u001b[1;33m\u001b[0m\u001b[1;33m\u001b[0m\u001b[0m\n",
      "\u001b[1;31mNameError\u001b[0m: name 'name' is not defined"
     ]
    }
   ],
   "source": [
    "# Определение главной функции.\n",
    "def main():\n",
    "    get_name()\n",
    "    print('Привет,', name) # Это вызовет ошибку!\n",
    "\n",
    "# Определение функции get_name.\n",
    "def get_name():\n",
    "    name = input('Введите свое имя: ')\n",
    "\n",
    "# Вызвать функцию main.\n",
    "main()"
   ]
  },
  {
   "cell_type": "markdown",
   "metadata": {},
   "source": [
    "### Программа 5-5 (birds.py)"
   ]
  },
  {
   "cell_type": "code",
   "execution_count": 13,
   "metadata": {},
   "outputs": [
    {
     "name": "stdout",
     "output_type": "stream",
     "text": [
      "В Техасе обитает 5000 птиц.\n",
      "В Калифорнии обитает 8000 птиц.\n"
     ]
    }
   ],
   "source": [
    "# Эта программ демонстрирует две функции, которые\n",
    "# имеют локальные переменные с одинаковыми именами.\n",
    "\n",
    "def main():\n",
    "    # Вызвать функцию texas.\n",
    "    texas()\n",
    "    # Вызвать функцию california.\n",
    "    california()\n",
    "\n",
    "# Определение функции texas. Она создает\n",
    "# локальную переменную с именем birds.\n",
    "def texas():\n",
    "    birds = 5000\n",
    "    print('В Техасе обитает', birds, 'птиц.')\n",
    "\n",
    "# Определение функции california. Она тоже\n",
    "# создает локальную переменную с именем birds.\n",
    "def california():\n",
    "    birds = 8000\n",
    "    print('В Калифорнии обитает', birds, 'птиц.')\n",
    "\n",
    "# Вызвать функцию main.\n",
    "main()"
   ]
  },
  {
   "cell_type": "markdown",
   "metadata": {},
   "source": [
    "## 5.5 Передача аргументов в функцию "
   ]
  },
  {
   "cell_type": "markdown",
   "metadata": {},
   "source": [
    "### Программа 5-6 (pass_arg.py)"
   ]
  },
  {
   "cell_type": "code",
   "execution_count": 14,
   "metadata": {},
   "outputs": [
    {
     "name": "stdout",
     "output_type": "stream",
     "text": [
      "10\n"
     ]
    }
   ],
   "source": [
    "# Это программа демонстрирует аргумент,\n",
    "# передаваемый в функцию.\n",
    "\n",
    "def main():\n",
    "    value = 5\n",
    "    show_double(value)\n",
    "\n",
    "# Функция show_double принимает аргумент\n",
    "# и показывает его удвоенное значение.\n",
    "def show_double(number):\n",
    "    result = number * 2\n",
    "    print(result)\n",
    "\n",
    "# Вызвать функцию main.\n",
    "main()"
   ]
  },
  {
   "cell_type": "markdown",
   "metadata": {},
   "source": [
    "### Программа 5-7 (cups_to_ounces.py)"
   ]
  },
  {
   "cell_type": "code",
   "execution_count": 3,
   "metadata": {},
   "outputs": [
    {
     "name": "stdout",
     "output_type": "stream",
     "text": [
      "Эта программа конвертирует замеры\n",
      "в чашках в жидкие унции. Для\n",
      "справки приводим формулу:\n",
      " 1 чашка = 8 жидких унций\n",
      "\n",
      "Введите количество чашек: 4\n",
      "Это конвертируется в 32 унции(й).\n"
     ]
    }
   ],
   "source": [
    "# Эта программа конвертирует чашки в жидкие унции.\n",
    "\n",
    "def main():\n",
    "    # Показать вводное окно.  \n",
    "    intro()\n",
    "    # Получить количество чашек.\n",
    "    cups_needed = int(input('Введите количество чашек: '))\n",
    "    # Конвертировать чашки в унции.\n",
    "    cups_to_ounces(cups_needed)\n",
    "\n",
    "# Функци intro показывает вводное окно.\n",
    "def intro():\n",
    "    print('Эта программа конвертирует замеры')\n",
    "    print('в чашках в жидкие унции. Для')\n",
    "    print('справки приводим формулу:')\n",
    "    print(' 1 чашка = 8 жидких унций')\n",
    "    print()\n",
    "\n",
    "# Функция cups_to_ounces принимает количество чашек\n",
    "# и показывает эквивалентное количество унций.\n",
    "def cups_to_ounces(cups):\n",
    "    ounces = cups * 8\n",
    "    print('Это конвертируется в', ounces, 'унции(й).')\n",
    "\n",
    "# Вызвать функцию main.\n",
    "main()"
   ]
  },
  {
   "cell_type": "markdown",
   "metadata": {},
   "source": [
    "### Программа 5-8 (multiple_args.py)"
   ]
  },
  {
   "cell_type": "code",
   "execution_count": 5,
   "metadata": {},
   "outputs": [
    {
     "name": "stdout",
     "output_type": "stream",
     "text": [
      "Сумма чисел 12 и 45 равняется\n",
      "57\n"
     ]
    }
   ],
   "source": [
    "# Эта программа демонстрирует функцию, которая принимает\n",
    "# два аргумента.\n",
    "\n",
    "def main():\n",
    "    print('Сумма чисел 12 и 45 равняется')\n",
    "    show_sum(12, 45)\n",
    "\n",
    "# Функция show_sum принимает два аргумента\n",
    "# и показывает их сумму.\n",
    "def show_sum(num1, num2):\n",
    "    result = num1 + num2\n",
    "    print(result)\n",
    "\n",
    "# Вызвать функцию main.\n",
    "main()"
   ]
  },
  {
   "cell_type": "markdown",
   "metadata": {},
   "source": [
    "### Программа 5-9 (string_args.py)"
   ]
  },
  {
   "cell_type": "code",
   "execution_count": 6,
   "metadata": {},
   "outputs": [
    {
     "name": "stdout",
     "output_type": "stream",
     "text": [
      "Введите свое имя: Мэт\n",
      "Введите свою фамилию: Хойл\n",
      "Ваше имя в обратном порядке\n",
      "Хойл Мэт\n"
     ]
    }
   ],
   "source": [
    "# Эта программа демонстрирует передачу в функцию двух \n",
    "# строковых аргумента.\n",
    "\n",
    "def main():\n",
    "    first_name = input('Введите свое имя: ')\n",
    "    last_name = input('Введите свою фамилию: ')\n",
    "    print('Ваше имя в обратном порядке')\n",
    "    reverse_name(first_name, last_name)\n",
    "\n",
    "def reverse_name(first, last):\n",
    "    print(last, first)\n",
    "\n",
    "# Вызвать функцию main.\n",
    "main()"
   ]
  },
  {
   "cell_type": "markdown",
   "metadata": {},
   "source": [
    "### Программа 5-10 (change_me.py)"
   ]
  },
  {
   "cell_type": "code",
   "execution_count": 8,
   "metadata": {},
   "outputs": [
    {
     "name": "stdout",
     "output_type": "stream",
     "text": [
      "Значение равняется 99\n",
      "Я изменяю значение.\n",
      "Теперь значение равняется 0\n",
      "Вернувшись в функцию main, значение равняется 99\n"
     ]
    }
   ],
   "source": [
    "# Эта программа демонстрирует, что происходит, когда вы\n",
    "# изменяете значение параметра.\n",
    "\n",
    "def main():\n",
    "    value = 99\n",
    "    print('Значение равняется', value)\n",
    "    change_me(value)\n",
    "    print('Вернувшись в функцию main, значение равняется', value)\n",
    "\n",
    "def change_me(arg):\n",
    "    print('Я изменяю значение.')\n",
    "    arg = 0\n",
    "    print('Теперь значение равняется', arg)\n",
    "\n",
    "# Вызвать функцию main.\n",
    "main()"
   ]
  },
  {
   "cell_type": "markdown",
   "metadata": {},
   "source": [
    "### Программа 5-11 (keyword_args.py)"
   ]
  },
  {
   "cell_type": "code",
   "execution_count": 1,
   "metadata": {},
   "outputs": [
    {
     "name": "stdout",
     "output_type": "stream",
     "text": [
      "Простой процентный доход составит $1,000.00\n"
     ]
    }
   ],
   "source": [
    "# Эта программа демонстрирует именованные аргументы.\n",
    "\n",
    "def main():\n",
    "    # Показать сумму простого процентного дохода, используя \n",
    "    # 0.01 как процентной ставки за период, 10 как количество\n",
    "    # периодов и $10,000 в как основную сумму на счету.\n",
    "    show_interest(rate=0.01, periods=10, principal=10000.0)\n",
    "\n",
    "# Функция show_interest показывает сумму простого процентного\n",
    "# дохода для заданной основной суммы, процентной ставки\n",
    "# за период и количество периодов.\n",
    "\n",
    "def show_interest(principal, rate, periods):\n",
    "    interest = principal * rate * periods\n",
    "    print('Простой процентный доход составит $',\n",
    "          format(interest, ',.2f'),\n",
    "          sep='')\n",
    "\n",
    "# Вызвать функцию main.\n",
    "main()"
   ]
  },
  {
   "cell_type": "markdown",
   "metadata": {},
   "source": [
    "### Программа 5-12 (keyword_string_args.py)"
   ]
  },
  {
   "cell_type": "code",
   "execution_count": 11,
   "metadata": {},
   "outputs": [
    {
     "name": "stdout",
     "output_type": "stream",
     "text": [
      "Введите свое имя: Мэт\n",
      "Введите свою фамилию: Хойл\n",
      "Ваше имя в обратном порядке\n",
      "Хойл Мэт\n"
     ]
    }
   ],
   "source": [
    "# Эта программа демонстрирует передачу в функцию двух \n",
    "# строковых значений в качестве именованных аргументов.\n",
    "\n",
    "def main():\n",
    "    first_name = input('Введите свое имя: ')\n",
    "    last_name = input('Введите свою фамилию: ')\n",
    "    print('Ваше имя в обратном порядке')\n",
    "    reverse_name(last=last_name, first=first_name)\n",
    "\n",
    "def reverse_name(first, last):\n",
    "    print(last, first)\n",
    "\n",
    "# Вызвать функцию main.\n",
    "main()"
   ]
  },
  {
   "cell_type": "markdown",
   "metadata": {},
   "source": [
    "## 5.6 Глобальные переменные и глобальные константы"
   ]
  },
  {
   "cell_type": "markdown",
   "metadata": {},
   "source": [
    "### Программа 5-13 (global1.py)"
   ]
  },
  {
   "cell_type": "code",
   "execution_count": 12,
   "metadata": {},
   "outputs": [
    {
     "name": "stdout",
     "output_type": "stream",
     "text": [
      "10\n"
     ]
    }
   ],
   "source": [
    "# Создать глобальную переменную.\n",
    "my_value = 10\n",
    "\n",
    "# Функция show_value печатает\n",
    "# значение глобальной переменной.\n",
    "def show_value():\n",
    "    print(my_value)\n",
    "\n",
    "# Вызвать функцию show_value.\n",
    "show_value()"
   ]
  },
  {
   "cell_type": "markdown",
   "metadata": {},
   "source": [
    "### Программа 5-14 (global2.py)"
   ]
  },
  {
   "cell_type": "code",
   "execution_count": 13,
   "metadata": {},
   "outputs": [
    {
     "name": "stdout",
     "output_type": "stream",
     "text": [
      "Введите число: 55\n",
      "Вы ввели число 55\n"
     ]
    }
   ],
   "source": [
    "# Создать глобальную переменную.\n",
    "number = 0\n",
    "\n",
    "def main():\n",
    "    global number\n",
    "    number = int(input('Введите число: '))\n",
    "    show_number()\n",
    "\n",
    "def show_number():\n",
    "    print('Вы ввели число', number)\n",
    "\n",
    "# Вызвать функцию main.\n",
    "main()"
   ]
  },
  {
   "cell_type": "markdown",
   "metadata": {},
   "source": [
    "### Программа 5-15 (retirement.py)"
   ]
  },
  {
   "cell_type": "code",
   "execution_count": 6,
   "metadata": {},
   "outputs": [
    {
     "name": "stdout",
     "output_type": "stream",
     "text": [
      "Введите заработную плату: 80000\n",
      "Введите сумму премий: 20000\n",
      "Взнос исходя из заработной платы: $4,000.00\n",
      "Взнос исходя из суммы премий: $1,000.00\n"
     ]
    }
   ],
   "source": [
    "# Следующее используется в качестве глобальной константы\n",
    "# Ставка взноса компании.\n",
    "CONTRIBUTION_RATE = 0.05\n",
    "\n",
    "def main():\n",
    "    gross_pay = float(input('Введите заработную плату: '))\n",
    "    bonus = float(input('Введите сумму премий: '))\n",
    "    show_pay_contrib(gross_pay)\n",
    "    show_bonus_contrib(bonus)\n",
    "\n",
    "# Функция show_pay_contrib принимает заработную\n",
    "# плату в качестве аргумента и показывает взнос\n",
    "# в пенсионные накопления исходя из этого размера оплаты.\n",
    "def show_pay_contrib(gross):\n",
    "    contrib = gross * CONTRIBUTION_RATE\n",
    "    print('Взнос исходя из заработной платы: $',\n",
    "          format(contrib, ',.2f'),\n",
    "          sep='')\n",
    "\n",
    "# Функция show_bonus_contrib принимает сумму премий\n",
    "# в качестве аргумента и показывает взнос в\n",
    "# пенсионное накопление исходя из этой суммы оплаты.\n",
    "def show_bonus_contrib(bonus):\n",
    "    contrib = bonus * CONTRIBUTION_RATE\n",
    "    print('Взнос исходя из суммы премий: $',\n",
    "          format(contrib, ',.2f'),\n",
    "          sep='')\n",
    "\n",
    "# Вызвать функцию main.\n",
    "main()"
   ]
  },
  {
   "cell_type": "markdown",
   "metadata": {},
   "source": [
    "## 5.7 Введение в функции с возвратом значения: генерирование случайных чисел"
   ]
  },
  {
   "cell_type": "markdown",
   "metadata": {},
   "source": [
    "### Программа 5-16 (random_numbers.py)"
   ]
  },
  {
   "cell_type": "code",
   "execution_count": 15,
   "metadata": {},
   "outputs": [
    {
     "name": "stdout",
     "output_type": "stream",
     "text": [
      "Число равняется 4\n"
     ]
    }
   ],
   "source": [
    "# Эта программа показывает случайное число\n",
    "# в диапазоне от 1 до 10.\n",
    "import random\n",
    "\n",
    "def main():\n",
    "    # Получить случайное число.\n",
    "    number = random.randint(1, 10)\n",
    "    # Показать число.\n",
    "    print('Число равняется', number)\n",
    "\n",
    "# Вызвать функцию main.\n",
    "main()"
   ]
  },
  {
   "cell_type": "markdown",
   "metadata": {},
   "source": [
    "### Программа 5-17 (random_numbers2.py)"
   ]
  },
  {
   "cell_type": "code",
   "execution_count": 16,
   "metadata": {},
   "outputs": [
    {
     "name": "stdout",
     "output_type": "stream",
     "text": [
      "80\n",
      "67\n",
      "3\n",
      "13\n",
      "50\n"
     ]
    }
   ],
   "source": [
    "# Эта программа показывает пять случайных\n",
    "# чисел в диапазоне от 1 до 100.\n",
    "import random\n",
    "\n",
    "def main():\n",
    "    for count in range(5):\n",
    "        # Получить случайное число.\n",
    "        number = random.randint(1, 100)\n",
    "        # Показать число.\n",
    "        print(number)\n",
    "\n",
    "# Вызвать функцию main.\n",
    "main()"
   ]
  },
  {
   "cell_type": "markdown",
   "metadata": {},
   "source": [
    "### Программа 5-18 (random_numbers3.py)"
   ]
  },
  {
   "cell_type": "code",
   "execution_count": 17,
   "metadata": {},
   "outputs": [
    {
     "name": "stdout",
     "output_type": "stream",
     "text": [
      "15\n",
      "27\n",
      "96\n",
      "97\n",
      "58\n"
     ]
    }
   ],
   "source": [
    "# Эта программа показывает пять случайных\n",
    "# чисел в диапазоне от 1 до 100.\n",
    "import random\n",
    "\n",
    "def main():\n",
    "    for count in range(5):\n",
    "        print(random.randint(1, 100))\n",
    "\n",
    "# Вызвать функцию main.\n",
    "main() "
   ]
  },
  {
   "cell_type": "markdown",
   "metadata": {},
   "source": [
    "### Программа 5-19 (dice.py)"
   ]
  },
  {
   "cell_type": "code",
   "execution_count": 7,
   "metadata": {},
   "outputs": [
    {
     "name": "stdout",
     "output_type": "stream",
     "text": [
      "Бросаем кубики...\n",
      "Значения граней:\n",
      "3\n",
      "3\n",
      "Бросить кубики еще раз? (д = да): д\n",
      "Бросаем кубики...\n",
      "Значения граней:\n",
      "5\n",
      "3\n",
      "Бросить кубики еще раз? (д = да): д\n",
      "Бросаем кубики...\n",
      "Значения граней:\n",
      "4\n",
      "6\n",
      "Бросить кубики еще раз? (д = да): н\n"
     ]
    }
   ],
   "source": [
    "# Эта программа бросает кубики.\n",
    "import random\n",
    "\n",
    "# Константы для минимального и максимального случайных чисел\n",
    "MIN = 1\n",
    "MAX = 6\n",
    "\n",
    "def main():\n",
    "    # Создать переменную, которая управляет циклом.\n",
    "    again = 'д'\n",
    "\n",
    "    # Имитировать бросание кубиков.\n",
    "    while again == 'д' or again == 'Д':\n",
    "        print('Бросаем кубики...')\n",
    "        print('Значения граней:')\n",
    "        print(random.randint(MIN, MAX))\n",
    "        print(random.randint(MIN, MAX))\n",
    "\n",
    "        # Сделать еще один бросок кубиков?\n",
    "        again = input('Бросить кубики еще раз? (д = да): ')\n",
    "\n",
    "# Вызвать функцию main.\n",
    "main()"
   ]
  },
  {
   "cell_type": "markdown",
   "metadata": {},
   "source": [
    "### Программа 5-20 (coin_toss.py)"
   ]
  },
  {
   "cell_type": "code",
   "execution_count": 20,
   "metadata": {},
   "outputs": [
    {
     "name": "stdout",
     "output_type": "stream",
     "text": [
      "Решка\n",
      "Решка\n",
      "Орел\n",
      "Орел\n",
      "Решка\n",
      "Орел\n",
      "Решка\n",
      "Орел\n",
      "Решка\n",
      "Орел\n"
     ]
    }
   ],
   "source": [
    "# Эта программа имитирует 10 бросков монеты.\n",
    "import random\n",
    "\n",
    "# Константы\n",
    "HEADS = 1\n",
    "TAILS = 2\n",
    "TOSSES = 10\n",
    "\n",
    "def main():\n",
    "    for toss in range(TOSSES):\n",
    "        # Имитировать бросание монеты.\n",
    "        if random.randint(HEADS, TAILS) == HEADS:\n",
    "            print('Орел')\n",
    "        else:\n",
    "            print('Решка')\n",
    "\n",
    "# Вызвать функцию main.\n",
    "main()"
   ]
  },
  {
   "cell_type": "markdown",
   "metadata": {},
   "source": [
    "## 5.8 Написание своих собственных функций с возвратом значения"
   ]
  },
  {
   "cell_type": "markdown",
   "metadata": {},
   "source": [
    "### Программа 5-21 (total_ages.py)"
   ]
  },
  {
   "cell_type": "code",
   "execution_count": 2,
   "metadata": {},
   "outputs": [
    {
     "name": "stdout",
     "output_type": "stream",
     "text": [
      "Введите свой возвраст: 22\n",
      "Введите возраст своего лучшего друга: 24\n",
      "Вместе вам 46 лет.\n"
     ]
    }
   ],
   "source": [
    "# Эта программа использует возвращаемое значение функции.\n",
    "\n",
    "def main():\n",
    "    # Получить возраст пользователя.\n",
    "    first_age = int(input('Введите свой возвраст: '))\n",
    "\n",
    "    # Получить возраст лучшего друга пользователя.\n",
    "    second_age = int(input(\"Введите возраст своего лучшего друга: \"))\n",
    "\n",
    "    # Получить сумму обоих возрастов.\n",
    "    total = sum(first_age, second_age)\n",
    "\n",
    "    # Показать общий возраст.\n",
    "    print('Вместе вам', total, 'лет.')\n",
    "\n",
    "# Функция sum принимает два числовых аргумента и\n",
    "# возвращает сумму этих аргументов.\n",
    "def sum(num1, num2):\n",
    "    result = num1 + num2\n",
    "    return result\n",
    "\n",
    "# Вызвать функцию main.\n",
    "main()"
   ]
  },
  {
   "cell_type": "markdown",
   "metadata": {},
   "source": [
    "### Программа 5-22 (sale_price.py)"
   ]
  },
  {
   "cell_type": "code",
   "execution_count": 22,
   "metadata": {},
   "outputs": [
    {
     "name": "stdout",
     "output_type": "stream",
     "text": [
      "Введите регулярную цену товара: 100\n",
      "Отпускная цена составляет $80.00\n"
     ]
    }
   ],
   "source": [
    "# Эта программа вычисляет отпускную цену \n",
    "# розничого товара.\n",
    "\n",
    "# DISCOUNT_PERCENTAGE используется в качестве\n",
    "# глобальной константы для процента скидки.\n",
    "DISCOUNT_PERCENTAGE = 0.20\n",
    "\n",
    "# Главная функция.\n",
    "def main():\n",
    "    # Получить регулярную цену товара.\n",
    "    reg_price = get_regular_price()\n",
    "\n",
    "    # Рассчитать отпускную цену.\n",
    "    sale_price = reg_price - discount(reg_price)\n",
    "\n",
    "    # Показать отпускную цену.\n",
    "    print('Отпускная цена составляет $', \n",
    "          format(sale_price, ',.2f'), sep='')\n",
    "\n",
    "# Функция get_regular_price предлагает пользователю\n",
    "# ввести регулярную цену товара, и она возвращает\n",
    "# это значение.\n",
    "def get_regular_price():\n",
    "    price = float(input(\"Введите регулярную цену товара: \"))\n",
    "    return price\n",
    "\n",
    "# Функция discount принимает цену товара в качестве\n",
    "# аргумента и возвращает сумму скидки\n",
    "# указанной в DISCOUNT_PERCENTAGE.\n",
    "def discount(price):\n",
    "    return price * DISCOUNT_PERCENTAGE\n",
    "\n",
    "# Вызвать главную функцию.\n",
    "main()"
   ]
  },
  {
   "cell_type": "markdown",
   "metadata": {},
   "source": [
    "### Программа 5-23 (commission_rate.py)"
   ]
  },
  {
   "cell_type": "code",
   "execution_count": 28,
   "metadata": {},
   "outputs": [
    {
     "name": "stdout",
     "output_type": "stream",
     "text": [
      "Введите сумму месячных продаж: 12000\n",
      "Введите сумму авансовой выплаты либо\n",
      "введите 0, если такой выплаты не было.\n",
      "Авансовая выплата: 2000\n",
      "Выплата составляет $-560.00\n",
      "Продавец должен возместить разницу\n",
      "компании.\n"
     ]
    }
   ],
   "source": [
    "# Эта программа вычисляет выплату продавцу\n",
    "# в компании 'Делай свою музыку'.\n",
    "def main():\n",
    "    # Получить сумму продаж.\n",
    "    sales = get_sales()\n",
    "\n",
    "    # Получить сумму авансовой оплаты.\n",
    "    advanced_pay = get_advanced_pay()\n",
    "\n",
    "    # Определить ставку комиссионных.\n",
    "    comm_rate = determine_comm_rate(sales)\n",
    "\n",
    "    # Рассчитать оплату.\n",
    "    pay = sales * comm_rate - advanced_pay\n",
    "\n",
    "    # Показать сумму выплаты.\n",
    "    print('Выплата составляет $', format(pay, ',.2f'), sep='')\n",
    "\n",
    "    # Определить, является ли выплата отрицательной.\n",
    "    if pay < 0:\n",
    "        print('Продавец должен возместить разницу')\n",
    "        print('компании.')\n",
    "\n",
    "# Функция get_sales получает от пользователя \n",
    "# месячные продажи продавца и возвращает это значение.\n",
    "def get_sales():\n",
    "    # Получить сумму месячных продаж.\n",
    "    monthly_sales = float(input('Введите сумму месячных продаж: '))\n",
    "\n",
    "    # Вернуть введенную сумму.\n",
    "    return monthly_sales\n",
    "\n",
    "# Функция get_advanced_pay получает сумму \n",
    "# авансовой выплаты конкретному продавцу и \n",
    "# возвращает эту сумму.\n",
    "def get_advanced_pay():\n",
    "    # Получить сумму авансовой выплаты.\n",
    "    print('Введите сумму авансовой выплаты либо')\n",
    "    print('введите 0, если такой выплаты не было.')\n",
    "    advanced = float(input('Авансовая выплата: '))\n",
    "\n",
    "    # Вернуть введенную сумму.\n",
    "    return advanced\n",
    "\n",
    "# Функция determine_comm_rate принимает сумму продаж\n",
    "# в качестве аргумента и возвращает подходящую\n",
    "# ставку комиссионных.\n",
    "def determine_comm_rate(sales):\n",
    "    # Определить ставку комиссионных.\n",
    "    if sales < 10000.00:\n",
    "        rate = 0.10\n",
    "    elif sales >= 10000 and sales <= 14999.99:\n",
    "        rate = 0.12\n",
    "    elif sales >= 15000 and sales <= 17999.99:\n",
    "        rate = 0.14\n",
    "    elif sales >= 18000 and sales <= 21999.99:\n",
    "        rate = 0.16\n",
    "    else:\n",
    "        rate = 0.18\n",
    "\n",
    "    # Вернуть ставку комиссионных.\n",
    "    return rate\n",
    "\n",
    "# Вызвать главную функцию.\n",
    "main()"
   ]
  },
  {
   "cell_type": "markdown",
   "metadata": {},
   "source": [
    "## 5.9 Математический модуль math "
   ]
  },
  {
   "cell_type": "markdown",
   "metadata": {},
   "source": [
    "### Программа 5-24 (square_root.py)"
   ]
  },
  {
   "cell_type": "code",
   "execution_count": 31,
   "metadata": {},
   "outputs": [
    {
     "name": "stdout",
     "output_type": "stream",
     "text": [
      "Введите число: 25\n",
      "Квадратный корень из 25.0 составляет 5.0\n"
     ]
    }
   ],
   "source": [
    "# Эта программа демонстрирует функцию sqrt.\n",
    "import math\n",
    "\n",
    "def main():\n",
    "   # Получить число.\n",
    "   number = float(input('Введите число: '))\n",
    "\n",
    "   # Получить квадратный корень числа.\n",
    "   square_root = math.sqrt(number)\n",
    "\n",
    "   # Показать квадратный корень.\n",
    "   print('Квадратный корень из', number, 'составляет', square_root)\n",
    "\n",
    "# Вызвать главную функцию.\n",
    "main()"
   ]
  },
  {
   "cell_type": "markdown",
   "metadata": {},
   "source": [
    "### Программа 5-25 (hypotenuse.py)"
   ]
  },
  {
   "cell_type": "code",
   "execution_count": 33,
   "metadata": {},
   "outputs": [
    {
     "name": "stdout",
     "output_type": "stream",
     "text": [
      "Введите длину стороны A: 5.0\n",
      "Введите длину стороны B: 12.0\n",
      "Длина гипотенузы составляет 13.0\n"
     ]
    }
   ],
   "source": [
    "# Эта программа вычисляет длину равнобедренного\n",
    "# прямоугольного треугольника.\n",
    "import math\n",
    "\n",
    "def main():\n",
    "    # Получить длину двух сторон треугольника.\n",
    "    a = float(input('Введите длину стороны A: '))\n",
    "    b = float(input('Введите длину стороны B: '))\n",
    "\n",
    "    # Вычислить длину гипотенузы.\n",
    "    c = math.hypot(a, b)\n",
    "\n",
    "    # Показать длину гипотенузы.\n",
    "    print('Длина гипотенузы составляет', c)\n",
    "\n",
    "# Вызвать главную функцию.\n",
    "main()"
   ]
  },
  {
   "cell_type": "markdown",
   "metadata": {},
   "source": [
    "## 5.10 Хранение функций в модулях"
   ]
  },
  {
   "cell_type": "markdown",
   "metadata": {},
   "source": [
    "### Программа 5-26 (circle.py)"
   ]
  },
  {
   "cell_type": "code",
   "execution_count": 38,
   "metadata": {},
   "outputs": [],
   "source": [
    "# Модуль circle содержит функции, которые выполняют\n",
    "# вычисления, связанные с кругами.\n",
    "import math\n",
    "\n",
    "# Функция area принимает радиус круга в качестве\n",
    "# аргумента и возвращает площадь круга.\n",
    "def area(radius):\n",
    "    return math.pi * radius**2\n",
    "\n",
    "# Функция circumference принимает радиус круга\n",
    "# и возвращает окружность круга.\n",
    "def circumference(radius):\n",
    "    return 2 * math.pi * radius"
   ]
  },
  {
   "cell_type": "markdown",
   "metadata": {},
   "source": [
    "### Программа 5-27 (rectangle.py)"
   ]
  },
  {
   "cell_type": "code",
   "execution_count": 39,
   "metadata": {},
   "outputs": [],
   "source": [
    "# Модуль rectangle содержит функции, которые выполняют\n",
    "# вычисления, связанные с прямоугольниками.\n",
    "\n",
    "# Функция area принимает ширину и длину прямоугольника\n",
    "# в качестве аргументов и возвращает площадь прямоугольника.\n",
    "def area(width, length):\n",
    "    return width * length\n",
    "\n",
    "# Функция perimeter принимает ширину и длину прямоугольника\n",
    "# в качестве аргументов и возвращает периметр \n",
    "# прямоугольника.\n",
    "def perimeter(width, length):\n",
    "    return 2 * (width + length)"
   ]
  },
  {
   "cell_type": "markdown",
   "metadata": {},
   "source": [
    "### Программа 5-28 (geometry.py)"
   ]
  },
  {
   "cell_type": "code",
   "execution_count": 1,
   "metadata": {},
   "outputs": [
    {
     "name": "stdout",
     "output_type": "stream",
     "text": [
      " МЕНЮ\n",
      "1) Площадь круга\n",
      "2) Окружность круга\n",
      "3) Площадь прямоугольника\n",
      "4) Периметр прямоугольника\n",
      "5) Выход\n",
      "Введите ваш выбор: 3\n",
      "Введите ширину прямоугольника: 5\n",
      "Введите длину прямоугольника: 10\n",
      "Площадь равна 50.0\n",
      " МЕНЮ\n",
      "1) Площадь круга\n",
      "2) Окружность круга\n",
      "3) Площадь прямоугольника\n",
      "4) Периметр прямоугольника\n",
      "5) Выход\n",
      "Введите ваш выбор: 4\n",
      "Введите ширину прямоугольника: 5\n",
      "Введите длину прямоугольника: 10\n",
      "Периметр равен 30.0\n",
      " МЕНЮ\n",
      "1) Площадь круга\n",
      "2) Окружность круга\n",
      "3) Площадь прямоугольника\n",
      "4) Периметр прямоугольника\n",
      "5) Выход\n",
      "Введите ваш выбор: 5\n",
      "Выходим из программы...\n"
     ]
    }
   ],
   "source": [
    "# Эта программа позволяет пользователю выбирать различные\n",
    "# геометрические вычисления из меню. Эта программа\n",
    "# Импортирует моудли circle и rectangle.\n",
    "import circle\n",
    "import rectangle\n",
    "\n",
    "# Константы для элементов меню\n",
    "AREA_CIRCLE_CHOICE = 1\n",
    "CIRCUMFERENCE_CHOICE = 2\n",
    "AREA_RECTANGLE_CHOICE = 3\n",
    "PERIMETER_RECTANGLE_CHOICE = 4\n",
    "QUIT_CHOICE = 5\n",
    "\n",
    "# Главная функция.\n",
    "def main():\n",
    "    # Переменная choice управляет циклом\n",
    "    # и содержит вариант выбора пользователя.\n",
    "    choice = 0\n",
    "\n",
    "    while choice != QUIT_CHOICE:\n",
    "        # Показать меню.\n",
    "        display_menu()\n",
    "\n",
    "        # Получить вариант выбора пользователя.\n",
    "        choice = int(input('Введите ваш выбор: '))\n",
    "\n",
    "        # Выполнить выбранное действие.\n",
    "        if choice == AREA_CIRCLE_CHOICE:\n",
    "            radius = float(input(\"Введите радиус круга: \"))\n",
    "            print('Площадь равна', circle.area(radius))\n",
    "        elif choice == CIRCUMFERENCE_CHOICE:\n",
    "            radius = float(input(\"Введите радиус круга: \"))\n",
    "            print('Окружность равна',\n",
    "                  circle.circumference(radius))\n",
    "        elif choice == AREA_RECTANGLE_CHOICE:\n",
    "            width = float(input(\"Введите ширину прямоугольника: \"))\n",
    "            length = float(input(\"Введите длину прямоугольника: \"))\n",
    "            print('Площадь равна', rectangle.area(width, length))\n",
    "        elif choice == PERIMETER_RECTANGLE_CHOICE:\n",
    "            width = float(input(\"Введите ширину прямоугольника: \"))\n",
    "            length = float(input(\"Введите длину прямоугольника: \"))\n",
    "            print('Периметр равен',\n",
    "                  rectangle.perimeter(width, length))\n",
    "        elif choice == QUIT_CHOICE:\n",
    "            print('Выходим из программы...')\n",
    "        else:\n",
    "            print('Ошибка: недопустимый выбор.')\n",
    "\n",
    "# Функция display_menu показывает меню.\n",
    "def display_menu():\n",
    "    print(' МЕНЮ')\n",
    "    print('1) Площадь круга')\n",
    "    print('2) Окружность круга')\n",
    "    print('3) Площадь прямоугольника')\n",
    "    print('4) Периметр прямоугольника')\n",
    "    print('5) Выход')\n",
    "\n",
    "# Вызвать главную функцию.\n",
    "main()"
   ]
  },
  {
   "cell_type": "markdown",
   "metadata": {},
   "source": [
    "## 5.11 Черепашья графика: модуляризация кода при помощи функций"
   ]
  },
  {
   "cell_type": "markdown",
   "metadata": {},
   "source": [
    "### Программа 5-29 (draw_squares.py)"
   ]
  },
  {
   "cell_type": "code",
   "execution_count": 1,
   "metadata": {},
   "outputs": [],
   "source": [
    "import turtle\n",
    "\n",
    "def main():\n",
    "    turtle.hideturtle()\n",
    "    square(100, 0, 50, 'red')\n",
    "    square(-150, -100, 200, 'blue')\n",
    "    square(-200, 150, 75, 'green')\n",
    "\n",
    "# Функция square рисует квадрат. \n",
    "# Параметры x и y - это координаты левого нижнего угла. \n",
    "# Параметр width - это ширина стороны квадрата. \n",
    "# Параметр color - это цвет заливки в видек строки.\n",
    "\n",
    "def square(x, y, width, color):\n",
    "    turtle.penup()             # Поднять перо\n",
    "    turtle.goto(x, y)          # Переместить в указанное место\n",
    "    turtle.fillcolor(color)    # Задать цвет заливки\n",
    "    turtle.pendown()           # Опустить перо\n",
    "    turtle.begin_fill()        # Начать заливку\n",
    "    for count in range(4):     # Нарисовать квадрат\n",
    "        turtle.forward(width)\n",
    "        turtle.left(90)\n",
    "    turtle.end_fill()          # Завершить заливку\n",
    "\n",
    "# Вызвать главную функцию.\n",
    "main()"
   ]
  },
  {
   "cell_type": "markdown",
   "metadata": {},
   "source": [
    "### Программа 5-30 (draw_circles.py)"
   ]
  },
  {
   "cell_type": "code",
   "execution_count": 2,
   "metadata": {},
   "outputs": [],
   "source": [
    "import turtle\n",
    "\n",
    "def main():\n",
    "    turtle.hideturtle()\n",
    "    circle(0, 0, 100, 'red')\n",
    "    circle(-150, -75, 50, 'blue')\n",
    "    circle(-200, 150, 75, 'green')\n",
    "\n",
    "# Функция circle рисует круг. \n",
    "# Параметры x и y - это координаты центральной точки.\n",
    "# Параметр radius - это радиус круга. \n",
    "# Параметр color - это цвет заливки в виде строки.\n",
    "\n",
    "def circle(x, y, radius, color):\n",
    "    turtle.penup()              # Поднять перо\n",
    "    turtle.goto(x, y - radius)  # Спозиционировать черепаху\n",
    "    turtle.fillcolor(color)     # Задать цвет заливки\n",
    "    turtle.pendown()            # Опустить перо\n",
    "    turtle.begin_fill()         # Начать заливку\n",
    "    turtle.circle(radius)       # Нарисовать круг\n",
    "    turtle.end_fill()           # Завершить заливку\n",
    "\n",
    "# Вызвать главную функцию.\n",
    "main()"
   ]
  },
  {
   "cell_type": "markdown",
   "metadata": {},
   "source": [
    "### Программа 5-31 (draw_lines.py) "
   ]
  },
  {
   "cell_type": "code",
   "execution_count": 2,
   "metadata": {},
   "outputs": [],
   "source": [
    "import turtle\n",
    "\n",
    "# Именованные константы для точек треугольника\n",
    "TOP_X = 0\n",
    "TOP_Y = 100\n",
    "BASE_LEFT_X  = -100\n",
    "BASE_LEFT_Y  = -100\n",
    "BASE_RIGHT_X =  100\n",
    "BASE_RIGHT_Y = -100\n",
    "\n",
    "def main():\n",
    "    turtle.hideturtle()\n",
    "    line(TOP_X, TOP_Y, BASE_LEFT_X, BASE_LEFT_Y, 'red')\n",
    "    line(TOP_X, TOP_Y, BASE_RIGHT_X, BASE_RIGHT_Y, 'blue')\n",
    "    line(BASE_LEFT_X, BASE_LEFT_Y, BASE_RIGHT_X, BASE_RIGHT_Y, 'green')\n",
    "\n",
    "# Функция line рисует отрезок от (startX, startY) до (endX, endY).\n",
    "# Параметр color – это цвет отрезка.\n",
    "def line(startX, startY, endX, endY, color):\n",
    "    turtle.penup()               # Поднять перо\n",
    "    turtle.goto(startX, startY)  # Переместить в начальную точку\n",
    "    turtle.pendown()             # Опустить перо\n",
    "    turtle.pencolor(color)       # Задать цвет заливки\n",
    "    turtle.goto(endX, endY)      # Нарисовать треугольник\n",
    "\n",
    "# Вызвать главную функцию.\n",
    "main()"
   ]
  },
  {
   "cell_type": "markdown",
   "metadata": {},
   "source": [
    "### Программа 5-32 (my_graphics.py)"
   ]
  },
  {
   "cell_type": "code",
   "execution_count": null,
   "metadata": {},
   "outputs": [],
   "source": [
    "# Функции черепашьей графики\n",
    "import turtle\n",
    "\n",
    "# Функция square рисует квадрат. \n",
    "# Параметры x и y - это координаты левого нижнего угла. \n",
    "# Параметр width - это ширина стороны квадрата. \n",
    "# Параметр color - это цвет заливки в виде строки.\n",
    "\n",
    "def square(x, y, width, color):\n",
    "    turtle.penup()             # Поднять перо\n",
    "    turtle.goto(x, y)          # Переместить в указанное место\n",
    "    turtle.fillcolor(color)    # Задать цвет заливки\n",
    "    turtle.pendown()           # Опустить перо\n",
    "    turtle.begin_fill()        # Начать заливку\n",
    "    for count in range(4):     # Нарисовать квадрат\n",
    "        turtle.forward(width)\n",
    "        turtle.left(90)\n",
    "    turtle.end_fill()          # Завершить заливку\n",
    "\n",
    "# Функция circle рисует круг. \n",
    "# Параметры x и y - это координаты центральной точки.\n",
    "# Параметр radius - это радиус круга. \n",
    "# Параметр color - это цвет заливки в виде строки.\n",
    "\n",
    "def circle(x, y, radius, color):\n",
    "    turtle.penup()              # Поднять перо\n",
    "    turtle.goto(x, y - radius)  # Спозиционировать черепаху\n",
    "    turtle.fillcolor(color)     # Задать цвет заливки\n",
    "    turtle.pendown()            # Опустить перо\n",
    "    turtle.begin_fill()         # Начать заливку\n",
    "    turtle.circle(radius)       # Нарисовать круг\n",
    "    turtle.end_fill()           # Завершить заливку\n",
    "\n",
    "# Функция line рисует линию от (startX, startY) до (endX, endY).\n",
    "# Параметр color – это цвет линии.\n",
    "\n",
    "def line(startX, startY, endX, endY, color):\n",
    "    turtle.penup()               # Поднять перо\n",
    "    turtle.goto(startX, startY)  # Переместить в начальную точку\n",
    "    turtle.pendown()             # Опустить перо\n",
    "    turtle.pencolor(color)       # Задать цвет заливки\n",
    "    turtle.goto(endX, endY)      # Нарисовать треугольник"
   ]
  },
  {
   "cell_type": "markdown",
   "metadata": {},
   "source": [
    "### Программа 5-33 (graphics_mod_demo.py)"
   ]
  },
  {
   "cell_type": "code",
   "execution_count": 2,
   "metadata": {},
   "outputs": [],
   "source": [
    "import turtle\n",
    "import my_graphics\n",
    "\n",
    "# Именованные константы\n",
    "X1 = 0\n",
    "Y1 = 100\n",
    "X2 = -100\n",
    "Y2 = -100\n",
    "X3 = 100\n",
    "Y3 = -100\n",
    "RADIUS = 50\n",
    "\n",
    "def main():\n",
    "    turtle.hideturtle()\n",
    "\n",
    "    # Нарисовать квадрат.\n",
    "    my_graphics.square(X2, Y2, (X3 - X2), 'gray')\n",
    "\n",
    "    # Нарисовать несколько кругов.\n",
    "    my_graphics.circle(X1, Y1, RADIUS, 'blue')\n",
    "    my_graphics.circle(X2, Y2, RADIUS, 'red')\n",
    "    my_graphics.circle(X3, Y3, RADIUS, 'green')\n",
    "\n",
    "    # Нарисовать несколько линий.\n",
    "    my_graphics.line(X1, Y1, X2, Y2, 'black')\n",
    "    my_graphics.line(X1, Y1, X3, Y3, 'black')\n",
    "    my_graphics.line(X2, Y2, X3, Y3, 'black')\n",
    "\n",
    "main()"
   ]
  },
  {
   "cell_type": "code",
   "execution_count": null,
   "metadata": {},
   "outputs": [],
   "source": []
  }
 ],
 "metadata": {
  "kernelspec": {
   "display_name": "Python 3",
   "language": "python",
   "name": "python3"
  },
  "language_info": {
   "codemirror_mode": {
    "name": "ipython",
    "version": 3
   },
   "file_extension": ".py",
   "mimetype": "text/x-python",
   "name": "python",
   "nbconvert_exporter": "python",
   "pygments_lexer": "ipython3",
   "version": "3.6.4"
  }
 },
 "nbformat": 4,
 "nbformat_minor": 2
}

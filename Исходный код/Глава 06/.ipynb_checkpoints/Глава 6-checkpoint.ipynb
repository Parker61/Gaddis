{
 "cells": [
  {
   "cell_type": "code",
   "execution_count": null,
   "metadata": {},
   "outputs": [],
   "source": [
    "# -*- coding: utf-8 -*-"
   ]
  },
  {
   "cell_type": "markdown",
   "metadata": {},
   "source": [
    "# Глава 6. Файлы и исключения"
   ]
  },
  {
   "cell_type": "markdown",
   "metadata": {},
   "source": [
    "## 6.1 Введение в файловый ввод и вывод"
   ]
  },
  {
   "cell_type": "markdown",
   "metadata": {},
   "source": [
    "### Программа 6-1 (file_write.py)"
   ]
  },
  {
   "cell_type": "code",
   "execution_count": 1,
   "metadata": {},
   "outputs": [],
   "source": [
    "# Эта программа пишет три строки данных\n",
    "# в файл.\n",
    "def main():\n",
    "    # Открыть файл с именем philosophers.txt.\n",
    "    outfile = open('philosophers.txt', 'w')\n",
    "\n",
    "    # Записать имена трех философов\n",
    "    # в файл.\n",
    "    outfile.write('Джон Локк\\n')\n",
    "    outfile.write('Дэвид Хьюм\\n')\n",
    "    outfile.write('Эдмунд Берк\\n')\n",
    "\n",
    "    # Закрыть файл.\n",
    "    outfile.close()\n",
    "\n",
    "# Вызвать главную функцию.\n",
    "main() "
   ]
  },
  {
   "cell_type": "markdown",
   "metadata": {},
   "source": [
    "### Программа 6-2 (file_read.py)"
   ]
  },
  {
   "cell_type": "code",
   "execution_count": 3,
   "metadata": {},
   "outputs": [
    {
     "name": "stdout",
     "output_type": "stream",
     "text": [
      "Джон Локк\n",
      "Дэвид Хьюм\n",
      "Эдмунд Берк\n",
      "\n"
     ]
    }
   ],
   "source": [
    "# Эта программа читает и показывает содержимое\n",
    "# файла philosophers.txt.\n",
    "def main():\n",
    "    # Открыть файл с именем philosophers.txt.\n",
    "    infile = open('philosophers.txt', 'r')\n",
    "\n",
    "    # Прочитать содержимое файла.\n",
    "    file_contents = infile.read()\n",
    "\n",
    "    # Закрыть файл.\n",
    "    infile.close()\n",
    "\n",
    "    # Напечатать данные, прочитанные \n",
    "    # в оперативную память.\n",
    "    print(file_contents)\n",
    "\n",
    "# Вызвать главную функцию.\n",
    "main()"
   ]
  },
  {
   "cell_type": "markdown",
   "metadata": {},
   "source": [
    "### Программа 6-3 (line_read.py)"
   ]
  },
  {
   "cell_type": "code",
   "execution_count": 4,
   "metadata": {},
   "outputs": [
    {
     "name": "stdout",
     "output_type": "stream",
     "text": [
      "Джон Локк\n",
      "\n",
      "Дэвид Хьюм\n",
      "\n",
      "Эдмунд Берк\n",
      "\n"
     ]
    }
   ],
   "source": [
    "# Эта программа построчно читает \n",
    "# содержимое файла philosophers.txt.\n",
    "def main():\n",
    "    # Открыть файл с именем philosophers.txt.\n",
    "    infile = open('philosophers.txt', 'r')\n",
    "\n",
    "    # Прочитать три строки файла.\n",
    "    line1 = infile.readline()\n",
    "    line2 = infile.readline()\n",
    "    line3 = infile.readline()\n",
    "\n",
    "    # Закрыть файл.\n",
    "    infile.close()\n",
    "\n",
    "    # Напечатать данные, считанные \n",
    "    # в оперативную память.\n",
    "    print(line1)\n",
    "    print(line2)\n",
    "    print(line3)\n",
    "\n",
    "# Вызвать главную функцию.\n",
    "main() "
   ]
  },
  {
   "cell_type": "markdown",
   "metadata": {},
   "source": [
    "### Программа 6-4 (write_names.py)"
   ]
  },
  {
   "cell_type": "code",
   "execution_count": 7,
   "metadata": {},
   "outputs": [
    {
     "name": "stdout",
     "output_type": "stream",
     "text": [
      "Введите имена трех друзей.\n",
      "Друг #1: Джо\n",
      "Друг #2: Роуз\n",
      "Друг #3: Джерри\n",
      "Имена были записаны в friends.txt.\n"
     ]
    }
   ],
   "source": [
    "# Эта программа получает от пользователя три имени\n",
    "# и пишет их в файл.\n",
    "\n",
    "def main():\n",
    "    # Получить три имени.\n",
    "    print('Введите имена трех друзей.')\n",
    "    name1 = input('Друг #1: ')\n",
    "    name2 = input('Друг #2: ')\n",
    "    name3 = input('Друг #3: ')\n",
    "\n",
    "    # Открыть файл с именем friends.txt.\n",
    "    myfile = open('friends.txt', 'w')\n",
    "\n",
    "    # Записать имена в файл.\n",
    "    myfile.write(name1 + '\\n')\n",
    "    myfile.write(name2 + '\\n')\n",
    "    myfile.write(name3 + '\\n')\n",
    "\n",
    "    # Закрыть файл.\n",
    "    myfile.close()\n",
    "    print('Имена были записаны в friends.txt.')\n",
    "\n",
    "# Вызвать главную функцию.\n",
    "main()"
   ]
  },
  {
   "cell_type": "markdown",
   "metadata": {},
   "source": [
    "### Program 6-5 (strip_newline.py)"
   ]
  },
  {
   "cell_type": "code",
   "execution_count": 8,
   "metadata": {},
   "outputs": [
    {
     "name": "stdout",
     "output_type": "stream",
     "text": [
      "Джон Локк\n",
      "Дэвид Хьюм\n",
      "Эдмунд Берк\n"
     ]
    }
   ],
   "source": [
    "# Эта программа читает содержимое файла\n",
    "# philosophers.txt построчно.\n",
    "def main():\n",
    "    # Открыть файл с именем philosophers.txt.\n",
    "    infile = open('philosophers.txt', 'r')\n",
    "\n",
    "    # Прочитать три строки из файла.\n",
    "    line1 = infile.readline()\n",
    "    line2 = infile.readline()\n",
    "    line3 = infile.readline()\n",
    "\n",
    "    # Удалить \\n из каждого строкового значения.\n",
    "    line1 = line1.rstrip('\\n')\n",
    "    line2 = line2.rstrip('\\n')\n",
    "    line3 = line3.rstrip('\\n')\n",
    "\n",
    "    # Закрыть файл.\n",
    "    infile.close()\n",
    "\n",
    "    # Напечатать данные, прочитанные в \n",
    "    # оперативную память.\n",
    "    print(line1)\n",
    "    print(line2)\n",
    "    print(line3)\n",
    "\n",
    "# Вызвать главный метод.\n",
    "main()"
   ]
  },
  {
   "cell_type": "markdown",
   "metadata": {},
   "source": [
    "### Программа 6-6 (write_numbers.py)"
   ]
  },
  {
   "cell_type": "code",
   "execution_count": 9,
   "metadata": {},
   "outputs": [
    {
     "name": "stdout",
     "output_type": "stream",
     "text": [
      "Введите число: 22\n",
      "Введите еще одно число: 14\n",
      "Введите еще одно число: -99\n",
      "Данные записаны в numbers.txt\n"
     ]
    }
   ],
   "source": [
    "# Эта программа демонстрирует конвертацию \n",
    "# числовых значений в строковые перед их\n",
    "# записью в текстовый файл.\n",
    "\n",
    "def main():\n",
    "    # Открыть файл для записи.\n",
    "    outfile = open('numbers.txt', 'w')\n",
    "\n",
    "    # Получить от пользователя три числа.\n",
    "    num1 = int(input('Введите число: '))\n",
    "    num2 = int(input('Введите еще одно число: '))\n",
    "    num3 = int(input('Введите еще одно число: '))\n",
    "\n",
    "    # Записать эти числа в файл.\n",
    "    outfile.write(str(num1) + '\\n')\n",
    "    outfile.write(str(num2) + '\\n')\n",
    "    outfile.write(str(num3) + '\\n')\n",
    "\n",
    "    # Закрыть файл.\n",
    "    outfile.close()\n",
    "    print('Данные записаны в numbers.txt')\n",
    "\n",
    "# Вызвать главную функцию.\n",
    "main()"
   ]
  },
  {
   "cell_type": "markdown",
   "metadata": {},
   "source": [
    "### Программа 6-7 (read_numbers.py)"
   ]
  },
  {
   "cell_type": "code",
   "execution_count": 10,
   "metadata": {},
   "outputs": [
    {
     "name": "stdout",
     "output_type": "stream",
     "text": [
      "Числа: 22 14 -99\n",
      "Их сумма: -63\n"
     ]
    }
   ],
   "source": [
    "# Эта программа демонстрирует, как прочитанные из файла \n",
    "# числа конвертируются из строкового представления\n",
    "# перед тем, как они используются в математической операции.\n",
    "\n",
    "def main():\n",
    "    # Открыть файл для чтения.\n",
    "    infile = open('numbers.txt', 'r')\n",
    "\n",
    "    # Прочитать три числа из файла.\n",
    "    num1 = int(infile.readline())\n",
    "    num2 = int(infile.readline())\n",
    "    num3 = int(infile.readline())\n",
    "\n",
    "    # Закрыть файл.\n",
    "    infile.close()\n",
    "\n",
    "    # Сложить три числа.\n",
    "    total = num1 + num2 + num3\n",
    "\n",
    "    # Показать числа и их сумму.\n",
    "    print('Числа:', num1, num2, num3)\n",
    "    print('Их сумма:', total)\n",
    "\n",
    "# Вызвать главную функцию.\n",
    "main()"
   ]
  },
  {
   "cell_type": "markdown",
   "metadata": {},
   "source": [
    "## 6.2 Применение циклов для обработки файлов"
   ]
  },
  {
   "cell_type": "markdown",
   "metadata": {},
   "source": [
    "### Программа 6-8 (write_sales.py)"
   ]
  },
  {
   "cell_type": "code",
   "execution_count": 12,
   "metadata": {},
   "outputs": [
    {
     "name": "stdout",
     "output_type": "stream",
     "text": [
      "За какое количество дней Вы располагаете продажами? 5\n",
      "Введите продажи за день №1: 1000\n",
      "Введите продажи за день №2: 2000\n",
      "Введите продажи за день №3: 3000\n",
      "Введите продажи за день №4: 4000\n",
      "Введите продажи за день №5: 5000\n",
      "Данные записаны в sales.txt.\n"
     ]
    }
   ],
   "source": [
    "# Эта программа предлагает пользователю ввести суммы \n",
    "# продаж и записывает эти суммы в файл sales.txt.\n",
    "\n",
    "def main():\n",
    "    # Получить количество дней.\n",
    "    num_days = int(input('За какое количество дней ' +\n",
    "                         'Вы располагаете продажами? '))\n",
    "\n",
    "    # Открыть новый файл с именем sales.txt.\n",
    "    sales_file = open('sales.txt', 'w')\n",
    "\n",
    "    # Получить суммы продаж за каждый день и\n",
    "    # записать их в файл.\n",
    "    for count in range(1, num_days + 1):\n",
    "        # Получить продажи за день.\n",
    "        sales = float(input('Введите продажи за день №' +\n",
    "                            str(count) + ': '))\n",
    "\n",
    "        # Записать сумму продаж в файл.\n",
    "        sales_file.write(str(sales) + '\\n')\n",
    "\n",
    "    # Закрыть файл.\n",
    "    sales_file.close()\n",
    "    print('Данные записаны в sales.txt.')\n",
    "\n",
    "# Вызвать главную функцию.\n",
    "main()"
   ]
  },
  {
   "cell_type": "markdown",
   "metadata": {},
   "source": [
    "### Программа 6-9 (read_sales.py)"
   ]
  },
  {
   "cell_type": "code",
   "execution_count": 13,
   "metadata": {},
   "outputs": [
    {
     "name": "stdout",
     "output_type": "stream",
     "text": [
      "1000.00\n",
      "2000.00\n",
      "3000.00\n",
      "4000.00\n",
      "5000.00\n"
     ]
    }
   ],
   "source": [
    "# Эта программа читает все значения из\n",
    "# файла sales.txt.\n",
    "\n",
    "def main():\n",
    "    # Открыть файл sales.txt для чтения.\n",
    "    sales_file = open('sales.txt', 'r')\n",
    "\n",
    "    # Прочитать первую строку из файла, но\n",
    "    # пока не конвертировать в число. С начала нужно\n",
    "    # выполнить проверку на пустое строковое значение.\n",
    "    line = sales_file.readline()\n",
    "\n",
    "    # Продолжать обработку до тех пор, пока из readline\n",
    "    # не будет возвращена пустая строка.\n",
    "    while line != '':\n",
    "        # Конвертировать строку в число с плавающей точкой.\n",
    "        amount = float(line)\n",
    "\n",
    "        # Отформатировать и показать сумму.\n",
    "        print(format(amount, '.2f'))\n",
    "\n",
    "        # Прочитать следующую строку.\n",
    "        line = sales_file.readline()\n",
    "\n",
    "    # Закрыть файл.\n",
    "    sales_file.close()\n",
    "\n",
    "# Вызвать главную функцию.\n",
    "main()"
   ]
  },
  {
   "cell_type": "markdown",
   "metadata": {},
   "source": [
    "### Программа 6-10 (read_sales2.py)"
   ]
  },
  {
   "cell_type": "code",
   "execution_count": 15,
   "metadata": {},
   "outputs": [
    {
     "name": "stdout",
     "output_type": "stream",
     "text": [
      "1000.00\n",
      "2000.00\n",
      "3000.00\n",
      "4000.00\n",
      "5000.00\n"
     ]
    }
   ],
   "source": [
    "# Эта программа применяет цикл for для чтения\n",
    "# всех значений в файле sales.txt.\n",
    "\n",
    "def main():\n",
    "    # Открыть файд sales.txt для чтения.\n",
    "    sales_file = open('sales.txt', 'r')\n",
    "\n",
    "    # Прочитать все строки из файла.\n",
    "    for line in sales_file:\n",
    "        # Конвертировать строку в число с плавающей точкой.\n",
    "        amount = float(line)\n",
    "        # Отформатировать и показать сумму.\n",
    "        print(format(amount, '.2f'))\n",
    "\n",
    "    # Закрыть файл.\n",
    "    sales_file.close()\n",
    "\n",
    "# Вызвать главную функцию.\n",
    "main()"
   ]
  },
  {
   "cell_type": "markdown",
   "metadata": {},
   "source": [
    "### Программа 6-11 (save_running_times.py)"
   ]
  },
  {
   "cell_type": "code",
   "execution_count": 2,
   "metadata": {},
   "outputs": [
    {
     "name": "stdout",
     "output_type": "stream",
     "text": [
      "Сколько видеоклипов в проекте? 6\n",
      "Введите длительность каждого видеоклипа.\n",
      "Видеоклип №1: 24.5\n",
      "Видеоклип №2: 12.2\n",
      "Видеоклип №3: 14.6\n",
      "Видеоклип №4: 20.4\n",
      "Видеоклип №5: 22.2\n",
      "Видеоклип №6: 19.3\n",
      "Времена сохранены в video_times.txt.\n"
     ]
    }
   ],
   "source": [
    "# Эта программа сохраняет последовательность, состоящую из\n",
    "# длительностей видеоклипов, в файле video_times.txt.\n",
    "\n",
    "def main():\n",
    "    # Получить количество видеоклипов в проекте.\n",
    "    num_videos = int(input('Сколько видеоклипов в проекте? '))\n",
    "\n",
    "    # Открыть файл для записи длительностей видеоклипов.\n",
    "    video_file = open('video_times.txt', 'w')\n",
    "\n",
    "    # Получить длительность каждого видеоклипа\n",
    "    # и записать его в файл.\n",
    "    print('Введите длительность каждого видеоклипа.')\n",
    "    for count in range(1, num_videos + 1):\n",
    "        run_time = float(input('Видеоклип №' + str(count) + ': '))\n",
    "        video_file.write(str(run_time) + '\\n')\n",
    "\n",
    "    # Закрыть файл.\n",
    "    video_file.close()\n",
    "    print('Времена сохранены в video_times.txt.')\n",
    "\n",
    "# Вызвать главную функцию.\n",
    "main()"
   ]
  },
  {
   "cell_type": "markdown",
   "metadata": {},
   "source": [
    "### Программа 6-12 (read_running_times.py)"
   ]
  },
  {
   "cell_type": "code",
   "execution_count": 3,
   "metadata": {},
   "outputs": [
    {
     "name": "stdout",
     "output_type": "stream",
     "text": [
      "Длительности всех видеоклипов:\n",
      "Видеоклип №1: 24.5\n",
      "Видеоклип №2: 12.2\n",
      "Видеоклип №3: 14.6\n",
      "Видеоклип №4: 20.4\n",
      "Видеоклип №5: 22.2\n",
      "Видеоклип №6: 19.3\n",
      "Общая длительность составляет 113.2 секунд.\n"
     ]
    }
   ],
   "source": [
    "# Эта программа читает значения в файле \n",
    "# video_times.txt и вычисляет их сумму.\n",
    "\n",
    "def main():\n",
    "    # Открыть файл video_times.txt для чтения.\n",
    "    video_file = open('video_times.txt', 'r')\n",
    "\n",
    "    # Инициализировать накопитель значением 0.0.\n",
    "    total = 0.0\n",
    "\n",
    "    # Инициализировать переменную для подсчета видеоклипов.\n",
    "    count = 0\n",
    "\n",
    "    print('Длительности всех видеоклипов:')\n",
    "\n",
    "    # Получить значения из файла и их просуммировать.\n",
    "    for line in video_file:\n",
    "        # Преобразовать строку в число с плавающей точкой.\n",
    "        run_time = float(line)\n",
    "\n",
    "        # Прибавить 1 к переменной count.\n",
    "        count += 1\n",
    "\n",
    "        # Показать длительность.\n",
    "        print('Видеоклип №', count, ': ', run_time, sep='')\n",
    "\n",
    "        # Прибавить длительность к total.\n",
    "        total += run_time\n",
    "\n",
    "    # Закрыть файл.\n",
    "    video_file.close()\n",
    "\n",
    "    # Показать итоговую длительность.\n",
    "    print('Общая длительность составляет', total, 'секунд.')\n",
    "\n",
    "# Вызвать главную функцию.\n",
    "main()"
   ]
  },
  {
   "cell_type": "markdown",
   "metadata": {},
   "source": [
    "## 6.3 Обработка записей"
   ]
  },
  {
   "cell_type": "markdown",
   "metadata": {},
   "source": [
    "### Программа 6-13 (save_emp_records.py)"
   ]
  },
  {
   "cell_type": "code",
   "execution_count": 1,
   "metadata": {},
   "outputs": [
    {
     "name": "stdout",
     "output_type": "stream",
     "text": [
      "Сколько записей о сотрудниках Вы хотите создать? 3\n",
      "Введите данные о сотруднике №1\n",
      "Имя: Ингрид Вирго\n",
      "Идентификационный номер: 4587\n",
      "Отдел: проектный\n",
      "\n",
      "Введите данные о сотруднике №2\n",
      "Имя: Джулия Рич\n",
      "Идентификационный номер: 4588\n",
      "Отдел: исследовательский\n",
      "\n",
      "Введите данные о сотруднике №3\n",
      "Имя: Грег Янг\n",
      "Идентификационный номер: 4589\n",
      "Отдел: маркетинговый\n",
      "\n",
      "Записи о сотрудниках записаны в employees.txt.\n"
     ]
    }
   ],
   "source": [
    "# Эта программа получает от пользователя данные о сотрудниках\n",
    "# и их сохраняет в виде записей в файле employee.txt.\n",
    "\n",
    "def main():\n",
    "    # Получить количество записей о сотрудниках для создания.\n",
    "    num_emps = int(input('Сколько записей о сотрудниках ' +\n",
    "                         'Вы хотите создать? '))\n",
    "\n",
    "    # Открыть файл для записи.\n",
    "    emp_file = open('employees.txt', 'w')\n",
    "\n",
    "    # Получить данные каждого сотрудника и\n",
    "    # записать их в файл.\n",
    "    for count in range(1, num_emps + 1):\n",
    "        # Получить данные о сотруднике.\n",
    "        print('Введите данные о сотруднике №', count, sep='')\n",
    "        name = input('Имя: ')\n",
    "        id_num = input('Идентификационный номер: ')\n",
    "        dept = input('Отдел: ')\n",
    "\n",
    "        # Записать в файл данные как запись.\n",
    "        emp_file.write(name + '\\n')\n",
    "        emp_file.write(id_num + '\\n')\n",
    "        emp_file.write(dept + '\\n')\n",
    "\n",
    "        # Показать пустую строку.\n",
    "        print()\n",
    "\n",
    "    # Закрыть файл.\n",
    "    emp_file.close()\n",
    "    print('Записи о сотрудниках записаны в employees.txt.')\n",
    "\n",
    "# Вызвать главную функцию.\n",
    "main()"
   ]
  },
  {
   "cell_type": "markdown",
   "metadata": {},
   "source": [
    "### Программа 6-14 (read_emp_records.py)"
   ]
  },
  {
   "cell_type": "code",
   "execution_count": 4,
   "metadata": {},
   "outputs": [
    {
     "name": "stdout",
     "output_type": "stream",
     "text": [
      "Имя: Ингрид Вирго\n",
      "ИД: 4587\n",
      "Отдел: проектный\n",
      "\n",
      "Имя: Джулия Рич\n",
      "ИД: 4588\n",
      "Отдел: исследовательский\n",
      "\n",
      "Имя: Грег Янг\n",
      "ИД: 4589\n",
      "Отдел: маркетинговый\n",
      "\n"
     ]
    }
   ],
   "source": [
    "# Эта программа показывает записи, которые\n",
    "# находятся в файле employees.txt.\n",
    "\n",
    "def main():\n",
    "    # Открыть файл employees.txt.\n",
    "    emp_file = open('employees.txt', 'r')\n",
    "\n",
    "    # Прочитать первую строку в файле, т.е.\n",
    "    # поле с именем сотрудника первой записи.\n",
    "    name = emp_file.readline()\n",
    "\n",
    "    # Если поле прочитано, то продолжить обработку.\n",
    "    while name != '':\n",
    "        # Прочитать поле с идентификационным номером.\n",
    "        id_num = emp_file.readline()\n",
    "\n",
    "        # Прочитать поле с названием отдела.\n",
    "        dept = emp_file.readline()\n",
    "\n",
    "        # Удалить символы новой строки из полей.\n",
    "        name = name.rstrip('\\n')\n",
    "        id_num = id_num.rstrip('\\n')\n",
    "        dept = dept.rstrip('\\n')\n",
    "\n",
    "        # Показать запись.\n",
    "        print('Имя:', name)\n",
    "        print('ИД:', id_num)\n",
    "        print('Отдел:', dept)\n",
    "        print()\n",
    "\n",
    "        # Прочитать поле с именем следующей записи.\n",
    "        name = emp_file.readline()\n",
    "\n",
    "    # Закрыть файл.\n",
    "    emp_file.close()\n",
    "\n",
    "# Вызвать главную функцию.\n",
    "main()"
   ]
  },
  {
   "cell_type": "markdown",
   "metadata": {},
   "source": [
    "### Программа 6-15 (add_coffee_record.py)"
   ]
  },
  {
   "cell_type": "code",
   "execution_count": 6,
   "metadata": {},
   "outputs": [
    {
     "name": "stdout",
     "output_type": "stream",
     "text": [
      "Введите следующие данные о кофе:\n",
      "Описание: Бразильский кофе темной обжарки\n",
      "Количество (в фунтах): 18\n",
      "Желаете ли Вы добавить еще одну запись?\n",
      "Д = да, все остальное = нет: Д\n",
      "Введите следующие данные о кофе:\n",
      "Описание: Суматранский кофе средней обжарки\n",
      "Количество (в фунтах): 25\n",
      "Желаете ли Вы добавить еще одну запись?\n",
      "Д = да, все остальное = нет: н\n",
      "Данные добавлены в coffee.txt.\n"
     ]
    }
   ],
   "source": [
    "# Эта программа добавляет записии о запасах кофе\n",
    "# в файл coffee.txt.\n",
    "\n",
    "def main():\n",
    "    # Создать переменную для управления циклом.\n",
    "    another = 'д'\n",
    "\n",
    "    # Открыть файл coffee.txt file в режиме дозаписи.\n",
    "    coffee_file = open('coffee.txt', 'a')\n",
    "\n",
    "    # Добавить записи в файл.\n",
    "    while another == 'д' or another == 'Д':\n",
    "        # Получить данные с записью о кофе.\n",
    "        print('Введите следующие данные о кофе:')\n",
    "        descr = input('Описание: ')\n",
    "        qty = int(input('Количество (в фунтах): '))\n",
    "\n",
    "        # Добавить данные в файл.\n",
    "        coffee_file.write(descr + '\\n')\n",
    "        coffee_file.write(str(qty) + '\\n')\n",
    "\n",
    "        # Определить, желает ли пользователь добавить \n",
    "        # в файл еще одну запись.\n",
    "        print('Желаете ли Вы добавить еще одну запись?')\n",
    "        another = input('Д = да, все остальное = нет: ')\n",
    "\n",
    "    # Закрыть файл.\n",
    "    coffee_file.close()\n",
    "    print('Данные добавлены в coffee.txt.')\n",
    "\n",
    "# Вызвать главную функцию.\n",
    "main()"
   ]
  },
  {
   "cell_type": "markdown",
   "metadata": {},
   "source": [
    "### Программа 6-16 (show_coffee_records.py)"
   ]
  },
  {
   "cell_type": "code",
   "execution_count": 7,
   "metadata": {},
   "outputs": [
    {
     "name": "stdout",
     "output_type": "stream",
     "text": [
      "Описание: Бразильский кофе темной обжарки\n",
      "Количество: 18.0\n",
      "Описание: Суматранский кофе средней обжарки\n",
      "Количество: 25.0\n"
     ]
    }
   ],
   "source": [
    "# Эта программа показывает записи в \n",
    "# файле coffee.txt. \n",
    "\n",
    "def main():\n",
    "    # Открыть файл coffee.txt.\n",
    "    coffee_file = open('coffee.txt', 'r')\n",
    "\n",
    "    # Прочитать поле с описанием первой записи.\n",
    "    descr = coffee_file.readline()\n",
    "\n",
    "    # Прочитать остаток файла.\n",
    "    while descr != '':\n",
    "        # Прочитать поле с количеством.\n",
    "        qty = float(coffee_file.readline())\n",
    "\n",
    "        # Удалить \\n из описания.\n",
    "        descr = descr.rstrip('\\n')\n",
    "\n",
    "        # Показать запись.\n",
    "        print('Описание:', descr)\n",
    "        print('Количество:', qty)\n",
    "\n",
    "        # Прочитать следующее описание.\n",
    "        descr = coffee_file.readline()\n",
    "\n",
    "    # Закрыть файл.\n",
    "    coffee_file.close()\n",
    "\n",
    "# Вызвать главную функцию.\n",
    "main()"
   ]
  },
  {
   "cell_type": "markdown",
   "metadata": {},
   "source": [
    "### Программа 6-17 (search_coffee_records.py)"
   ]
  },
  {
   "cell_type": "code",
   "execution_count": 1,
   "metadata": {},
   "outputs": [
    {
     "name": "stdout",
     "output_type": "stream",
     "text": [
      "Введите искомое описание: Мексиканский Алтура\n",
      "Это значение в файле не найдено.\n"
     ]
    }
   ],
   "source": [
    "# Эта программа позволяет пользователю производить поиск\n",
    "# в файле coffee.txt file записей, которые соответствуют\n",
    "# описанию.\n",
    "\n",
    "def main():\n",
    "    # Создать булеву переменную для использования в качестве фла-га.\n",
    "    found = False\n",
    "\n",
    "    # Получить искомое значение.\n",
    "    search = input('Введите искомое описание: ')\n",
    "\n",
    "    # Открыть файл coffee.txt.\n",
    "    coffee_file = open('coffee.txt', 'r')\n",
    "\n",
    "    # Прочитать поле с описанием кофе первой записи.\n",
    "    descr = coffee_file.readline()\n",
    "\n",
    "    # Прочитать остаток файла.\n",
    "    while descr != '':\n",
    "        # Прочитать поле с количеством.\n",
    "        qty = float(coffee_file.readline())\n",
    "\n",
    "        # Удалить \\n из описания.\n",
    "        descr = descr.rstrip('\\n')\n",
    "\n",
    "        # Определить, соответствует ли эта запись\n",
    "        # поисковому значению.\n",
    "        if descr == search:\n",
    "            # Показать запись.\n",
    "            print('Описание:', descr)\n",
    "            print('Количество:', qty)\n",
    "            print()\n",
    "            # Назначить флагу found значение True.\n",
    "            found = True\n",
    "\n",
    "        # Прочитать следующее описание.\n",
    "        descr = coffee_file.readline()\n",
    "\n",
    "    # Закрыть файл.\n",
    "    coffee_file.close()\n",
    "\n",
    "    # Если поисковое значение в файле не найдено,\n",
    "    # то показать сообщение.\n",
    "    if not found:\n",
    "        print('Это значение в файле не найдено.')\n",
    "\n",
    "# Вызвать главную функцию.\n",
    "main()"
   ]
  },
  {
   "cell_type": "markdown",
   "metadata": {},
   "source": [
    "### Программа 6-18 (modify_coffee_records.py)"
   ]
  },
  {
   "cell_type": "code",
   "execution_count": 1,
   "metadata": {},
   "outputs": [
    {
     "name": "stdout",
     "output_type": "stream",
     "text": [
      "Введите искомое описание: Бразильский кофе темной обжарки\n",
      "Введите новое количество: 10\n",
      "Файл обновлен.\n"
     ]
    }
   ],
   "source": [
    "# Эта программа позволяет пользователю изменять количество\n",
    "# в записи в файле coffee.txt.\n",
    "\n",
    "import os # Это модуль нужен для функций remove и rename\n",
    "\n",
    "def main():\n",
    "    # Создать булеву переменную для использования в качестве фла-га.\n",
    "    found = False\n",
    "\n",
    "    # Получить искомое значение и новое количество.\n",
    "    search = input('Введите искомое описание: ')\n",
    "    new_qty = int(input('Введите новое количество: '))\n",
    "\n",
    "    # Открыть исходный файл coffee.txt.\n",
    "    coffee_file = open('coffee.txt', 'r')\n",
    "\n",
    "    # Открыть временный файл.\n",
    "    temp_file = open('temp.txt', 'w')\n",
    "\n",
    "    # Прочитать поле с описанием первой записи.\n",
    "    descr = coffee_file.readline()\n",
    "\n",
    "    # Прочитать остаток файла.\n",
    "    while descr != '':\n",
    "        # Прочитать поле с количеством.\n",
    "        qty = float(coffee_file.readline())\n",
    "\n",
    "        # Удалить \\n из описания.\n",
    "        descr = descr.rstrip('\\n')\n",
    "\n",
    "        # Записать во временный файл либо эту запись,\n",
    "        # либо новую запись, если эта запись \n",
    "        # подлежит изменению.\n",
    "        if descr == search:\n",
    "            # Записать измененную запись во временный файл.\n",
    "            temp_file.write(descr + '\\n')\n",
    "            temp_file.write(str(new_qty) + '\\n')\n",
    "\n",
    "            # Назначить флагу found значение True.\n",
    "            found = True\n",
    "        else:\n",
    "            # Записать исходную запись во временный файл.\n",
    "            temp_file.write(descr + '\\n')\n",
    "            temp_file.write(str(qty) + '\\n')\n",
    "\n",
    "        # Прочитать следующее описание.\n",
    "        descr = coffee_file.readline()\n",
    "\n",
    "    # Закрыть файл с данными о кофе и временный файл.\n",
    "    coffee_file.close()\n",
    "    temp_file.close()\n",
    "\n",
    "    # Удалить исходный файл coffee.txt.\n",
    "    os.remove('coffee.txt')\n",
    "\n",
    "    # Переименовать временный файл.\n",
    "    os.rename('temp.txt', 'coffee.txt')\n",
    "\n",
    "    # Если искомое значение в файле не найдено,\n",
    "    # то показать сообщение.\n",
    "    if found:\n",
    "        print('Файл обновлен.')\n",
    "    else:\n",
    "        print('Это значение в файле не найдено.')\n",
    "\n",
    "# Вызвать главную функцию.\n",
    "main()"
   ]
  },
  {
   "cell_type": "markdown",
   "metadata": {},
   "source": [
    "### Программа 6-19 (delete_coffee_record.py)"
   ]
  },
  {
   "cell_type": "code",
   "execution_count": 2,
   "metadata": {},
   "outputs": [
    {
     "name": "stdout",
     "output_type": "stream",
     "text": [
      "Какой бренд кофе Вы желаете удалить? Бразильский кофе темной обжарки\n",
      "Файл обновлен.\n"
     ]
    }
   ],
   "source": [
    "# Эта программа позволяет пользователю удалить\n",
    "# запись в файле coffee.txt.\n",
    "\n",
    "import os # Этот модуль нужен для функций remove и rename\n",
    "\n",
    "def main():\n",
    "    # Создать булеву переменную для использования в качестве флага.\n",
    "    found = False\n",
    "\n",
    "    # Получить бренд кофе, которые нужно удалить.\n",
    "    search = input('Какой бренд кофе Вы желаете удалить? ')\n",
    "\n",
    "    # Открыть исходный файл coffee.txt.\n",
    "    coffee_file = open('coffee.txt', 'r')\n",
    "\n",
    "    # Открыть временный файл.\n",
    "    temp_file = open('temp.txt', 'w')\n",
    "\n",
    "    # Прочитать поле с описанием первой записи.\n",
    "    descr = coffee_file.readline()\n",
    "\n",
    "    # Прочитать остаток файла.\n",
    "    while descr != '':\n",
    "        # Прочитать поле с количеством.\n",
    "        qty = float(coffee_file.readline())\n",
    "\n",
    "        # Удалить \\n из описания.\n",
    "        descr = descr.rstrip('\\n')\n",
    "\n",
    "        # Если эта запись не предназначена для удаления,\n",
    "        # то записать ее во временный файл.\n",
    "        if descr != search:\n",
    "            # Записать исходную запись во временный файл.\n",
    "            temp_file.write(descr + '\\n')\n",
    "            temp_file.write(str(qty) + '\\n')\n",
    "        else:\n",
    "            # Назначить флагу found значение True.\n",
    "            found = True\n",
    "\n",
    "        # Прочитать следующее описание.\n",
    "        descr = coffee_file.readline()\n",
    "\n",
    "    # Закрыть файл с данными о кофе и временный файл.\n",
    "    coffee_file.close()\n",
    "    temp_file.close()\n",
    "\n",
    "    # Удалить исходный файл coffee.txt.\n",
    "    os.remove('coffee.txt')\n",
    "\n",
    "    # Переименовать временный файл.\n",
    "    os.rename('temp.txt', 'coffee.txt')\n",
    "\n",
    "    # Если искомое значение в файле не найдено,\n",
    "    # то показать сообщение.\n",
    "    if found:\n",
    "        print('Файл обновлен.')\n",
    "    else:\n",
    "        print('Это значение в файле не найдено.')\n",
    "\n",
    "# Вызвать главную функцию.\n",
    "main()"
   ]
  },
  {
   "cell_type": "markdown",
   "metadata": {},
   "source": [
    "## 6.4 Исключения"
   ]
  },
  {
   "cell_type": "markdown",
   "metadata": {},
   "source": [
    "### Программа 6-20 (division.py)"
   ]
  },
  {
   "cell_type": "code",
   "execution_count": 3,
   "metadata": {},
   "outputs": [
    {
     "name": "stdout",
     "output_type": "stream",
     "text": [
      "Введите число: 10\n",
      "Введите еще одно число: 0\n"
     ]
    },
    {
     "ename": "ZeroDivisionError",
     "evalue": "division by zero",
     "output_type": "error",
     "traceback": [
      "\u001b[1;31m---------------------------------------------------------------------------\u001b[0m",
      "\u001b[1;31mZeroDivisionError\u001b[0m                         Traceback (most recent call last)",
      "\u001b[1;32m<ipython-input-3-2cc17fa9fd27>\u001b[0m in \u001b[0;36m<module>\u001b[1;34m()\u001b[0m\n\u001b[0;32m     11\u001b[0m \u001b[1;33m\u001b[0m\u001b[0m\n\u001b[0;32m     12\u001b[0m \u001b[1;31m# Вызвать главную функцию.\u001b[0m\u001b[1;33m\u001b[0m\u001b[1;33m\u001b[0m\u001b[0m\n\u001b[1;32m---> 13\u001b[1;33m \u001b[0mmain\u001b[0m\u001b[1;33m(\u001b[0m\u001b[1;33m)\u001b[0m\u001b[1;33m\u001b[0m\u001b[0m\n\u001b[0m",
      "\u001b[1;32m<ipython-input-3-2cc17fa9fd27>\u001b[0m in \u001b[0;36mmain\u001b[1;34m()\u001b[0m\n\u001b[0;32m      7\u001b[0m \u001b[1;33m\u001b[0m\u001b[0m\n\u001b[0;32m      8\u001b[0m     \u001b[1;31m# Разделить num1 на num2 и показать результат.\u001b[0m\u001b[1;33m\u001b[0m\u001b[1;33m\u001b[0m\u001b[0m\n\u001b[1;32m----> 9\u001b[1;33m     \u001b[0mresult\u001b[0m \u001b[1;33m=\u001b[0m \u001b[0mnum1\u001b[0m \u001b[1;33m/\u001b[0m \u001b[0mnum2\u001b[0m\u001b[1;33m\u001b[0m\u001b[0m\n\u001b[0m\u001b[0;32m     10\u001b[0m     \u001b[0mprint\u001b[0m\u001b[1;33m(\u001b[0m\u001b[0mnum1\u001b[0m\u001b[1;33m,\u001b[0m \u001b[1;34m'деленое на'\u001b[0m\u001b[1;33m,\u001b[0m \u001b[0mnum2\u001b[0m\u001b[1;33m,\u001b[0m \u001b[1;34m'равняется'\u001b[0m\u001b[1;33m,\u001b[0m \u001b[0mresult\u001b[0m\u001b[1;33m)\u001b[0m\u001b[1;33m\u001b[0m\u001b[0m\n\u001b[0;32m     11\u001b[0m \u001b[1;33m\u001b[0m\u001b[0m\n",
      "\u001b[1;31mZeroDivisionError\u001b[0m: division by zero"
     ]
    }
   ],
   "source": [
    "# Эта программа делит одно число на другое.\n",
    "\n",
    "def main():\n",
    "    # Получить два числа.\n",
    "    num1 = int(input('Введите число: '))\n",
    "    num2 = int(input('Введите еще одно число: '))\n",
    "\n",
    "    # Разделить num1 на num2 и показать результат.\n",
    "    result = num1 / num2\n",
    "    print(num1, 'деленое на', num2, 'равняется', result)\n",
    "\n",
    "# Вызвать главную функцию.\n",
    "main()"
   ]
  },
  {
   "cell_type": "markdown",
   "metadata": {},
   "source": [
    "### Программа 6-21 (division2.py)"
   ]
  },
  {
   "cell_type": "code",
   "execution_count": 4,
   "metadata": {},
   "outputs": [
    {
     "name": "stdout",
     "output_type": "stream",
     "text": [
      "Введите число: 10\n",
      "Введите еще одно число: 0\n",
      "Нельзя делить на ноль.\n"
     ]
    }
   ],
   "source": [
    "# Эта программа делит одно число на другое.\n",
    "\n",
    "def main():\n",
    "    # Получить два числа.\n",
    "    num1 = int(input('Введите число: '))\n",
    "    num2 = int(input('Введите еще одно число: '))\n",
    "\n",
    "    # Если переменная num2 не равна 0, то разделить \n",
    "    # num1 на num2 и показать результат.\n",
    "    if num2 != 0:\n",
    "        result = num1 / num2\n",
    "        print(num1, 'деленое', num2, 'равняется', result)\n",
    "    else:\n",
    "        print('Нельзя делить на ноль.')\n",
    "\n",
    "# Вызвать главную функцию.\n",
    "main()"
   ]
  },
  {
   "cell_type": "markdown",
   "metadata": {},
   "source": [
    "### Программа 6-22 (gross_pay1.py)"
   ]
  },
  {
   "cell_type": "code",
   "execution_count": 5,
   "metadata": {},
   "outputs": [
    {
     "name": "stdout",
     "output_type": "stream",
     "text": [
      "Сколько часов вы отработали? сорок\n"
     ]
    },
    {
     "ename": "ValueError",
     "evalue": "invalid literal for int() with base 10: 'сорок'",
     "output_type": "error",
     "traceback": [
      "\u001b[1;31m---------------------------------------------------------------------------\u001b[0m",
      "\u001b[1;31mValueError\u001b[0m                                Traceback (most recent call last)",
      "\u001b[1;32m<ipython-input-5-ac6166e92e8d>\u001b[0m in \u001b[0;36m<module>\u001b[1;34m()\u001b[0m\n\u001b[0;32m     15\u001b[0m \u001b[1;33m\u001b[0m\u001b[0m\n\u001b[0;32m     16\u001b[0m \u001b[1;31m# Вызвать главную функцию.\u001b[0m\u001b[1;33m\u001b[0m\u001b[1;33m\u001b[0m\u001b[0m\n\u001b[1;32m---> 17\u001b[1;33m \u001b[0mmain\u001b[0m\u001b[1;33m(\u001b[0m\u001b[1;33m)\u001b[0m\u001b[1;33m\u001b[0m\u001b[0m\n\u001b[0m",
      "\u001b[1;32m<ipython-input-5-ac6166e92e8d>\u001b[0m in \u001b[0;36mmain\u001b[1;34m()\u001b[0m\n\u001b[0;32m      3\u001b[0m \u001b[1;32mdef\u001b[0m \u001b[0mmain\u001b[0m\u001b[1;33m(\u001b[0m\u001b[1;33m)\u001b[0m\u001b[1;33m:\u001b[0m\u001b[1;33m\u001b[0m\u001b[0m\n\u001b[0;32m      4\u001b[0m     \u001b[1;31m# Получить количество отработанных часов.\u001b[0m\u001b[1;33m\u001b[0m\u001b[1;33m\u001b[0m\u001b[0m\n\u001b[1;32m----> 5\u001b[1;33m     \u001b[0mhours\u001b[0m \u001b[1;33m=\u001b[0m \u001b[0mint\u001b[0m\u001b[1;33m(\u001b[0m\u001b[0minput\u001b[0m\u001b[1;33m(\u001b[0m\u001b[1;34m'Сколько часов вы отработали? '\u001b[0m\u001b[1;33m)\u001b[0m\u001b[1;33m)\u001b[0m\u001b[1;33m\u001b[0m\u001b[0m\n\u001b[0m\u001b[0;32m      6\u001b[0m \u001b[1;33m\u001b[0m\u001b[0m\n\u001b[0;32m      7\u001b[0m     \u001b[1;31m# Получить почасовую ставку заработной платы.\u001b[0m\u001b[1;33m\u001b[0m\u001b[1;33m\u001b[0m\u001b[0m\n",
      "\u001b[1;31mValueError\u001b[0m: invalid literal for int() with base 10: 'сорок'"
     ]
    }
   ],
   "source": [
    "# Эта программа вычисляет заработную плату до удержаний.\n",
    "\n",
    "def main():\n",
    "    # Получить количество отработанных часов.\n",
    "    hours = int(input('Сколько часов вы отработали? '))\n",
    "\n",
    "    # Получить почасовую ставку оплаты труда.\n",
    "    pay_rate = float(input('Введите свою почасовую ставку: '))\n",
    "\n",
    "    # Вычислить заработную плату до удержаний.\n",
    "    gross_pay = hours * pay_rate\n",
    "\n",
    "    # Показать заработную плату.\n",
    "    print('Заработная плата: $', format(gross_pay, ',.2f'), sep='')\n",
    "\n",
    "# Вызвать главную функцию.\n",
    "main()"
   ]
  },
  {
   "cell_type": "markdown",
   "metadata": {},
   "source": [
    "### Программа 6-23 (gross_pay2.py)"
   ]
  },
  {
   "cell_type": "code",
   "execution_count": 6,
   "metadata": {},
   "outputs": [
    {
     "name": "stdout",
     "output_type": "stream",
     "text": [
      "Сколько часов вы отработали? сорок\n",
      "ОШИБКА: Отработанные часы и почасовая ставка оплаты\n",
      "должны быть допустимыми числами.\n"
     ]
    }
   ],
   "source": [
    "# Эта программа вычисляет заработную плату до удержаний.\n",
    "\n",
    "def main():\n",
    "    try:\n",
    "        # Получить количество отработанных часов.\n",
    "        hours = int(input('Сколько часов вы отработали? '))\n",
    "\n",
    "        # Получить почасовую ставку оплаты труда.\n",
    "        pay_rate = float(input('Введите свою почасовую ставку: '))\n",
    "\n",
    "        # Вычислить заработную плату до удержаний.\n",
    "        gross_pay = hours * pay_rate\n",
    "\n",
    "        # Показать заработную плату.\n",
    "        print('Зарплата: $', format(gross_pay, ',.2f'), sep='')\n",
    "    except ValueError:\n",
    "        print('ОШИБКА: Отработанные часы и почасовая ставка оплаты')\n",
    "        print('должны быть допустимыми числами.')\n",
    "\n",
    "# Вызвать главную функцию.\n",
    "main()"
   ]
  },
  {
   "cell_type": "markdown",
   "metadata": {},
   "source": [
    "### Программа 6-24 (display_file.py)"
   ]
  },
  {
   "cell_type": "code",
   "execution_count": 9,
   "metadata": {},
   "outputs": [
    {
     "name": "stdout",
     "output_type": "stream",
     "text": [
      "Введите имя файла: плохой_файл.txt\n"
     ]
    },
    {
     "ename": "FileNotFoundError",
     "evalue": "[Errno 2] No such file or directory: 'плохой_файл.txt'",
     "output_type": "error",
     "traceback": [
      "\u001b[1;31m---------------------------------------------------------------------------\u001b[0m",
      "\u001b[1;31mFileNotFoundError\u001b[0m                         Traceback (most recent call last)",
      "\u001b[1;32m<ipython-input-9-cda52f92de84>\u001b[0m in \u001b[0;36m<module>\u001b[1;34m()\u001b[0m\n\u001b[0;32m     19\u001b[0m \u001b[1;33m\u001b[0m\u001b[0m\n\u001b[0;32m     20\u001b[0m \u001b[1;31m# Вызвать главную функцию.\u001b[0m\u001b[1;33m\u001b[0m\u001b[1;33m\u001b[0m\u001b[0m\n\u001b[1;32m---> 21\u001b[1;33m \u001b[0mmain\u001b[0m\u001b[1;33m(\u001b[0m\u001b[1;33m)\u001b[0m\u001b[1;33m\u001b[0m\u001b[0m\n\u001b[0m",
      "\u001b[1;32m<ipython-input-9-cda52f92de84>\u001b[0m in \u001b[0;36mmain\u001b[1;34m()\u001b[0m\n\u001b[0;32m      7\u001b[0m \u001b[1;33m\u001b[0m\u001b[0m\n\u001b[0;32m      8\u001b[0m     \u001b[1;31m# Открыть файл.\u001b[0m\u001b[1;33m\u001b[0m\u001b[1;33m\u001b[0m\u001b[0m\n\u001b[1;32m----> 9\u001b[1;33m     \u001b[0minfile\u001b[0m \u001b[1;33m=\u001b[0m \u001b[0mopen\u001b[0m\u001b[1;33m(\u001b[0m\u001b[0mfilename\u001b[0m\u001b[1;33m,\u001b[0m \u001b[1;34m'r'\u001b[0m\u001b[1;33m)\u001b[0m\u001b[1;33m\u001b[0m\u001b[0m\n\u001b[0m\u001b[0;32m     10\u001b[0m \u001b[1;33m\u001b[0m\u001b[0m\n\u001b[0;32m     11\u001b[0m     \u001b[1;31m# Прочитать содержимое файла.\u001b[0m\u001b[1;33m\u001b[0m\u001b[1;33m\u001b[0m\u001b[0m\n",
      "\u001b[1;31mFileNotFoundError\u001b[0m: [Errno 2] No such file or directory: 'плохой_файл.txt'"
     ]
    }
   ],
   "source": [
    "# Эта программа показывает содержимое\n",
    "# файла.\n",
    "\n",
    "def main():\n",
    "    # Получить имя файла.\n",
    "    filename = input('Введите имя файла: ')\n",
    "\n",
    "    # Открыть файл.\n",
    "    infile = open(filename, 'r')\n",
    "\n",
    "    # Прочитать содержимое файла.\n",
    "    contents = infile.read()\n",
    "\n",
    "    # Показать содержимое файла.\n",
    "    print(contents)\n",
    "\n",
    "    # Закрыть файл.\n",
    "    infile.close()\n",
    "\n",
    "# Вызвать главную функцию.\n",
    "main()"
   ]
  },
  {
   "cell_type": "markdown",
   "metadata": {},
   "source": [
    "### Программа 6-25 (display_file2.py)"
   ]
  },
  {
   "cell_type": "code",
   "execution_count": 10,
   "metadata": {},
   "outputs": [
    {
     "name": "stdout",
     "output_type": "stream",
     "text": [
      "Введите имя файла: плохой_файл.txt\n",
      "Произошла ошибка при попытке прочитать\n",
      "файл плохой_файл.txt\n"
     ]
    }
   ],
   "source": [
    "# Эта программа показывает содержимое\n",
    "# файла.\n",
    "\n",
    "def main():\n",
    "    # Получить имя файла.\n",
    "    filename = input('Введите имя файла: ')\n",
    " \n",
    "    try:\n",
    "        # Открыть файл.\n",
    "        infile = open(filename, 'r')\n",
    "\n",
    "        # Прочитать содержимое файла.\n",
    "        contents = infile.read()\n",
    "\n",
    "        # Показать содержимое файла.\n",
    "        print(contents)\n",
    "\n",
    "        # Закрыть файл.\n",
    "        infile.close()\n",
    "    except IOError:\n",
    "        print('Произошла ошибка при попытке прочитать')\n",
    "        print('файл', filename)\n",
    "\n",
    "# Вызвать главную функцию.\n",
    "main()  "
   ]
  },
  {
   "cell_type": "markdown",
   "metadata": {},
   "source": [
    "### Программа 6-26 (sales_report1.py)"
   ]
  },
  {
   "cell_type": "code",
   "execution_count": 14,
   "metadata": {},
   "outputs": [
    {
     "name": "stdout",
     "output_type": "stream",
     "text": [
      "Произошла ошибка при попытке прочитать файл.\n"
     ]
    }
   ],
   "source": [
    "# Эта программа показывает итоговый объем\n",
    "# продаж в файле sales_data.txt.\n",
    "\n",
    "def main():\n",
    "    # Инициализировать накопитель.\n",
    "    total = 0.0\n",
    "\n",
    "    try:\n",
    "        # Открыть файл sales_data.txt.\n",
    "        infile = open('sales_data.txt', 'r')\n",
    "\n",
    "        # Прочитать значения из файла и\n",
    "        # накопить их в переменной.\n",
    "        for line in infile:\n",
    "            amount = float(line)\n",
    "            total += amount\n",
    "\n",
    "        # Закрыть файл.\n",
    "        infile.close()\n",
    "\n",
    "        # Распечатать итог.\n",
    "        print(format(total, ',.2f'))\n",
    "\n",
    "    except IOError:\n",
    "        print('Произошла ошибка при попытке прочитать файл.')\n",
    "\n",
    "    except ValueError:\n",
    "        print('В файле найдены нечисловые данные.')\n",
    "\n",
    "    except:\n",
    "        print('Произошла ошибка.')\n",
    "\n",
    "# Вызвать главную функцию.\n",
    "main()"
   ]
  },
  {
   "cell_type": "markdown",
   "metadata": {},
   "source": [
    "### Программа 6-27 (sales_report2.py)"
   ]
  },
  {
   "cell_type": "code",
   "execution_count": 13,
   "metadata": {},
   "outputs": [
    {
     "name": "stdout",
     "output_type": "stream",
     "text": [
      "Произошла ошибка.\n"
     ]
    }
   ],
   "source": [
    "# Эта программа показывает итоговую сумму\n",
    "# продаж в файле sales_data.txt.\n",
    "\n",
    "def main():\n",
    "    # Инициализировать накопитель.\n",
    "    total = 0.0\n",
    "\n",
    "    try:\n",
    "        # Открыть файл sales_data.txt.\n",
    "        infile = open('sales_data.txt', 'r')\n",
    "\n",
    "        # Прочитать значения из файла и\n",
    "        # накопить их в переменной.\n",
    "        for line in infile:\n",
    "            amount = float(line)\n",
    "            total += amount\n",
    "\n",
    "        # Закрыть файл.\n",
    "        infile.close()\n",
    "\n",
    "        # Напечатать итооговую сумму.\n",
    "        print(format(total, ',.2f'))\n",
    "    except:\n",
    "        print('Произошла ошибка.')\n",
    "\n",
    "# Вызвать главную функцию.\n",
    "main()"
   ]
  },
  {
   "cell_type": "markdown",
   "metadata": {},
   "source": [
    "### Программа 6-28 (gross_pay3.py)"
   ]
  },
  {
   "cell_type": "code",
   "execution_count": 11,
   "metadata": {},
   "outputs": [
    {
     "name": "stdout",
     "output_type": "stream",
     "text": [
      "Сколько часов вы отработали? сорок\n",
      "invalid literal for int() with base 10: 'сорок'\n"
     ]
    }
   ],
   "source": [
    "# Эта программа вычисляет заработную плату до удержаний.\n",
    "\n",
    "def main():\n",
    "    try:\n",
    "        # Получить количество отработанных часов.\n",
    "        hours = int(input('Сколько часов вы отработали? '))\n",
    "\n",
    "        # Получить почасовую ставку оплаты труда.\n",
    "        pay_rate = float(input('Введите почасовую ставку: '))\n",
    "\n",
    "        # Вычислить заработную плату.\n",
    "        gross_pay = hours * pay_rate\n",
    "\n",
    "        # Показать заработную плату.\n",
    "        print('Зарплата: $', format(gross_pay, ',.2f'), sep='')\n",
    "    except ValueError as err:\n",
    "        print(err)\n",
    "\n",
    "# Вызвать главную функцию.\n",
    "main()"
   ]
  },
  {
   "cell_type": "markdown",
   "metadata": {},
   "source": [
    "### Программа 6-29 (sales_report3.py)"
   ]
  },
  {
   "cell_type": "code",
   "execution_count": 12,
   "metadata": {},
   "outputs": [
    {
     "name": "stdout",
     "output_type": "stream",
     "text": [
      "[Errno 2] No such file or directory: 'sales_data.txt'\n"
     ]
    }
   ],
   "source": [
    "# Эта программа показывает итоговую сумму\n",
    "# продаж в файле sales_data.txt.\n",
    "\n",
    "def main():\n",
    "    # Инициализировать накопитель.\n",
    "    total = 0.0\n",
    "\n",
    "    try:\n",
    "        # Открыть файл sales_data.txt.\n",
    "        infile = open('sales_data.txt', 'r')\n",
    "\n",
    "        # Прочитать значения из файла и \n",
    "        # накопить их в переменной.\n",
    "        for line in infile:\n",
    "            amount = float(line)\n",
    "            total += amount\n",
    "\n",
    "        # Закрыть файл.\n",
    "        infile.close()\n",
    "\n",
    "        # Напечатать итоговую сумму.\n",
    "        print(format(total, ',.2f'))\n",
    "    except Exception as err:\n",
    "        print(err)\n",
    "\n",
    "# Вызвать главную функцию.\n",
    "main()"
   ]
  },
  {
   "cell_type": "markdown",
   "metadata": {},
   "source": [
    "### Программа 6-30 (sales_report4.py)"
   ]
  },
  {
   "cell_type": "code",
   "execution_count": 15,
   "metadata": {},
   "outputs": [
    {
     "name": "stdout",
     "output_type": "stream",
     "text": [
      "[Errno 2] No such file or directory: 'sales_data.txt'\n"
     ]
    }
   ],
   "source": [
    "# Эта программа показывает итоговую сумму\n",
    "# продаж в файле sales_data.txt.\n",
    "\n",
    "def main():\n",
    "    # Инициализировать накопитель.\n",
    "    total = 0.0\n",
    "\n",
    "    try:\n",
    "        # Открыть файл sales_data.txt.\n",
    "        infile = open('sales_data.txt', 'r')\n",
    "\n",
    "        # Прочитать значения из файла и \n",
    "        # накопить их в переменной.\n",
    "        for line in infile:\n",
    "            amount = float(line)\n",
    "            total += amount\n",
    "\n",
    "        # Закрыть файл.\n",
    "        infile.close()\n",
    "    except Exception as err:\n",
    "        print(err)\n",
    "    else:\n",
    "        # Напечатать итоговую сумму.\n",
    "        print(format(total, ',.2f'))\n",
    "\n",
    "# Вызвать главную функцию.\n",
    "main()"
   ]
  },
  {
   "cell_type": "code",
   "execution_count": null,
   "metadata": {},
   "outputs": [],
   "source": []
  }
 ],
 "metadata": {
  "kernelspec": {
   "display_name": "Python 3",
   "language": "python",
   "name": "python3"
  },
  "language_info": {
   "codemirror_mode": {
    "name": "ipython",
    "version": 3
   },
   "file_extension": ".py",
   "mimetype": "text/x-python",
   "name": "python",
   "nbconvert_exporter": "python",
   "pygments_lexer": "ipython3",
   "version": "3.6.4"
  }
 },
 "nbformat": 4,
 "nbformat_minor": 2
}

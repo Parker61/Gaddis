{
 "cells": [
  {
   "cell_type": "code",
   "execution_count": null,
   "metadata": {},
   "outputs": [],
   "source": [
    "# -*- coding: utf-8 -*-"
   ]
  },
  {
   "cell_type": "markdown",
   "metadata": {},
   "source": [
    "# Глава 3. Управляющие структуры принятия решения и булева логика"
   ]
  },
  {
   "cell_type": "markdown",
   "metadata": {},
   "source": [
    "## 3.1\tИнструкция if"
   ]
  },
  {
   "cell_type": "markdown",
   "metadata": {},
   "source": [
    "### Программа 3-1 (test_average.py)"
   ]
  },
  {
   "cell_type": "code",
   "execution_count": 1,
   "metadata": {},
   "outputs": [
    {
     "name": "stdout",
     "output_type": "stream",
     "text": [
      "Введите оценку 1: 93\n",
      "Введите оценку 2: 99\n",
      "Введите оценку 3: 96\n",
      "Средний балл составляет: 96.0\n",
      "Поздравляем!\n",
      "Отличный средний балл!\n"
     ]
    }
   ],
   "source": [
    "# Эта программа получает три оценки за контрольные работы и\n",
    "# показывает их средний балл. Она поздравляет пользователя, \n",
    "# если средний балл высокий.\n",
    "\n",
    "# Именованная константа HIGH_SCORE содержит значение, которое\n",
    "# считается высоким баллом.\n",
    "HIGH_SCORE = 95\n",
    " \n",
    "# Получить три оценки за тесты.\n",
    "test1 = int(input('Введите оценку 1: ' ))\n",
    "test2 = int(input('Введите оценку 2: ' ))\n",
    "test3 = int(input('Введите оценку 3: ' ))\n",
    "\n",
    "# Рассчитать средний балл.\n",
    "average = (test1 + test2 + test3) / 3\n",
    "\n",
    "# Напечатать средний балл.\n",
    "print('Средний балл составляет:', average)\n",
    "\n",
    "# Если средний балл высокий, то\n",
    "# поздравить пользователя.\n",
    "if average >= HIGH_SCORE:\n",
    "    print('Поздравляем!')\n",
    "    print('Отличный средний балл!')"
   ]
  },
  {
   "cell_type": "markdown",
   "metadata": {},
   "source": [
    "## 3.2 Инструкция if-else"
   ]
  },
  {
   "cell_type": "markdown",
   "metadata": {},
   "source": [
    "### Программа 3-2 (auto_repair_payroll.py)"
   ]
  },
  {
   "cell_type": "code",
   "execution_count": 2,
   "metadata": {},
   "outputs": [
    {
     "name": "stdout",
     "output_type": "stream",
     "text": [
      "Введите количество отработанных часов: 50\n",
      "Введите почасовую ставку оплаты труда: 20\n",
      "Заработная плата до удержаний составляет: $1,100.00\n"
     ]
    }
   ],
   "source": [
    "# Именованные константы представляют базовые часы и \n",
    "# мультипликатор сверхурочного времени.\n",
    "BASE_HOURS = 40      # Базовые часы в неделю\n",
    "OT_MULTIPLIER = 1.5  # Мультипликатор сверхурочного времени\n",
    "\n",
    "# Получить отработанные часы и почасовую ставку оплаты труда.\n",
    "hours = float(input('Введите количество отработанных часов: '))\n",
    "pay_rate = float(input('Введите почасовую ставку оплаты труда: '))\n",
    "\n",
    "# Рассчитать и показать заработную плату до удержаний.\n",
    "if hours > BASE_HOURS:\n",
    "    # Рассчитать заработную плату до удержаний без сверхурочных.\n",
    "    # Сначала получить количество отработанных сверхурочных часов.\n",
    "    overtime_hours = hours - BASE_HOURS\n",
    "\n",
    "    # Рассчитать оплату за работу в сверхурочное время.\n",
    "    overtime_pay = overtime_hours * pay_rate * OT_MULTIPLIER\n",
    "\n",
    "    # Рассчитать заработную плату до удержаний.\n",
    "    gross_pay = BASE_HOURS * pay_rate + overtime_pay\n",
    "else:\n",
    "    # Рассчитать заработную плату до удержаний без сверхурочных.\n",
    "    gross_pay = hours * pay_rate\n",
    "\n",
    "# Показать заработную плату до удержаний.\n",
    "print('Заработная плата до удержаний составляет: $', \n",
    "      format(gross_pay, ',.2f'), sep='')"
   ]
  },
  {
   "cell_type": "markdown",
   "metadata": {},
   "source": [
    "## 3.3 Сравнение строковых значений"
   ]
  },
  {
   "cell_type": "markdown",
   "metadata": {},
   "source": [
    "### Программа 3-3 (password.py)"
   ]
  },
  {
   "cell_type": "code",
   "execution_count": 4,
   "metadata": {},
   "outputs": [
    {
     "name": "stdout",
     "output_type": "stream",
     "text": [
      "Введите пароль: prospero\n",
      "Пароль принят.\n"
     ]
    }
   ],
   "source": [
    "# Эта программа сравнивает два строковых значения.\n",
    "# Получить от пользователя пароль.\n",
    "password = input('Введите пароль: ')\n",
    "\n",
    "# Определить, был ли введен правильный\n",
    "# пароль.\n",
    "if password == 'prospero':\n",
    "    print('Пароль принят.')\n",
    "else:\n",
    "    print('Извините, этот пароль неверный.')"
   ]
  },
  {
   "cell_type": "markdown",
   "metadata": {},
   "source": [
    "### Программа 3-4 (sort_names.py)"
   ]
  },
  {
   "cell_type": "code",
   "execution_count": 12,
   "metadata": {},
   "outputs": [
    {
     "name": "stdout",
     "output_type": "stream",
     "text": [
      "Введите фамилию и имя: Коста, Джоанна\n",
      "Введите еще одну фамилию и имя: Джоунс, Ричард\n",
      "Вот имена, ранжированные по алфавиту:\n",
      "Джоунс, Ричард\n",
      "Коста, Джоанна\n"
     ]
    }
   ],
   "source": [
    "# Эта программа сравнивает строковые значения оператором <.\n",
    "# Получить от пользователя два имени.\n",
    "name1 = input('Введите фамилию и имя: ')\n",
    "name2 = input('Введите еще одну фамилию и имя: ')\n",
    "\n",
    "# Показать имена в алфавитном порядке.\n",
    "print('Вот имена, ранжированные по алфавиту:')\n",
    "\n",
    "if name1 < name2:\n",
    "    print(name1)\n",
    "    print(name2)\n",
    "else:\n",
    "    print(name2)\n",
    "    print(name1)"
   ]
  },
  {
   "cell_type": "markdown",
   "metadata": {},
   "source": [
    "## 3.4 Вложенные структуры принятия решения и инструкция if-elif-else  "
   ]
  },
  {
   "cell_type": "markdown",
   "metadata": {},
   "source": [
    "### Программа 3-5 (loan_qualifier.py)"
   ]
  },
  {
   "cell_type": "code",
   "execution_count": 7,
   "metadata": {},
   "outputs": [
    {
     "name": "stdout",
     "output_type": "stream",
     "text": [
      "Введите свой годовой оклад: 35000\n",
      "Введите количество летрабочего стажа: 5\n",
      "Вы прошли квалификацию на получение ссуды.\n"
     ]
    }
   ],
   "source": [
    "# Эта программа определяет, удовлетворяет ли\n",
    "# клиент требованиям банка на получение ссуды.\n",
    "\n",
    "MIN_SALARY = 30000.0 # Минимально допустимая годовая зарплата\n",
    "MIN_YEARS = 2        # Минимально допустимый стаж на текущем месте работы\n",
    "\n",
    "# Получить размер годовой заработной платы клиента.\n",
    "salary = float(input('Введите свой годовой оклад: '))\n",
    "\n",
    "# Получить количество лет на текущем месте работы.\n",
    "years_on_job = int(input('Введите количество лет' +\n",
    "                         'рабочего стажа: '))\n",
    "\n",
    "# Определить, удовлетворяет ли клиент требованиям.\n",
    "if salary >= MIN_SALARY:\n",
    "    if years_on_job >= MIN_YEARS:\n",
    "        print('Вы прошли квалификацию на получение ссуды.')\n",
    "    else:\n",
    "        print('Вы должны отработать',\n",
    "              'не менее', MIN_YEARS,\n",
    "              'лет, чтобы пройти квалификацию.')\n",
    "else:\n",
    "    print('Вы должны зарабатывать не менее $',\n",
    "          format(MIN_SALARY, ',.2f'),\n",
    "          ' в год, чтобы пройти квалификацию.', sep='')"
   ]
  },
  {
   "cell_type": "markdown",
   "metadata": {},
   "source": [
    "### Программа 3-6 (grader.py)"
   ]
  },
  {
   "cell_type": "code",
   "execution_count": 11,
   "metadata": {},
   "outputs": [
    {
     "name": "stdout",
     "output_type": "stream",
     "text": [
      "Введите свою оценку: 84\n",
      "Ваш уровень - B.\n"
     ]
    }
   ],
   "source": [
    "# Эта программа получает от пользователя числовую оценку\n",
    "# и показывает буквенный уровень знаний согласно этой оценки.\n",
    " \n",
    "# Именованные константы, представляющие пороги уровней\n",
    "A_SCORE = 90\n",
    "B_SCORE = 80\n",
    "C_SCORE = 70\n",
    "D_SCORE = 60\n",
    "\n",
    "# Получить от пользователя оценку за контрольную работу.\n",
    "score = int(input('Введите свою оценку: '))\n",
    "\n",
    "# Определить буквенный уровень.\n",
    "if score >= A_SCORE:\n",
    "    print('Ваш уровень - A.')\n",
    "else:\n",
    "    if score >= B_SCORE:\n",
    "        print('Ваш уровень - B.')\n",
    "    else:\n",
    "        if score >= C_SCORE:\n",
    "            print('Ваш уровень - C.')\n",
    "        else:\n",
    "            if score >= D_SCORE:\n",
    "                print('Ваш уровень - D.')\n",
    "            else:\n",
    "                print('Ваш уровень - F.')"
   ]
  },
  {
   "cell_type": "markdown",
   "metadata": {},
   "source": [
    "## 3.5 Логические операторы"
   ]
  },
  {
   "cell_type": "markdown",
   "metadata": {},
   "source": [
    "### Программа 3-7 (loan_qualifier2.py)"
   ]
  },
  {
   "cell_type": "code",
   "execution_count": 9,
   "metadata": {},
   "outputs": [
    {
     "name": "stdout",
     "output_type": "stream",
     "text": [
      "Введите свой годовой оклад: 35000\n",
      "Введите количество летрабочего стажа: 5\n",
      "Вы прошли квалификацию на получение ссуды.\n"
     ]
    }
   ],
   "source": [
    "# Эта программа определяет, удовлетворяет ли \n",
    "# клиент требованиям банка на получение ссуды.\n",
    "\n",
    "MIN_SALARY = 30000.0 # Минимально допустимая годовая зарплата\n",
    "MIN_YEARS = 2        # Минимально допустимый стаж на текущем месте работы\n",
    "\n",
    "# Получить размер годовой заработной платы клиента.\n",
    "salary = float(input('Введите свой годовой оклад: '))\n",
    "\n",
    "# Получить количество лет на текущем месте работы.\n",
    "years_on_job = int(input('Введите количество лет' +\n",
    "                         'рабочего стажа: '))\n",
    "\n",
    "# Определить, удовлетворяет ли клиент требованиям.\n",
    "if salary >= MIN_SALARY and years_on_job >= MIN_YEARS:\n",
    "    print('Вы прошли квалификацию на получение ссуды.')\n",
    "else:\n",
    "    print('Вы не прошли квалификацию на получение этой ссуды.')"
   ]
  },
  {
   "cell_type": "markdown",
   "metadata": {},
   "source": [
    "### Программа 3-8 (loan_qualifier3.py)"
   ]
  },
  {
   "cell_type": "code",
   "execution_count": 10,
   "metadata": {},
   "outputs": [
    {
     "name": "stdout",
     "output_type": "stream",
     "text": [
      "Введите свой годовой оклад: 35000\n",
      "Введите количество летрабочего стажа: 5\n",
      "Вы прошли квалификацию на получение ссуды.\n"
     ]
    }
   ],
   "source": [
    "# Эта программа определяет, удовлетворяет ли \n",
    "# клиент требованиям банка на получение ссуды.\n",
    "\n",
    "MIN_SALARY = 30000.0 # Минимально допустимая годовая зарплата\n",
    "MIN_YEARS = 2        # Минимально допустимый стаж на текущем месте работы\n",
    "\n",
    "# Получить размер годовой заработной платы клиента.\n",
    "salary = float(input('Введите свой годовой оклад: '))\n",
    "\n",
    "# Получить количество лет на текущем месте работы.\n",
    "years_on_job = int(input('Введите количество лет' +\n",
    "                         'рабочего стажа: '))\n",
    "\n",
    "# Определить, удовлетворяет ли клиент требованиям.\n",
    "if salary >= MIN_SALARY or years_on_job >= MIN_YEARS:\n",
    "    print('Вы прошли квалификацию на получение ссуды.')\n",
    "else:\n",
    "    print('Вы не прошли квалификацию на получение этой ссуды.')"
   ]
  },
  {
   "cell_type": "markdown",
   "metadata": {},
   "source": [
    "## 3.7\tЧерепашья графика: определение состояния черепахи"
   ]
  },
  {
   "cell_type": "markdown",
   "metadata": {},
   "source": [
    "### Программа 3-9 (hit_the_target.py)"
   ]
  },
  {
   "cell_type": "code",
   "execution_count": null,
   "metadata": {},
   "outputs": [],
   "source": [
    "# Игра \"Порази цель\"\n",
    "import turtle\n",
    "\n",
    "# Именованные константы\n",
    "SCREEN_WIDTH = 600     # Ширина экрана\n",
    "SCREEN_HEIGHT = 600    # Высота экрана\n",
    "TARGET_LLEFT_X = 100   # Левая нижняя координата X цели \n",
    "TARGET_LLEFT_Y = 250   # Левая нижняя координата Y цели\n",
    "TARGET_WIDTH = 25      # Ширина цели\n",
    "FORCE_FACTOR = 30      # Фактор произвольной силы\n",
    "PROJECTILE_SPEED = 1   # Скорость анимации снаряда\n",
    "NORTH = 90             # Угол северного направления\n",
    "SOUTH = 270            # Угол южного направления\n",
    "EAST = 0               # Угол восточного направления\n",
    "WEST = 180             # Угол западного направления\n",
    "\n",
    "# Настроить окно.\n",
    "turtle.setup(SCREEN_WIDTH, SCREEN_HEIGHT)\n",
    "\n",
    "# Нарисовать цель.\n",
    "turtle.hideturtle()\n",
    "turtle.speed(0)\n",
    "turtle.penup()\n",
    "turtle.goto(TARGET_LLEFT_X, TARGET_LLEFT_Y)\n",
    "turtle.pendown()\n",
    "turtle.setheading(EAST)\n",
    "turtle.forward(TARGET_WIDTH)\n",
    "turtle.setheading(NORTH)\n",
    "turtle.forward(TARGET_WIDTH)\n",
    "turtle.setheading(WEST)\n",
    "turtle.forward(TARGET_WIDTH)\n",
    "turtle.setheading(SOUTH)\n",
    "turtle.forward(TARGET_WIDTH)\n",
    "turtle.penup()\n",
    "\n",
    "# Центрировать черепаху.\n",
    "turtle.goto(0, 0)\n",
    "turtle.setheading(EAST)\n",
    "turtle.showturtle()\n",
    "turtle.speed(PROJECTILE_SPEED)\n",
    "\n",
    "# Получить угол и силу от пользователя.\n",
    "angle = float(input(\"Введите угол снаряда: \"))\n",
    "force = float(input(\"Введите пусковую силу (1−10): \"))\n",
    "\n",
    "# Рассчитать расстояние.\n",
    "distance = force * FORCE_FACTOR\n",
    "\n",
    "# Задать направление\n",
    "turtle.setheading(angle)\n",
    "\n",
    "# Запустить снаряд.\n",
    "turtle.pendown()\n",
    "turtle.forward(distance)\n",
    "\n",
    "# Снаряд поразил цель?\n",
    "if (turtle.xcor() >= TARGET_LLEFT_X and\n",
    "    turtle.xcor() <= (TARGET_LLEFT_X + TARGET_WIDTH) and\n",
    "    turtle.ycor() >= TARGET_LLEFT_Y and\n",
    "    turtle.ycor() <= (TARGET_LLEFT_Y + TARGET_WIDTH)):\n",
    "        print('Цель поражена!')\n",
    "else:\n",
    "        print('Вы промахнулись.')"
   ]
  },
  {
   "cell_type": "code",
   "execution_count": null,
   "metadata": {},
   "outputs": [],
   "source": []
  }
 ],
 "metadata": {
  "kernelspec": {
   "display_name": "Python 3",
   "language": "python",
   "name": "python3"
  },
  "language_info": {
   "codemirror_mode": {
    "name": "ipython",
    "version": 3
   },
   "file_extension": ".py",
   "mimetype": "text/x-python",
   "name": "python",
   "nbconvert_exporter": "python",
   "pygments_lexer": "ipython3",
   "version": "3.6.4"
  }
 },
 "nbformat": 4,
 "nbformat_minor": 2
}

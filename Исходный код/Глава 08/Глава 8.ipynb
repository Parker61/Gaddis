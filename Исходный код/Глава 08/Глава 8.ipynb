{
 "cells": [
  {
   "cell_type": "code",
   "execution_count": null,
   "metadata": {},
   "outputs": [],
   "source": [
    "# -*- coding: utf-8 -*-"
   ]
  },
  {
   "cell_type": "markdown",
   "metadata": {},
   "source": [
    "# Глава 8. Подробнее о строковых данных"
   ]
  },
  {
   "cell_type": "markdown",
   "metadata": {},
   "source": [
    "## 8.1 Базовые строковые операции"
   ]
  },
  {
   "cell_type": "markdown",
   "metadata": {},
   "source": [
    "### Программа 8-1 (count_Ts.py)"
   ]
  },
  {
   "cell_type": "code",
   "execution_count": 1,
   "metadata": {},
   "outputs": [
    {
     "name": "stdout",
     "output_type": "stream",
     "text": [
      "Введите предложение: Кто не ходит, тот и не падает.\n",
      "Буква Т появляется 5 раз(а).\n"
     ]
    }
   ],
   "source": [
    "# Эта программа подсчитывает количество появлений\n",
    "# буквы T (в верхнем или нижнем регистре)\n",
    "# в строковом значении.\n",
    "\n",
    "def main():\n",
    "    # Создать переменную, в котором будет храниться количество.\n",
    "    # Переменная должна начинаться с 0.\n",
    "    count = 0\n",
    "\n",
    "   # Получить от пользователя строковое значение.\n",
    "    my_string = input('Введите предложение: ')\n",
    "\n",
    "    # Подсчитать буквы T.\n",
    "    for ch in my_string:\n",
    "        if ch == 'Т' or ch == 'т':\n",
    "            count += 1\n",
    "\n",
    "    # Напечатать результат.\n",
    "    print('Буква Т появляется', count, 'раз(а).')\n",
    "\n",
    "# Вызвать главную функцию.\n",
    "main()"
   ]
  },
  {
   "cell_type": "markdown",
   "metadata": {},
   "source": [
    "### Программа 8-2 (concatenate.py)"
   ]
  },
  {
   "cell_type": "code",
   "execution_count": 10,
   "metadata": {},
   "outputs": [
    {
     "name": "stdout",
     "output_type": "stream",
     "text": [
      "Имя Кармен\n",
      "Теперь имя Кармен Браун\n"
     ]
    }
   ],
   "source": [
    "# Эта программа конкатенирует строковые значения.\n",
    "\n",
    "def main():\n",
    "    name = 'Кармен'\n",
    "    print('Имя', name)\n",
    "    name = name + ' Браун'\n",
    "    print('Теперь имя', name)\n",
    "\n",
    "# Вызвать главную функцию.\n",
    "main()"
   ]
  },
  {
   "cell_type": "markdown",
   "metadata": {},
   "source": [
    "## 8.2 Получение среза строки"
   ]
  },
  {
   "cell_type": "markdown",
   "metadata": {},
   "source": [
    "### Программа 8-3 (login.py)"
   ]
  },
  {
   "cell_type": "code",
   "execution_count": 25,
   "metadata": {},
   "outputs": [],
   "source": [
    "# Функция get_login_name принимает имя, фамилию и\n",
    "# идентификационный номер в качестве аргументов.\n",
    "# Она возвращает имя для входа в систему.\n",
    "\n",
    "def get_login_name(first, last, idnumber):\n",
    "    # Получить первые три буквы имени.\n",
    "    # Если длина имени меньше 3 букв, то\n",
    "    # срез вернет все имя целиком.\n",
    "    set1 = first[0 : 3]\n",
    "\n",
    "    # Получить первые три буквы фамилии.\n",
    "    # Если длина фамилии меньше 3 букв, то\n",
    "    # срез вернет всю фамилию целиком.\n",
    "    set2 = last[0 : 3]\n",
    "\n",
    "    # Получить последние три буквы фамилии идентификатора.\n",
    "    # Если длина идентификатора меньше 3 символов, то\n",
    "    # срез вернет весь идентификатор целиком.\n",
    "    set3 = idnumber[-3 :]\n",
    "\n",
    "    # Собрать воедино наборы символов.\n",
    "    login_name = set1 + set2 + set3\n",
    "\n",
    "    # Вернуть имя для входа в систему.\n",
    "    return login_name"
   ]
  },
  {
   "cell_type": "markdown",
   "metadata": {},
   "source": [
    "### Программа 8-4 (generate_login.py)"
   ]
  },
  {
   "cell_type": "code",
   "execution_count": 27,
   "metadata": {},
   "outputs": [
    {
     "name": "stdout",
     "output_type": "stream",
     "text": [
      "Введите свое имя: Эл\n",
      "Введите свою фамилию: Кусимано\n",
      "Введите свой номер студента: BIO4497\n",
      "Ваше имя для входа в систему:\n",
      "ЭлКус497\n"
     ]
    }
   ],
   "source": [
    "# Эта программа получает имя и фамилию пользователя и \n",
    "# идентификационный номер студента. На основе этих данных\n",
    "# она генерирует имя для входа в систему.\n",
    "\n",
    "import login\n",
    "\n",
    "def main():\n",
    "    # Получить имя, фамилию и ИД номер пользователя.\n",
    "    first = input('Введите свое имя: ')\n",
    "    last = input('Введите свою фамилию: ')\n",
    "    idnumber = input('Введите свой номер студента: ')\n",
    "\n",
    "    # Получить имя для схода в систему.\n",
    "    print('Ваше имя для входа в систему:')\n",
    "    print(login.get_login_name(first, last, idnumber))\n",
    "\n",
    "# Вызвать главную функцию.\n",
    "main()"
   ]
  },
  {
   "cell_type": "markdown",
   "metadata": {},
   "source": [
    "## 8.3 Проверка, поиск и манипуляция строковыми данными"
   ]
  },
  {
   "cell_type": "markdown",
   "metadata": {},
   "source": [
    "### Программа 8-5 (string_test.py)"
   ]
  },
  {
   "cell_type": "code",
   "execution_count": 30,
   "metadata": {},
   "outputs": [
    {
     "name": "stdout",
     "output_type": "stream",
     "text": [
      "Введите строковое значение: 123АБВ\n",
      "Вот, что обнаружено в отношении введенного значения:\n",
      "Эта строка содержит буквы и цифры.\n",
      "Все буквы в строке находятся в верхнем регистре.\n"
     ]
    }
   ],
   "source": [
    "# Эта программа демонстрирует несколько строковых методов проверки.\n",
    "\n",
    "def main():\n",
    "    # Получить от пользователя строковое значение.\n",
    "    user_string = input('Введите строковое значение: ')\n",
    "\n",
    "    print('Вот, что обнаружено в отношении введенного значения:')\n",
    "\n",
    "    # Проанализировать строковое значение.\n",
    "    if user_string.isalnum():\n",
    "        print('Эта строка содержит буквы и цифры.')\n",
    "    if user_string.isdigit():\n",
    "        print('Эта строка содержит только цифры.')\n",
    "    if user_string.isalpha():\n",
    "        print('Эта строка содержит только буквы алфавита.')\n",
    "    if user_string.isspace():\n",
    "        print('Эта строка содержит только пробельные символы.')\n",
    "    if user_string.islower():\n",
    "        print('Все буквы в строке находятся в нижнем регистре.')\n",
    "    if user_string.isupper():\n",
    "        print('Все буквы в строке находятся в верхнем регистре.')\n",
    "\n",
    "# Вызвать главную функцию.\n",
    "main()"
   ]
  },
  {
   "cell_type": "markdown",
   "metadata": {},
   "source": [
    "### Программа 8-6 (login2.py)"
   ]
  },
  {
   "cell_type": "code",
   "execution_count": 31,
   "metadata": {},
   "outputs": [],
   "source": [
    "# Функция get_login_name принимает имя, фамилию и\n",
    "# идентийикационный номер в качестве аргументов.\n",
    "# Она возвращает имя для входа в систему.\n",
    "\n",
    "def get_login_name(first, last, idnumber):\n",
    "    # Получить первые три буквы имени.\n",
    "    # Если длина имени меньше 3 букв, то\n",
    "    # срез вернет все имя целиком.\n",
    "    set1 = first[0 : 3]\n",
    "\n",
    "    # Получить первые три буквы фамилии.\n",
    "    # Если длина фамилии меньше 3 букв, то\n",
    "    # срез вернет всю фамилию целиком.\n",
    "    set2 = last[0 : 3]\n",
    "\n",
    "    # Получить последние три буквы фамилии идентификатора.\n",
    "    # Если длина идентификатора меньше 3 символов, то\n",
    "    # срез вернет весь идентификатор целиком.\n",
    "    set3 = idnumber[-3 :]\n",
    "\n",
    "    # Собрать воедино наборы символов.\n",
    "    login_name = set1 + set2 + set3\n",
    "\n",
    "    # Вернуть имя для входа в систему.\n",
    "    return login_name\n",
    "\n",
    "# Функция valid_password принимает пароль в \n",
    "# качестве аргумента и возвращает истину либо ложь,\n",
    "# сообщая о его допустимости или недопустимости. Допустимый\n",
    "# пароль должен быть как минимум 7 символов в длину,\n",
    "# иметь как минимум один символ в верхнем регистре, \n",
    "# один символ в нижнем регистре и одну цифрую\n",
    "\n",
    "def valid_password(password):\n",
    "    # Назначить булевым переменным значение False.\n",
    "    correct_length = False\n",
    "    has_uppercase = False\n",
    "    has_lowercase = False\n",
    "    has_digit = False\n",
    "\n",
    "    # Приступить к валидации\n",
    "    # Начать с проверки длины пароля.\n",
    "    if len(password) >= 7:\n",
    "        correct_length = True\n",
    "\n",
    "        # Проанализировать каждый символ и установить\n",
    "        # соответствующий флаг, когда\n",
    "        # требуемый символ найден.\n",
    "        for ch in password:\n",
    "            if ch.isupper():\n",
    "                has_uppercase = True\n",
    "            if ch.islower():\n",
    "                has_lowercase = True\n",
    "            if ch.isdigit():\n",
    "                has_digit = True\n",
    "\n",
    "        # Определить, удовлетворены ли все требования.\n",
    "        # Если это так, то назначить is_valid значение True.\n",
    "        # В противном случае назначить is_valid значение False.\n",
    "        if correct_length and has_uppercase and \\\n",
    "            has_lowercase and has_digit:\n",
    "            is_valid = True\n",
    "        else:\n",
    "            is_valid = False\n",
    "\n",
    "        # Вернуть переменную is_valid.\n",
    "        return is_valid"
   ]
  },
  {
   "cell_type": "markdown",
   "metadata": {},
   "source": [
    "### Программа 8-7 (validate_password.py)"
   ]
  },
  {
   "cell_type": "code",
   "execution_count": 32,
   "metadata": {},
   "outputs": [
    {
     "name": "stdout",
     "output_type": "stream",
     "text": [
      "Введите свой пароль: bozo\n",
      "Этот пароль недопустим.\n",
      "Введите свой пароль: kangaroo\n",
      "Этот пароль недопустим.\n",
      "Введите свой пароль: Tiger9\n",
      "Этот пароль недопустим.\n",
      "Введите свой пароль: Leopard9\n",
      "Это допустимый пароль.\n"
     ]
    }
   ],
   "source": [
    "# Эта программа получает от пользователя пароль и\n",
    "# проверяет его допустимость.\n",
    "\n",
    "import login\n",
    "\n",
    "def main():\n",
    "    # Получить от пользователя пароль.\n",
    "    password = input('Введите свой пароль: ')\n",
    "\n",
    "    # Проверить допустимость пароля.\n",
    "    while not login.valid_password(password):\n",
    "        print('Этот пароль недопустим.')\n",
    "        password = input('Введите свой пароль: ')\n",
    "\n",
    "    print('Это допустимый пароль.')\n",
    "\n",
    "# Вызвать главную функцию.\n",
    "main()"
   ]
  },
  {
   "cell_type": "markdown",
   "metadata": {},
   "source": [
    "### Программа 8-8 (repetition_operator.py)"
   ]
  },
  {
   "cell_type": "code",
   "execution_count": 35,
   "metadata": {},
   "outputs": [
    {
     "name": "stdout",
     "output_type": "stream",
     "text": [
      "Z\n",
      "ZZ\n",
      "ZZZ\n",
      "ZZZZ\n",
      "ZZZZZ\n",
      "ZZZZZZ\n",
      "ZZZZZZZ\n",
      "ZZZZZZZZ\n",
      "ZZZZZZZZZ\n",
      "ZZZZZZZZ\n",
      "ZZZZZZZ\n",
      "ZZZZZZ\n",
      "ZZZZZ\n",
      "ZZZZ\n",
      "ZZZ\n",
      "ZZ\n",
      "Z\n"
     ]
    }
   ],
   "source": [
    "# Эта программа демонстрирует оператор повторения.\n",
    "\n",
    "def main():\n",
    "    # Напечатать девять строк, увеличивающихся по длине.\n",
    "    for count in range(1, 10):\n",
    "        print('Z' * count)\n",
    "\n",
    "    # Напечатать девять строк, уменьшающихся по длине.\n",
    "    for count in range(8, 0, -1):\n",
    "        print('Z' * count)\n",
    "\n",
    "# Вызвать главную функцию.\n",
    "main()"
   ]
  },
  {
   "cell_type": "markdown",
   "metadata": {},
   "source": [
    "### Программа 8-9 (string_split.py)"
   ]
  },
  {
   "cell_type": "code",
   "execution_count": 36,
   "metadata": {},
   "outputs": [
    {
     "name": "stdout",
     "output_type": "stream",
     "text": [
      "['Один', 'два', 'три', 'четыре']\n"
     ]
    }
   ],
   "source": [
    "# Эта программа демонстрирует метод split.\n",
    "\n",
    "def main():\n",
    "    # Создать строковое значение с несколькими словами.\n",
    "    my_string = 'Один два три четыре'\n",
    "\n",
    "    # Разбить строковое значение.\n",
    "    word_list = my_string.split()\n",
    "\n",
    "    # Напечатать список слов.\n",
    "    print(word_list)\n",
    "\n",
    "# Вызвать главную функцию.\n",
    "main()"
   ]
  },
  {
   "cell_type": "markdown",
   "metadata": {},
   "source": [
    "### Программа 8-10 (split_date.py)"
   ]
  },
  {
   "cell_type": "code",
   "execution_count": 1,
   "metadata": {},
   "outputs": [
    {
     "name": "stdout",
     "output_type": "stream",
     "text": [
      "День: 01\n",
      "Месяц: 12\n",
      "Год: 2018\n"
     ]
    }
   ],
   "source": [
    "# Эта программа вызывает метод split, используя\n",
    "# символ '/' в качестве разделителя.\n",
    "\n",
    "def main():\n",
    "   # Создать строковое значение с датой.\n",
    "   date_string = '01/12/2018'\n",
    "\n",
    "   # Разбить дату.\n",
    "   date_list = date_string.split('/')\n",
    "\n",
    "   # Показать все части даты.\n",
    "   print('День:', date_list[0])\n",
    "   print('Месяц:', date_list[1])\n",
    "   print('Год:', date_list[2])\n",
    "\n",
    "# Вызвать главную функцию.\n",
    "main()"
   ]
  },
  {
   "cell_type": "code",
   "execution_count": null,
   "metadata": {},
   "outputs": [],
   "source": []
  }
 ],
 "metadata": {
  "kernelspec": {
   "display_name": "Python 3",
   "language": "python",
   "name": "python3"
  },
  "language_info": {
   "codemirror_mode": {
    "name": "ipython",
    "version": 3
   },
   "file_extension": ".py",
   "mimetype": "text/x-python",
   "name": "python",
   "nbconvert_exporter": "python",
   "pygments_lexer": "ipython3",
   "version": "3.6.4"
  }
 },
 "nbformat": 4,
 "nbformat_minor": 2
}

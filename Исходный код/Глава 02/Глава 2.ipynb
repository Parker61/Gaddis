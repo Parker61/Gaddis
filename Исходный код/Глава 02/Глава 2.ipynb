{
 "cells": [
  {
   "cell_type": "code",
   "execution_count": null,
   "metadata": {},
   "outputs": [],
   "source": [
    "# -*- coding: utf-8 -*-"
   ]
  },
  {
   "cell_type": "markdown",
   "metadata": {},
   "source": [
    "# Глава 2. Ввод, обработка и вывод"
   ]
  },
  {
   "cell_type": "markdown",
   "metadata": {},
   "source": [
    "## 2.3\tВывод выходных данных при помощи функции print"
   ]
  },
  {
   "cell_type": "markdown",
   "metadata": {},
   "source": [
    "### Программа 2-1 (output.py)"
   ]
  },
  {
   "cell_type": "code",
   "execution_count": 34,
   "metadata": {},
   "outputs": [
    {
     "name": "stdout",
     "output_type": "stream",
     "text": [
      "Дед Мороз\n",
      "162390, Россия, Вологодская область, г. Великий Устюг\n",
      "ул. Снежная, 20-18\n"
     ]
    }
   ],
   "source": [
    "print('Дед Мороз')   \n",
    "print('162390, Россия, Вологодская область, г. Великий Устюг')\n",
    "print('ул. Снежная, 20-18')"
   ]
  },
  {
   "cell_type": "markdown",
   "metadata": {},
   "source": [
    "### Программа 2-2 (double_quotes.py)"
   ]
  },
  {
   "cell_type": "code",
   "execution_count": 35,
   "metadata": {},
   "outputs": [
    {
     "name": "stdout",
     "output_type": "stream",
     "text": [
      "Дед Мороз\n",
      "162390, Россия, Вологодская область, г. Великий Устюг\n",
      "ул. Снежная, 20-18\n"
     ]
    }
   ],
   "source": [
    "print(\"Дед Мороз\")\n",
    "print(\"162390, Россия, Вологодская область, г. Великий Устюг\")\n",
    "print(\"ул. Снежная, 20-18\")"
   ]
  },
  {
   "cell_type": "markdown",
   "metadata": {},
   "source": [
    "### Программа 2-3 (apostrophe.py)"
   ]
  },
  {
   "cell_type": "code",
   "execution_count": 4,
   "metadata": {},
   "outputs": [
    {
     "name": "stdout",
     "output_type": "stream",
     "text": [
      "Из всех рассказов О'Генри\n",
      "мне больше нравится 'Вождь краснокожих'.\n"
     ]
    }
   ],
   "source": [
    "print(\"Из всех рассказов О'Генри\")\n",
    "print(\"мне больше нравится 'Вождь краснокожих'.\")"
   ]
  },
  {
   "cell_type": "markdown",
   "metadata": {},
   "source": [
    "### Программа 2-4 (display_quote.py)"
   ]
  },
  {
   "cell_type": "code",
   "execution_count": 5,
   "metadata": {},
   "outputs": [
    {
     "name": "stdout",
     "output_type": "stream",
     "text": [
      "Домашнее задание на завтра – прочитать \"Гамлет\".\n"
     ]
    }
   ],
   "source": [
    "print('Домашнее задание на завтра – прочитать \"Гамлет\".')"
   ]
  },
  {
   "cell_type": "markdown",
   "metadata": {},
   "source": [
    "## 2.4 Комментарии"
   ]
  },
  {
   "cell_type": "markdown",
   "metadata": {},
   "source": [
    "### Программа 2-5 (comment1.py)"
   ]
  },
  {
   "cell_type": "code",
   "execution_count": 36,
   "metadata": {},
   "outputs": [
    {
     "name": "stdout",
     "output_type": "stream",
     "text": [
      "Дед Мороз\n",
      "162390, Россия, Вологодская область, г. Великий Устюг\n",
      "ул. Снежная, 20-18\n"
     ]
    }
   ],
   "source": [
    "# Эта программа показывает\n",
    "# фио и адрес человека.\n",
    "print('Дед Мороз')\n",
    "print('162390, Россия, Вологодская область, г. Великий Устюг')\n",
    "print('ул. Снежная, 20-18')"
   ]
  },
  {
   "cell_type": "markdown",
   "metadata": {},
   "source": [
    "### Программа 2-6 (comment2. py)"
   ]
  },
  {
   "cell_type": "code",
   "execution_count": 37,
   "metadata": {},
   "outputs": [
    {
     "name": "stdout",
     "output_type": "stream",
     "text": [
      "Дед Мороз\n",
      "162390, Россия, Вологодская область, г. Великий Устюг\n",
      "ул. Снежная, 20-18\n"
     ]
    }
   ],
   "source": [
    "print('Дед Мороз') # Показать фио.\n",
    "print('162390, Россия, Вологодская область, г. Великий Устюг') # Показать индекс, город.\n",
    "print('ул. Снежная, 20-18') # Показать адрес проживания."
   ]
  },
  {
   "cell_type": "markdown",
   "metadata": {},
   "source": [
    "## 2.5 Переменные"
   ]
  },
  {
   "cell_type": "markdown",
   "metadata": {},
   "source": [
    "### Программа 2-7 (variable_demo.py)"
   ]
  },
  {
   "cell_type": "code",
   "execution_count": 8,
   "metadata": {},
   "outputs": [
    {
     "name": "stdout",
     "output_type": "stream",
     "text": [
      "Я нахожусь в комнате номер\n",
      "503\n"
     ]
    }
   ],
   "source": [
    "# Эта программа демонстрирует переменную.\n",
    "room = 503\n",
    "print('Я нахожусь в комнате номер')\n",
    "print(room)"
   ]
  },
  {
   "cell_type": "markdown",
   "metadata": {},
   "source": [
    "### Программа 2-8 (variable_demo2.py)"
   ]
  },
  {
   "cell_type": "code",
   "execution_count": 9,
   "metadata": {},
   "outputs": [
    {
     "name": "stdout",
     "output_type": "stream",
     "text": [
      "Предельная скорость составляет\n",
      "160\n",
      "Пройденное расстояние составляет\n",
      "300\n"
     ]
    }
   ],
   "source": [
    "# Создать две переменные: top_speed и distance.\n",
    "top_speed = 160\n",
    "distance = 300\n",
    "\n",
    "# Показать значения, на которые ссылаются переменные.\n",
    "print('Предельная скорость составляет')\n",
    "print(top_speed)\n",
    "print('Пройденное расстояние составляет')\n",
    "print(distance)  "
   ]
  },
  {
   "cell_type": "markdown",
   "metadata": {},
   "source": [
    "### Программа 2-9 (variable_demo3.py)"
   ]
  },
  {
   "cell_type": "code",
   "execution_count": 10,
   "metadata": {},
   "outputs": [
    {
     "name": "stdout",
     "output_type": "stream",
     "text": [
      "Я нахожусь в комнате номер 503\n"
     ]
    }
   ],
   "source": [
    "# Эта программа демонстрирует переменную.\n",
    "room = 503\n",
    "print('Я нахожусь в комнате номер', room)"
   ]
  },
  {
   "cell_type": "markdown",
   "metadata": {},
   "source": [
    "### Программа 2-10 (variable_demo4.py)"
   ]
  },
  {
   "cell_type": "code",
   "execution_count": 2,
   "metadata": {},
   "outputs": [
    {
     "name": "stdout",
     "output_type": "stream",
     "text": [
      "У меня счете 12.75 рублей.\n",
      "А теперь там 990.95 рублей!\n"
     ]
    }
   ],
   "source": [
    "# Эта программа показывает повторное присвоение значения переменной.\n",
    "# Присвоить значение переменной roubles.\n",
    "roubles = 12.75\n",
    "print('У меня счете', roubles, 'рублей.')\n",
    " \n",
    "# Повторно присвоить значение переменной roubles, \n",
    "# чтобы оно ссылалось на другое значение.\n",
    "roubles = 990.95\n",
    "print('А теперь там', roubles, 'рублей!')"
   ]
  },
  {
   "cell_type": "markdown",
   "metadata": {},
   "source": [
    "### Программа 2-11 (string_variable.py)"
   ]
  },
  {
   "cell_type": "code",
   "execution_count": 17,
   "metadata": {},
   "outputs": [
    {
     "name": "stdout",
     "output_type": "stream",
     "text": [
      "Кэтрин Марино\n"
     ]
    }
   ],
   "source": [
    "# Создать переменные, которые ссылаются на два строковых значения.\n",
    "first_name = 'Кэтрин'\n",
    "last_name = 'Марино'\n",
    " \n",
    "# Показать значения, на которые эти переменные ссылаются.\n",
    "print(first_name, last_name)"
   ]
  },
  {
   "cell_type": "markdown",
   "metadata": {},
   "source": [
    "## 2.6 Чтение входных данных с клавиатуры"
   ]
  },
  {
   "cell_type": "markdown",
   "metadata": {},
   "source": [
    "### Программа 2-12 (string_input.py)"
   ]
  },
  {
   "cell_type": "code",
   "execution_count": 19,
   "metadata": {},
   "outputs": [
    {
     "name": "stdout",
     "output_type": "stream",
     "text": [
      "Введите свое имя: Винни\n",
      "Введите свою фамилию: Пух\n",
      "Привет, Винни Пух\n"
     ]
    }
   ],
   "source": [
    "# Получить имя пользователя.\n",
    "first_name = input('Введите свое имя: ')\n",
    " \n",
    "# Получить фамилию пользователя.\n",
    "last_name = input('Введите свою фамилию: ')\n",
    " \n",
    "# Напечатать пользователю приветствие.\n",
    "print('Привет,', first_name, last_name)"
   ]
  },
  {
   "cell_type": "markdown",
   "metadata": {},
   "source": [
    "### Программа 2-13 (input.py)"
   ]
  },
  {
   "cell_type": "code",
   "execution_count": 20,
   "metadata": {},
   "outputs": [
    {
     "name": "stdout",
     "output_type": "stream",
     "text": [
      "Как Вас зовут? Крис\n",
      "Сколько Вам лет? 25\n",
      "Какой у Вас доход? 75000\n",
      "Вот данные, которые Вы ввели:\n",
      "Имя: Крис\n",
      "Возраст: 25\n",
      "Доход: 75000.0\n"
     ]
    }
   ],
   "source": [
    "# Получить имя, возраст и доход пользователя.\n",
    "name = input('Как Вас зовут? ')\n",
    "age = int(input('Сколько Вам лет? '))\n",
    "income = float(input('Какой у Вас доход? '))\n",
    " \n",
    "# Вывод данных на экран.\n",
    "print('Вот данные, которые Вы ввели:')\n",
    "print('Имя:', name)\n",
    "print('Возраст:', age)\n",
    "print('Доход:', income)"
   ]
  },
  {
   "cell_type": "markdown",
   "metadata": {},
   "source": [
    "## 2.7 Выполнение расчетов"
   ]
  },
  {
   "cell_type": "markdown",
   "metadata": {},
   "source": [
    "### Программа 2-14 (simple_math.py)"
   ]
  },
  {
   "cell_type": "code",
   "execution_count": 21,
   "metadata": {},
   "outputs": [
    {
     "name": "stdout",
     "output_type": "stream",
     "text": [
      "Ваша заработная плата составляет 37000.0\n"
     ]
    }
   ],
   "source": [
    "# Присвоить значение переменной salary.\n",
    "salary = 25000.0\n",
    "\n",
    "# Присвоить значение переменной bonus.\n",
    "bonus = 12000.0\n",
    "\n",
    "# Рассчитать заработную плату до удержаний, сложив salary\n",
    "# и bonus. Присвоить результат переменной pay.\n",
    "pay = salary + bonus\n",
    "\n",
    "# Вывести переменную pay.\n",
    "print('Ваша заработная плата составляет', pay)"
   ]
  },
  {
   "cell_type": "markdown",
   "metadata": {},
   "source": [
    "### Программа 2-15 (sale_price.py)"
   ]
  },
  {
   "cell_type": "code",
   "execution_count": 23,
   "metadata": {},
   "outputs": [
    {
     "name": "stdout",
     "output_type": "stream",
     "text": [
      "Введите исходную цену товара: 100\n",
      "Отпускная цена составляет 80.0\n"
     ]
    }
   ],
   "source": [
    "# Эта программа получает исходную цену товара и\n",
    "# вычисляет его отпускную цену с 20%-й скидкой.\n",
    "\n",
    "# Получить исходную цена товара.\n",
    "original_price = float(input(\"Введите исходную цену товара: \"))\n",
    "\n",
    "# Вычислить сумму скидки.\n",
    "discount = original_price * 0.2\n",
    "\n",
    "# Вычислить отпускную цену.\n",
    "sale_price = original_price - discount\n",
    "\n",
    "# Показать отпускную цену.\n",
    "print('Отпускная цена составляет', sale_price)"
   ]
  },
  {
   "cell_type": "markdown",
   "metadata": {},
   "source": [
    "### Программа 2-16 (test_score_average.py)"
   ]
  },
  {
   "cell_type": "code",
   "execution_count": 1,
   "metadata": {},
   "outputs": [
    {
     "name": "stdout",
     "output_type": "stream",
     "text": [
      "Введите первую оценку: 90\n",
      "Введите вторую оценку: 80\n",
      "Введите третью оценку: 100\n",
      "Средний балл составляет 90.0\n"
     ]
    }
   ],
   "source": [
    "# Получить три оценки и присвоить их переменным\n",
    "# test1, test2 и test3.\n",
    "test1 = float(input('Введите первую оценку: '))\n",
    "test2 = float(input('Введите вторую оценку: '))\n",
    "test3 = float(input('Введите третью оценку: '))\n",
    "\n",
    "# Вычислить средний балл из трех оценок\n",
    "# и присвоить результат переменной average.\n",
    "average = (test1 + test2 + test3) / 3.0\n",
    "\n",
    "# Показать переменную average.\n",
    "print('Средний балл составляет', average)"
   ]
  },
  {
   "cell_type": "markdown",
   "metadata": {},
   "source": [
    "### Программа 2-17 (time_converter.py)"
   ]
  },
  {
   "cell_type": "code",
   "execution_count": 25,
   "metadata": {},
   "outputs": [
    {
     "name": "stdout",
     "output_type": "stream",
     "text": [
      "Введите количество секунд: 11730\n",
      "Вот время в часах, минутах и секундах:\n",
      "Часы: 3.0\n",
      "Минуты: 15.0\n",
      "Секунды: 30.0\n"
     ]
    }
   ],
   "source": [
    "# Получить от пользователя количество секунд.\n",
    "total_seconds = float(input('Введите количество секунд: '))\n",
    " \n",
    "# Получить количество часов.\n",
    "hours = total_seconds // 3600\n",
    " \n",
    "# Получить количество оставшихся минут.\n",
    "minutes = (total_seconds // 60) % 60\n",
    "\n",
    "# Получить количество оставшихся секунд.\n",
    "seconds = total_seconds % 60\n",
    "\n",
    "# Показать результаты.\n",
    "print('Вот время в часах, минутах и секундах:')\n",
    "print('Часы:', hours)\n",
    "print('Минуты:', minutes)\n",
    "print('Секунды:', seconds)"
   ]
  },
  {
   "cell_type": "markdown",
   "metadata": {},
   "source": [
    "### Программа 2-18 (future_value.py)"
   ]
  },
  {
   "cell_type": "code",
   "execution_count": 38,
   "metadata": {},
   "outputs": [
    {
     "name": "stdout",
     "output_type": "stream",
     "text": [
      "Введите требуемое будущее значение: 10000\n",
      "Введите годовую процентную ставку: 0.05\n",
      "Введите количество лет роста стоимости денег: 10\n",
      "Вам потребуется внести сумму: 6139.132535407592\n"
     ]
    }
   ],
   "source": [
    "# Получить требуемое будущее значение.\n",
    "future_value = float(input('Введите требуемое будущее значение: '))\n",
    "\n",
    "# Получить годовую процентную ставку.\n",
    "rate = float(input('Введите годовую процентную ставку: '))\n",
    "\n",
    "# Получить количество лет роста стоимости денег.\n",
    "years = int(input('Введите количество лет роста стоимости денег: '))\n",
    "\n",
    "# Рассчитать сумму, необходимую для внесения на счет.\n",
    "present_value = future_value / (1.0 + rate)**years\n",
    "\n",
    "# Показать сумму, необходимую для внесения на счет.\n",
    "print('Вам потребуется внести сумму:', present_value)"
   ]
  },
  {
   "cell_type": "markdown",
   "metadata": {},
   "source": [
    "## 2.8 Подробнее о выводе данных"
   ]
  },
  {
   "cell_type": "markdown",
   "metadata": {},
   "source": [
    "### Программа 2-19 (no_formatting.py)"
   ]
  },
  {
   "cell_type": "code",
   "execution_count": 28,
   "metadata": {},
   "outputs": [
    {
     "name": "stdout",
     "output_type": "stream",
     "text": [
      "Ежемесячный платеж составляет 416.6666666666667\n"
     ]
    }
   ],
   "source": [
    "# Эта программа демонстрирует как число \n",
    "# с плавающей точкой выводится без форматирования.\n",
    "amount_due = 5000.0\n",
    "monthly_payment = amount_due / 12.0\n",
    "print('Ежемесячный платеж составляет', monthly_payment)"
   ]
  },
  {
   "cell_type": "markdown",
   "metadata": {},
   "source": [
    "### Программа 2-20 (formatting.py)"
   ]
  },
  {
   "cell_type": "code",
   "execution_count": 29,
   "metadata": {},
   "outputs": [
    {
     "name": "stdout",
     "output_type": "stream",
     "text": [
      "Ежемесячный платеж составляет 416.67\n"
     ]
    }
   ],
   "source": [
    "# Эта программа демонстрирует, как может быть \n",
    "# отформатировано число с плавающей точкой.\n",
    "amount_due = 5000.0\n",
    "monthly_payment = amount_due / 12\n",
    "print('Ежемесячный платеж составляет',\n",
    "      format(monthly_payment, '.2f'))"
   ]
  },
  {
   "cell_type": "markdown",
   "metadata": {},
   "source": [
    "### Программа 2-21 (dollar_display.py)"
   ]
  },
  {
   "cell_type": "code",
   "execution_count": 31,
   "metadata": {},
   "outputs": [
    {
     "name": "stdout",
     "output_type": "stream",
     "text": [
      "Ваша годовая заработная плата составляет $360,000.00\n"
     ]
    }
   ],
   "source": [
    "# Эта программа демонстрирует, как число с плавающей точкой \n",
    "# может быть отформатировано в качестве валюты.\n",
    "monthly_pay = 30000.0\n",
    "annual_pay = monthly_pay * 12\n",
    "print('Ваша годовая заработная плата составляет $',\n",
    "      format(annual_pay, ',.2f'),\n",
    "      sep='')"
   ]
  },
  {
   "cell_type": "markdown",
   "metadata": {},
   "source": [
    "### Программа 2-22 (columns.py)"
   ]
  },
  {
   "cell_type": "code",
   "execution_count": 32,
   "metadata": {},
   "outputs": [
    {
     "name": "stdout",
     "output_type": "stream",
     "text": [
      " 127.90\n",
      "3465.15\n",
      "   3.78\n",
      " 264.82\n",
      "  88.08\n",
      " 800.00\n"
     ]
    }
   ],
   "source": [
    "# Эта программа выводит приведенные ниже\n",
    "# числа с плавающей точкой в столбце,\n",
    "# в котором десятичные знаки выровнены.\n",
    "num1 = 127.899\n",
    "num2 = 3465.148\n",
    "num3 = 3.776\n",
    "num4 = 264.821\n",
    "num5 = 88.081\n",
    "num6 = 799.999\n",
    "\n",
    "# Вывести каждое число в поле шириной 7 пробелов\n",
    "# с 2 десятичными знаками.\n",
    "print(format(num1, '7.2f'))\n",
    "print(format(num2, '7.2f'))\n",
    "print(format(num3, '7.2f'))\n",
    "print(format(num4, '7.2f'))\n",
    "print(format(num5, '7.2f'))\n",
    "print(format(num6, '7.2f'))"
   ]
  },
  {
   "cell_type": "markdown",
   "metadata": {},
   "source": [
    "## 2.10\tВведение в черепашью графику"
   ]
  },
  {
   "cell_type": "markdown",
   "metadata": {},
   "source": [
    "### Программа 2-23 (orion.py)"
   ]
  },
  {
   "cell_type": "code",
   "execution_count": 33,
   "metadata": {},
   "outputs": [],
   "source": [
    "# Эта программа наносит звезды созвездия Ориона,\n",
    "# названия звезд и линии созвездия.\n",
    "import turtle\n",
    "\n",
    "# Задать размер окна.\n",
    "turtle.setup(500, 600)\n",
    "\n",
    "# Установить черепаху.\n",
    "turtle.penup()\n",
    "turtle.hideturtle()\n",
    "\n",
    "# Создать именованные константы для звездных координат.\n",
    "LEFT_SHOULDER_X = -70\n",
    "LEFT_SHOULDER_Y = 200\n",
    "\n",
    "RIGHT_SHOULDER_X = 80\n",
    "RIGHT_SHOULDER_Y = 180\n",
    "\n",
    "LEFT_BELTSTAR_X = -40\n",
    "LEFT_BELTSTAR_Y = -20\n",
    "\n",
    "MIDDLE_BELTSTAR_X = 0\n",
    "MIDDLE_BELTSTAR_Y = 0\n",
    "\n",
    "RIGHT_BELTSTAR_X = 40\n",
    "RIGHT_BELTSTAR_Y = 20\n",
    "\n",
    "LEFT_KNEE_X = -90\n",
    "LEFT_KNEE_Y = -180\n",
    "\n",
    "RIGHT_KNEE_X = 120\n",
    "RIGHT_KNEE_Y = -140\n",
    "\n",
    "# Нанести звезды.\n",
    "turtle.goto(LEFT_SHOULDER_X, LEFT_SHOULDER_Y) # Левое плечо \n",
    "turtle.dot()\n",
    "turtle.goto(RIGHT_SHOULDER_X, RIGHT_SHOULDER_Y) # Правое плечо \n",
    "turtle.dot()\n",
    "turtle.goto(LEFT_BELTSTAR_X, LEFT_BELTSTAR_Y) # Левая звезда в поясе \n",
    "turtle.dot()\n",
    "turtle.goto(MIDDLE_BELTSTAR_X, MIDDLE_BELTSTAR_Y) # Средняя звезда в поясе\n",
    "turtle.dot()\n",
    "turtle.goto(RIGHT_BELTSTAR_X, RIGHT_BELTSTAR_Y) # Правая звезда в поясе \n",
    "turtle.dot()\n",
    "turtle.goto(LEFT_KNEE_X, LEFT_KNEE_Y) # Левое колено \n",
    "turtle.dot()\n",
    "turtle.goto(RIGHT_KNEE_X, RIGHT_KNEE_Y) # Правое колено \n",
    "turtle.dot()\n",
    "\n",
    "# Вывести названия звезд.\n",
    "turtle.goto(LEFT_SHOULDER_X, LEFT_SHOULDER_Y) # Левое плечо \n",
    "turtle.write('Бетельгейзе')\n",
    "turtle.goto(RIGHT_SHOULDER_X, RIGHT_SHOULDER_Y) # Правое плечо \n",
    "turtle.write('Хатиса')\n",
    "turtle.goto(LEFT_BELTSTAR_X, LEFT_BELTSTAR_Y) # Левая звезда в поясе\n",
    "turtle.write('Альнитак')\n",
    "turtle.goto(MIDDLE_BELTSTAR_X, MIDDLE_BELTSTAR_Y) # Средняя звезда в поясе\n",
    "turtle.write('Альнилам')\n",
    "turtle.goto(RIGHT_BELTSTAR_X, RIGHT_BELTSTAR_Y) # Правая звезда в поясе\n",
    "turtle.write('Минтака')\n",
    "turtle.goto(LEFT_KNEE_X, LEFT_KNEE_Y) # Левое колено\n",
    "turtle.write('Саиф')\n",
    "turtle.goto(RIGHT_KNEE_X, RIGHT_KNEE_Y) # Правое колено\n",
    "turtle.write('Ригель')\n",
    "\n",
    "# Нанести линию из левого плеча в левую звезду пояса\n",
    "turtle.goto(LEFT_SHOULDER_X, LEFT_SHOULDER_Y)\n",
    "turtle.pendown()\n",
    "turtle.goto(LEFT_BELTSTAR_X, LEFT_BELTSTAR_Y)\n",
    "turtle.penup()\n",
    "\n",
    "# Нанести линию из правого плеча в правую звезду пояса\n",
    "turtle.goto(RIGHT_SHOULDER_X, RIGHT_SHOULDER_Y)\n",
    "turtle.pendown()\n",
    "turtle.goto(RIGHT_BELTSTAR_X, RIGHT_BELTSTAR_Y)\n",
    "turtle.penup()\n",
    "\n",
    "# Нанести линию из левой звезды пояса в среднюю звезду пояса\n",
    "turtle.goto(LEFT_BELTSTAR_X, LEFT_BELTSTAR_Y)\n",
    "turtle.pendown()\n",
    "turtle.goto(MIDDLE_BELTSTAR_X, MIDDLE_BELTSTAR_Y)\n",
    "turtle.penup()\n",
    "\n",
    "# Нанести линию из средней звезды пояса в правую звезду пояса\n",
    "turtle.goto(MIDDLE_BELTSTAR_X, MIDDLE_BELTSTAR_Y)\n",
    "turtle.pendown()\n",
    "turtle.goto(RIGHT_BELTSTAR_X, RIGHT_BELTSTAR_Y)\n",
    "turtle.penup()\n",
    "\n",
    "# Нанести линию из левой звезды пояса в левое колено\n",
    "turtle.goto(LEFT_BELTSTAR_X, LEFT_BELTSTAR_Y)\n",
    "turtle.pendown()\n",
    "turtle.goto(LEFT_KNEE_X, LEFT_KNEE_Y)\n",
    "turtle.penup()\n",
    "\n",
    "# Нанести линию из правой звезды пояса в правое колено\n",
    "turtle.goto(RIGHT_BELTSTAR_X, RIGHT_BELTSTAR_Y)\n",
    "turtle.pendown()\n",
    "turtle.goto(RIGHT_KNEE_X, RIGHT_KNEE_Y)\n",
    "\n",
    "# Оставить окно открытым. (В среде IDLE не требуется.)\n",
    "turtle.done()"
   ]
  },
  {
   "cell_type": "code",
   "execution_count": null,
   "metadata": {},
   "outputs": [],
   "source": []
  }
 ],
 "metadata": {
  "kernelspec": {
   "display_name": "Python 3",
   "language": "python",
   "name": "python3"
  },
  "language_info": {
   "codemirror_mode": {
    "name": "ipython",
    "version": 3
   },
   "file_extension": ".py",
   "mimetype": "text/x-python",
   "name": "python",
   "nbconvert_exporter": "python",
   "pygments_lexer": "ipython3",
   "version": "3.6.4"
  }
 },
 "nbformat": 4,
 "nbformat_minor": 2
}

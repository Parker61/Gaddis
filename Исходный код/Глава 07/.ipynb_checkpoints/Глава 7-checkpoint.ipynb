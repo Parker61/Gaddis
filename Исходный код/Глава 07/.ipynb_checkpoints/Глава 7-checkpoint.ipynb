{
 "cells": [
  {
   "cell_type": "code",
   "execution_count": 44,
   "metadata": {},
   "outputs": [],
   "source": [
    "#-*- coding: utf-8 -*-"
   ]
  },
  {
   "cell_type": "markdown",
   "metadata": {},
   "source": [
    "# Глава 7. Списки и кортежи"
   ]
  },
  {
   "cell_type": "markdown",
   "metadata": {},
   "source": [
    "## 7.2\tВведение в списки"
   ]
  },
  {
   "cell_type": "markdown",
   "metadata": {},
   "source": [
    "### Программа 7-1 (sales_list.py)"
   ]
  },
  {
   "cell_type": "code",
   "execution_count": 7,
   "metadata": {},
   "outputs": [
    {
     "name": "stdout",
     "output_type": "stream",
     "text": [
      "Введите продажи за каждый день.\n",
      "День №1: 1000\n",
      "День №2: 2000\n",
      "День №3: 3000\n",
      "День №4: 4000\n",
      "День №5: 5000\n",
      "Вот значения, которые были введены:\n",
      "1000.0\n",
      "2000.0\n",
      "3000.0\n",
      "4000.0\n",
      "5000.0\n"
     ]
    }
   ],
   "source": [
    "# Константа NUM_DAYS содержит количество дней,\n",
    "# за которые мы соберем данные продаж.\n",
    "NUM_DAYS = 5\n",
    "\n",
    "def main():\n",
    "    # Создать список, который будет содержать\n",
    "    # продажи за каждый день.\n",
    "    sales = [0] * NUM_DAYS\n",
    "\n",
    "    # Создать переменную, которая будет содержать индекс.\n",
    "    index = 0\n",
    "\n",
    "    print('Введите продажи за каждый день.')\n",
    "\n",
    "    # Получить продажи за каждый день.\n",
    "    while index < NUM_DAYS:\n",
    "        print('День №', index + 1, ': ', sep='', end='')\n",
    "        sales[index] = float(input())\n",
    "        index += 1\n",
    "\n",
    "    # Показать введенные значения.\n",
    "    print('Вот значения, которые были введены:')\n",
    "    for value in sales:\n",
    "        print(value)\n",
    "\n",
    "# Вызвать главную функцию.\n",
    "main()"
   ]
  },
  {
   "cell_type": "markdown",
   "metadata": {},
   "source": [
    "## 7.4 Нахождение значение в списках при помощи инструкции in"
   ]
  },
  {
   "cell_type": "markdown",
   "metadata": {},
   "source": [
    "### Программа 7-2 (in_list.py)"
   ]
  },
  {
   "cell_type": "code",
   "execution_count": 5,
   "metadata": {},
   "outputs": [
    {
     "name": "stdout",
     "output_type": "stream",
     "text": [
      "Введите номер изделия: B000\n",
      "B000 не найден в списке.\n"
     ]
    }
   ],
   "source": [
    "# Эта программа демонстрирует оператор in\n",
    "# применительно к списку.\n",
    "\n",
    "def main():\n",
    "    # Создать список номеров изделий.\n",
    "    prod_nums = ['V475', 'F987', 'Q143', 'R688']\n",
    "\n",
    "    # Получить искомый номер изделия.\n",
    "    search = input('Введите номер изделия: ')\n",
    "\n",
    "    # Определить, что номер изделия имеется в списке.\n",
    "    if search in prod_nums:\n",
    "        print(search, 'найден в списке.')\n",
    "    else:\n",
    "        print(search, 'не найден в списке.')\n",
    "\n",
    "# Вызвать главную функцию.\n",
    "main()"
   ]
  },
  {
   "cell_type": "markdown",
   "metadata": {},
   "source": [
    "## 7.5 Списковые методы и полезные встроенные функции"
   ]
  },
  {
   "cell_type": "markdown",
   "metadata": {},
   "source": [
    "### Программа 7-3 (list_append.py)"
   ]
  },
  {
   "cell_type": "code",
   "execution_count": 6,
   "metadata": {},
   "outputs": [
    {
     "name": "stdout",
     "output_type": "stream",
     "text": [
      "Введите имя: Кэтрин\n",
      "Желаете добавить еще одно имя?\n",
      "д = да, все остальное = нет: д\n",
      "\n",
      "Введите имя: Крис\n",
      "Желаете добавить еще одно имя?\n",
      "д = да, все остальное = нет: д\n",
      "\n",
      "Введите имя: Кенни\n",
      "Желаете добавить еще одно имя?\n",
      "д = да, все остальное = нет: д\n",
      "\n",
      "Введите имя: Рене\n",
      "Желаете добавить еще одно имя?\n",
      "д = да, все остальное = нет: н\n",
      "\n",
      "Вот имена, которые были введены.\n",
      "Кэтрин\n",
      "Крис\n",
      "Кенни\n",
      "Рене\n"
     ]
    }
   ],
   "source": [
    "# Эта программа демонстрирует применение метода append\n",
    "# для добавления значений в список.\n",
    "\n",
    "def main():\n",
    "    # Сначала создать пустой список.\n",
    "    name_list = []\n",
    "\n",
    "    # Создать переменнную для управления циклом.\n",
    "    again = 'д'\n",
    "\n",
    "    # Добавить в список несколько имен.\n",
    "    while again == 'д':\n",
    "        # Получить от пользователя имя.\n",
    "        name = input('Введите имя: ')\n",
    "\n",
    "        # Добавить имя в конец списка.\n",
    "        name_list.append(name)\n",
    "\n",
    "        # Добавить еще одно?\n",
    "        print('Желаете добавить еще одно имя?')\n",
    "        again = input('д = да, все остальное = нет: ')\n",
    "        print()\n",
    "\n",
    "    # Показать введенные имена.\n",
    "    print('Вот имена, которые были введены.')\n",
    "\n",
    "    for name in name_list:\n",
    "        print(name)\n",
    "\n",
    "# Вызвать главную функцию.\n",
    "main()"
   ]
  },
  {
   "cell_type": "markdown",
   "metadata": {},
   "source": [
    "### Программа 7-4 (index_list.py)"
   ]
  },
  {
   "cell_type": "code",
   "execution_count": 11,
   "metadata": {},
   "outputs": [
    {
     "name": "stdout",
     "output_type": "stream",
     "text": [
      "Вот значения списка продуктов питания:\n",
      "['Пицца', 'Бургеры', 'Чипсы']\n",
      "Какое значение следует изменить? Бургеры\n",
      "Введите новое значение: Соленые огурцы\n",
      "Вот пересмотренный список:\n",
      "['Пицца', 'Соленые огурцы', 'Чипсы']\n"
     ]
    }
   ],
   "source": [
    "# Эта программа демонстрирует, как получить \n",
    "# индексную позицию значения в списке и затем \n",
    "# заменить это значение на новое.\n",
    "\n",
    "def main():\n",
    "    # Создать список с несколькими значениями.\n",
    "    food = ['Пицца', 'Бургеры', 'Чипсы']\n",
    "\n",
    "    # Показать список.\n",
    "    print('Вот значения списка продуктов питания:')\n",
    "    print(food)\n",
    "\n",
    "    # Получить значение, подлежащее изменению.\n",
    "    item = input('Какое значение следует изменить? ')\n",
    "\n",
    "    try:\n",
    "        # Получить индексную позицию значения в списке.\n",
    "        item_index = food.index(item)\n",
    "\n",
    "        # Получить значение, на которое следует заменить.\n",
    "        new_item = input('Введите новое значение: ')\n",
    "\n",
    "        # Заменить старое значение на новое.\n",
    "        food[item_index] = new_item\n",
    "\n",
    "        # Показать список.\n",
    "        print('Вот пересмотренный список:')\n",
    "        print(food)\n",
    "    except ValueError:\n",
    "         print('Это значение в списке не найден.')\n",
    "\n",
    "# Вызвать главную функцию.\n",
    "main()"
   ]
  },
  {
   "cell_type": "markdown",
   "metadata": {},
   "source": [
    "### Программа 7-5 (insert_list.py)"
   ]
  },
  {
   "cell_type": "code",
   "execution_count": 9,
   "metadata": {},
   "outputs": [
    {
     "name": "stdout",
     "output_type": "stream",
     "text": [
      "Список перед ставкой:\n",
      "['Джеймс', 'Кэтрин', 'Билл']\n",
      "Список после вставки:\n",
      "['Джо', 'Джеймс', 'Кэтрин', 'Билл']\n"
     ]
    }
   ],
   "source": [
    "# Это программа демонстрирует метод insert.\n",
    "\n",
    "def main():\n",
    "    # Создать список с несколькими именами.\n",
    "    names = ['Джеймс', 'Кэтрин', 'Билл']\n",
    "\n",
    "    # Показать список.\n",
    "    print('Список перед ставкой:')\n",
    "    print(names)\n",
    "\n",
    "    # Вставить новое имя в элемент 0.\n",
    "    names.insert(0, 'Джо')\n",
    "\n",
    "    # Показать список еще раз.\n",
    "    print('Список после вставки:')\n",
    "    print(names)\n",
    "\n",
    "# Вызвать главную функцию.\n",
    "main()"
   ]
  },
  {
   "cell_type": "markdown",
   "metadata": {},
   "source": [
    "### Программа 7-6 (remove_item.py)"
   ]
  },
  {
   "cell_type": "code",
   "execution_count": 12,
   "metadata": {},
   "outputs": [
    {
     "name": "stdout",
     "output_type": "stream",
     "text": [
      "Вот значения списка продуктов питания:\n",
      "['Пицца', 'Бургеры', 'Чипсы']\n",
      "Какое следует значение удалить? Бургеры\n",
      "Вот пересмотренный список:\n",
      "['Пицца', 'Чипсы']\n"
     ]
    }
   ],
   "source": [
    "# Эта программа демонстрирует применение метода \n",
    "# remove для удаления значения из списка.\n",
    "\n",
    "def main():\n",
    "    # Создать список с несколькими значениями.\n",
    "    food = ['Пицца', 'Бургеры', 'Чипсы']\n",
    "\n",
    "    # Показать список.\n",
    "    print('Вот значения списка продуктов питания:')\n",
    "    print(food)\n",
    "\n",
    "    # Получить значения, подлежащее удалению.\n",
    "    item = input('Какое следует значение удалить? ')\n",
    "\n",
    "    try:\n",
    "        # Удалить значение.\n",
    "        food.remove(item)\n",
    "\n",
    "        # Показать список.\n",
    "        print('Вот пересмотренный список:')\n",
    "        print(food)\n",
    "\n",
    "    except ValueError:\n",
    "        print('Это значение в списке не найдено.')\n",
    "\n",
    "# Вызвать главную функцию.\n",
    "main()"
   ]
  },
  {
   "cell_type": "markdown",
   "metadata": {},
   "source": [
    "## 7.7 Обработка списков"
   ]
  },
  {
   "cell_type": "markdown",
   "metadata": {},
   "source": [
    "### Программа 7-7 (barista_pay.py)"
   ]
  },
  {
   "cell_type": "code",
   "execution_count": 15,
   "metadata": {},
   "outputs": [
    {
     "name": "stdout",
     "output_type": "stream",
     "text": [
      "Введите количество отработанных часов сотрудником 1: 10\n",
      "Введите количество отработанных часов сотрудником 2: 20\n",
      "Введите количество отработанных часов сотрудником 3: 15\n",
      "Введите количество отработанных часов сотрудником 4: 40\n",
      "Введите количество отработанных часов сотрудником 5: 20\n",
      "Введите количество отработанных часов сотрудником 6: 18\n",
      "Введите почасовую ставку оплаты: 12.75\n",
      "Зарплата сотрудника 1: $127.50\n",
      "Зарплата сотрудника 2: $255.00\n",
      "Зарплата сотрудника 3: $191.25\n",
      "Зарплата сотрудника 4: $510.00\n",
      "Зарплата сотрудника 5: $255.00\n",
      "Зарплата сотрудника 6: $229.50\n"
     ]
    }
   ],
   "source": [
    "# Эта программа вычисляет заработную плату \n",
    "# для каждого сотрудника Меган.\n",
    "\n",
    "# NUM_EMPLOYEES применяется как константа\n",
    "# для размера списка.\n",
    "NUM_EMPLOYEES = 6\n",
    "\n",
    "def main():\n",
    "    # Создать список, который будет содержать отработанные часы.\n",
    "    hours = [0] * NUM_EMPLOYEES\n",
    "\n",
    "    # Получить часы, отработанные каждым сотрудником.\n",
    "    for index in range(NUM_EMPLOYEES):\n",
    "        print('Введите количество отработанных часов сотрудником ',\n",
    "              index + 1, ': ', sep='', end='')\n",
    "        hours[index] = float(input())\n",
    "\n",
    "    # Получить почасовую ставку оплаты.\n",
    "    pay_rate = float(input('Введите почасовую ставку оплаты: '))\n",
    "\n",
    "    # Показать заработную плату каждого сотрудника.\n",
    "    for index in range(NUM_EMPLOYEES):\n",
    "        gross_pay = hours[index] * pay_rate\n",
    "        print('Зарплата сотрудника ', index + 1, ': $',\n",
    "              format(gross_pay, ',.2f'), sep='')\n",
    "\n",
    "# Вызвать главную функцию.\n",
    "main()"
   ]
  },
  {
   "cell_type": "markdown",
   "metadata": {},
   "source": [
    "### Программа 7-8 (total_list.py)"
   ]
  },
  {
   "cell_type": "code",
   "execution_count": 16,
   "metadata": {},
   "outputs": [
    {
     "name": "stdout",
     "output_type": "stream",
     "text": [
      "Сумма элементов составляет 30\n"
     ]
    }
   ],
   "source": [
    "# Эта программа вычисляет сумму значений\n",
    "# в списке.\n",
    "\n",
    "def main():\n",
    "    # Создать список.\n",
    "    numbers = [2, 4, 6, 8, 10]\n",
    "\n",
    "    # Создать переменную для применения в качестве накопителя.\n",
    "    total = 0\n",
    "\n",
    "    # Вычислить сумму значений элементов списка.\n",
    "    for value in numbers:\n",
    "        total += value\n",
    "\n",
    "    # Показать сумму значений элементов списка.\n",
    "    print('Сумма элементов составляет', total)\n",
    "\n",
    "# Вызвать главную функцию.\n",
    "main()"
   ]
  },
  {
   "cell_type": "markdown",
   "metadata": {},
   "source": [
    "### Программа 7-9 (average_list.py)"
   ]
  },
  {
   "cell_type": "code",
   "execution_count": 18,
   "metadata": {},
   "outputs": [
    {
     "name": "stdout",
     "output_type": "stream",
     "text": [
      "Среднее значение элементов составляет 5.1\n"
     ]
    }
   ],
   "source": [
    "# Эта программа вычисляет среднее арифметическое\n",
    "# значение в списке значений.\n",
    "\n",
    "def main():\n",
    "    # Создать список.\n",
    "    scores = [2.5, 7.3, 6.5, 4.0, 5.2]\n",
    "\n",
    "    # Создать переменную для применения в качестве накопителя.\n",
    "    total = 0.0\n",
    "\n",
    "    # Вычислить сумму значений в списке.\n",
    "    for value in scores:\n",
    "        total += value\n",
    "\n",
    "    # Вычислить среднее арифметическое элементов.\n",
    "    average = total / len(scores)\n",
    "\n",
    "    # Показать среднее значение в списке значений.\n",
    "    print('Среднее значение элементов составляет', average)\n",
    "\n",
    "# Вызвать главную функцию.\n",
    "main()"
   ]
  },
  {
   "cell_type": "markdown",
   "metadata": {},
   "source": [
    "### Программа 7-10 (total_function.py)"
   ]
  },
  {
   "cell_type": "code",
   "execution_count": 19,
   "metadata": {},
   "outputs": [
    {
     "name": "stdout",
     "output_type": "stream",
     "text": [
      "Сумма составляет 30\n"
     ]
    }
   ],
   "source": [
    "# Эта программа применяет функцию для вычисления\n",
    "# суммы значений в списке.\n",
    "\n",
    "def main():\n",
    "    # Создать список.\n",
    "    numbers = [2, 4, 6, 8, 10]\n",
    "\n",
    "    # Показать сумму значений элементов списка.\n",
    "    print('Сумма составляет', get_total(numbers))\n",
    "\n",
    "# Функция get_total принимает список в качестве\n",
    "# аргумента и возвращает сумму значений\n",
    "# с писке.\n",
    "def get_total(value_list):\n",
    "    # Создать переменную для применения в качестве накопителя.\n",
    "    total = 0\n",
    "\n",
    "    # Вычислить сумму значений элементов списка.\n",
    "    for num in value_list:\n",
    "        total += num\n",
    "\n",
    "    # Вернуть сумму.\n",
    "    return total\n",
    "\n",
    "# Вызвать главную функцию.\n",
    "main()"
   ]
  },
  {
   "cell_type": "markdown",
   "metadata": {},
   "source": [
    "### Программа 7-11 (return_list.py)"
   ]
  },
  {
   "cell_type": "code",
   "execution_count": 20,
   "metadata": {},
   "outputs": [
    {
     "name": "stdout",
     "output_type": "stream",
     "text": [
      "Введите число: 1\n",
      "Желаете добавить еще одно число?\n",
      "д = да, все остальное = нет: д\n",
      "\n",
      "Введите число: 2\n",
      "Желаете добавить еще одно число?\n",
      "д = да, все остальное = нет: д\n",
      "\n",
      "Введите число: 3\n",
      "Желаете добавить еще одно число?\n",
      "д = да, все остальное = нет: д\n",
      "\n",
      "Введите число: 4\n",
      "Желаете добавить еще одно число?\n",
      "д = да, все остальное = нет: д\n",
      "\n",
      "Введите число: 5\n",
      "Желаете добавить еще одно число?\n",
      "д = да, все остальное = нет: н\n",
      "\n",
      "Числа в списке:\n",
      "[1, 2, 3, 4, 5]\n"
     ]
    }
   ],
   "source": [
    "# Эта программа применяет функцию для создания списка.\n",
    "# Указанная функция возвращает ссылку на список.\n",
    "\n",
    "def main():\n",
    "    # Получить список с хранящимися в нем значениями.\n",
    "    numbers = get_values()\n",
    "\n",
    "    # Показать значения в списке.\n",
    "    print('Числа в списке:')\n",
    "    print(numbers)\n",
    "\n",
    "# Функция get_values получает от пользователя \n",
    "# ряд чисел и сохраняет их в списке. \n",
    "# Эта функция возвращает сслыку на список.\n",
    "def get_values():\n",
    "    # Создать пустой список.\n",
    "    values = []\n",
    "\n",
    "    # Создать переменную для управления циклом.\n",
    "    again = 'д'\n",
    "\n",
    "    # Получить значения от пользователя и\n",
    "    # добавить их в список.\n",
    "    while again == 'д':\n",
    "        # Получить число и добавить его в список.\n",
    "        num = int(input('Введите число: '))\n",
    "        values.append(num)\n",
    "\n",
    "        # Желаете проделать это еще раз?\n",
    "        print('Желаете добавить еще одно число?')\n",
    "        again = input('д = да, все остальное = нет: ')\n",
    "        print()\n",
    "\n",
    "    # Вернуть список.\n",
    "    return values\n",
    "\n",
    "# Вызвать главную функцию.\n",
    "main()"
   ]
  },
  {
   "cell_type": "markdown",
   "metadata": {},
   "source": [
    "### Программа 7-12 (drop_lowest_score.py)"
   ]
  },
  {
   "cell_type": "code",
   "execution_count": 1,
   "metadata": {},
   "outputs": [
    {
     "name": "stdout",
     "output_type": "stream",
     "text": [
      "Введите оценку: 92\n",
      "Желаете  добавить еще одну оценку?\n",
      "д = да, все остальное = нет: д\n",
      "\n",
      "Введите оценку: 67\n",
      "Желаете  добавить еще одну оценку?\n",
      "д = да, все остальное = нет: д\n",
      "\n",
      "Введите оценку: 75\n",
      "Желаете  добавить еще одну оценку?\n",
      "д = да, все остальное = нет: д\n",
      "\n",
      "Введите оценку: 88\n",
      "Желаете  добавить еще одну оценку?\n",
      "д = да, все остальное = нет: н\n",
      "\n",
      "Средняя оценка с учетом отброшенной самой низкой оценки: 85.0\n"
     ]
    }
   ],
   "source": [
    "# Эта программ получает серию оценок за лабораторные \n",
    "# работы и вычисляет среднюю оценку,\n",
    "# отбрасывая самую низкую.\n",
    "\n",
    "def main():\n",
    "    # Получить от пользователя оценки.\n",
    "    scores = get_scores()\n",
    "\n",
    "    # Получить сумму оценок.\n",
    "    total = get_total(scores)\n",
    "\n",
    "    # Получить самую низкую оценку.\n",
    "    lowest = min(scores)\n",
    "\n",
    "    # Вычесть саму низкую оценку из суммы.\n",
    "    total -= lowest\n",
    "\n",
    "    # Вычислить среднее значение. Обратите внимание, что\n",
    "    # мы делим на количество оценок минус 1, потому что\n",
    "    # самая низкая оценка была отброшена.\n",
    "    average = total / (len(scores) - 1)\n",
    "\n",
    "    # Показать среднее значение.\n",
    "    print('Средняя оценка с учетом отброшенной',\n",
    "          'самой низкой оценки:', average)\n",
    "\n",
    "# Функция get_scores получает от пользователя \n",
    "# серию оценок и сохраняет их в списке.\n",
    "# Указанная функция возвращает ссылку на список.\n",
    "def get_scores():\n",
    "    # Создать пустой список.\n",
    "    test_scores = []\n",
    "\n",
    "    # Создать переменную для управления циклом.\n",
    "    again = 'д'\n",
    "\n",
    "    # Получить от пользователя оценки и добавить их\n",
    "    # в список.\n",
    "    while again == 'д':\n",
    "        # Получить оценку и добавить ее в список.\n",
    "        value = float(input('Введите оценку: '))\n",
    "        test_scores.append(value)\n",
    "\n",
    "        # Желаете проделать это еще раз?\n",
    "        print('Желаете  добавить еще одну оценку?')\n",
    "        again = input('д = да, все остальное = нет: ')\n",
    "        print()\n",
    "\n",
    "    # Вернуть список.\n",
    "    return test_scores\n",
    "\n",
    "# Функция get_total принимает список в качестве\n",
    "# аргумента и возвращает сумму значений\n",
    "# в списке.\n",
    "def get_total(value_list):\n",
    "    # Создать переменную для применения в качестве накопителя.\n",
    "    total = 0.0\n",
    "\n",
    "    # Вычислить сумму значений элементов списка.\n",
    "    for num in value_list:\n",
    "        total += num\n",
    "\n",
    "    # Вернуть сумму.\n",
    "    return total\n",
    "\n",
    "# Вызвать главную функцию.\n",
    "main()"
   ]
  },
  {
   "cell_type": "markdown",
   "metadata": {},
   "source": [
    "### Программа 7-13 (writelines.py)"
   ]
  },
  {
   "cell_type": "code",
   "execution_count": 3,
   "metadata": {},
   "outputs": [],
   "source": [
    "# -*- coding: cp1251 -*- \n",
    "\n",
    "# Эта программа применяет метод writelines для сохранения\n",
    "# списка строковых значений в файл.\n",
    "\n",
    "def main():\n",
    "    # Создать список строковых значений.\n",
    "    cities = ['Нью Йорк', 'Бостон', 'Атланта', 'Даллас'] \n",
    "\n",
    "    # Открыть файл для записи.\n",
    "    outfile = open('cities.txt', 'w')\n",
    "\n",
    "    # Записать список в файл.\n",
    "    outfile.writelines(cities)\n",
    "\n",
    "    # Закрыть файл.\n",
    "    outfile.close()\n",
    "\n",
    "# Вызвать главную функцию.\n",
    "main()"
   ]
  },
  {
   "cell_type": "markdown",
   "metadata": {},
   "source": [
    "### Программа 7-14 (write_list.py)"
   ]
  },
  {
   "cell_type": "code",
   "execution_count": 4,
   "metadata": {},
   "outputs": [],
   "source": [
    "# Эта программа сохраняет список строковых значений в файл.\n",
    "\n",
    "def main():\n",
    "    # Создать список строковых значений.\n",
    "    cities = ['Нью Йорк', 'Бостон', 'Атланта', 'Даллас'] \n",
    "\n",
    "    # Открыть файл для записи.\n",
    "    outfile = open('cities.txt', 'w')\n",
    "\n",
    "    # Записать список в файл.\n",
    "    for item in cities:\n",
    "        outfile.write(item + '\\n')\n",
    "\n",
    "    # Закрыть файл.\n",
    "    outfile.close()\n",
    "\n",
    "# Вызвать главную функцию.\n",
    "main()"
   ]
  },
  {
   "cell_type": "markdown",
   "metadata": {},
   "source": [
    "### Программа 7-15 (read_list.py)"
   ]
  },
  {
   "cell_type": "code",
   "execution_count": 5,
   "metadata": {},
   "outputs": [
    {
     "name": "stdout",
     "output_type": "stream",
     "text": [
      "['Нью Йорк', 'Бостон', 'Атланта', 'Даллас']\n"
     ]
    }
   ],
   "source": [
    "# Эта программа считывает содержимое файла в список.\n",
    "\n",
    "def main():\n",
    "    # Открыть файл для чтения.\n",
    "    infile = open('cities.txt', 'r')\n",
    "\n",
    "    # Прочитать содержимое файла в список.\n",
    "    cities = infile.readlines()\n",
    "\n",
    "    # Закрыть файл.\n",
    "    infile.close()\n",
    "\n",
    "    # Удалить из каждого элемента символ \\n.\n",
    "    index = 0\n",
    "    while index < len(cities):\n",
    "        cities[index] = cities[index].rstrip('\\n')\n",
    "        index += 1\n",
    "\n",
    "    # Напечатать содержимое списка.\n",
    "    print(cities)\n",
    "\n",
    "# Вызвать главную функцию.\n",
    "main()"
   ]
  },
  {
   "cell_type": "markdown",
   "metadata": {},
   "source": [
    "### Программа 7-16 (write_number_list.py)"
   ]
  },
  {
   "cell_type": "code",
   "execution_count": 6,
   "metadata": {},
   "outputs": [],
   "source": [
    "# Эта программа сохраняет список чисел в файл.\n",
    "\n",
    "def main():\n",
    "    # Создать список чисел.\n",
    "    numbers = [1, 2, 3, 4, 5, 6, 7]\n",
    "\n",
    "    # Открыть файл для записи.\n",
    "    outfile = open('numberlist.txt', 'w')\n",
    "\n",
    "    # Записать список в файл.\n",
    "    for item in numbers:\n",
    "        outfile.write(str(item) + '\\n')\n",
    "\n",
    "    # Закрыть файл.\n",
    "    outfile.close()\n",
    "\n",
    "# Вызвать главную функцию.\n",
    "main()"
   ]
  },
  {
   "cell_type": "markdown",
   "metadata": {},
   "source": [
    "### Программа 7-17 (read_number_list.py)"
   ]
  },
  {
   "cell_type": "code",
   "execution_count": 7,
   "metadata": {},
   "outputs": [
    {
     "name": "stdout",
     "output_type": "stream",
     "text": [
      "[1, 2, 3, 4, 5, 6, 7]\n"
     ]
    }
   ],
   "source": [
    "# Эта программа считывает числа из файла в список.\n",
    "\n",
    "def main():\n",
    "    # Открыть файл для чтения.\n",
    "    infile = open('numberlist.txt', 'r')\n",
    "\n",
    "    # Прочитать содержимое файла в список.\n",
    "    numbers = infile.readlines()\n",
    "\n",
    "    # Закрыть файл.\n",
    "    infile.close()\n",
    "\n",
    "    # Конвертировать каждый элемент в тип int.\n",
    "    index = 0\n",
    "    while index < len(numbers):\n",
    "        numbers[index] = int(numbers[index])\n",
    "        index += 1\n",
    "\n",
    "    # Напечатать содержимое списка.\n",
    "    print(numbers)\n",
    "\n",
    "# Вызвать главную функцию.\n",
    "main()"
   ]
  },
  {
   "cell_type": "markdown",
   "metadata": {},
   "source": [
    "## 7.8 Двумерные списки"
   ]
  },
  {
   "cell_type": "markdown",
   "metadata": {},
   "source": [
    "### Программа 7-18 (random_numbers.py)"
   ]
  },
  {
   "cell_type": "code",
   "execution_count": 8,
   "metadata": {},
   "outputs": [
    {
     "name": "stdout",
     "output_type": "stream",
     "text": [
      "[[29, 40, 55, 56], [74, 36, 16, 78], [52, 54, 38, 53]]\n"
     ]
    }
   ],
   "source": [
    "# Эта программа присваивает случайные числа\n",
    "# двумерному списку.\n",
    "import random\n",
    "\n",
    "# Константы для строк и столбцов\n",
    "ROWS = 3\n",
    "COLS = 4\n",
    "\n",
    "def main():\n",
    "    # Создать двумерный список.\n",
    "    values = [[0, 0, 0, 0],\n",
    "              [0, 0, 0, 0],\n",
    "              [0, 0, 0, 0]]\n",
    "\n",
    "    # Заполнить список случайными числами.\n",
    "    for r in range(ROWS):\n",
    "        for c in range(COLS):\n",
    "            values[r][c] = random.randint(1, 100)\n",
    "\n",
    "    # Показать случайные числа.\n",
    "    print(values)\n",
    "\n",
    "# Вызвать главную функцию.\n",
    "main()"
   ]
  },
  {
   "cell_type": "markdown",
   "metadata": {},
   "source": [
    "## 7.10 Построение графиков с данными списка при помощи пакета matplotlib "
   ]
  },
  {
   "cell_type": "code",
   "execution_count": 21,
   "metadata": {},
   "outputs": [],
   "source": [
    "from IPython.display import Image\n",
    "%matplotlib inline\n",
    "DPI = 600   # разрешающая способность файла png: дисплей=300, публикация=600\n",
    "\n",
    "from matplotlib import rcParams\n",
    "rcParams['font.family']     = 'sans-serif'\n",
    "rcParams['font.sans-serif'] = ['Ubuntu Condensed']\n",
    "rcParams['figure.figsize']  = (4, 3.8)\n",
    "rcParams['legend.fontsize'] = 10\n",
    "rcParams['xtick.labelsize'] = 9\n",
    "rcParams['ytick.labelsize'] = 9"
   ]
  },
  {
   "cell_type": "markdown",
   "metadata": {},
   "source": [
    "### Программа 7-19 (line_graph1.py)"
   ]
  },
  {
   "cell_type": "code",
   "execution_count": 31,
   "metadata": {
    "scrolled": true
   },
   "outputs": [
    {
     "data": {
      "image/png": "[encoded data removed]",
      "text/plain": [
       "<matplotlib.figure.Figure at 0x192d5d1d518>"
      ]
     },
     "metadata": {},
     "output_type": "display_data"
    }
   ],
   "source": [
    "# Эта программа выводит простой линейный график.\n",
    "import matplotlib.pyplot as plt\n",
    "\n",
    "def main():\n",
    "    # Создать списки для координат X и Y каждой точки данных.\n",
    "    x_coords = [0, 1, 2, 3, 4]\n",
    "    y_coords = [0, 3, 1, 5, 2]\n",
    "\n",
    "    # Построить линейный график.\n",
    "    plt.plot(x_coords, y_coords)\n",
    "\n",
    "    # Показать линейный график.\n",
    "    plt.tight_layout()\n",
    "    plt.savefig('07_01.png', dpi=DPI)\n",
    "    plt.show()\n",
    "\n",
    "# Вызвать главную функцию.\n",
    "main()"
   ]
  },
  {
   "cell_type": "markdown",
   "metadata": {},
   "source": [
    "### Программа 7-20 (line_graph2.py)"
   ]
  },
  {
   "cell_type": "code",
   "execution_count": 30,
   "metadata": {},
   "outputs": [
    {
     "data": {
      "image/png": "[encoded data removed]",
      "text/plain": [
       "<matplotlib.figure.Figure at 0x192d5d3f240>"
      ]
     },
     "metadata": {},
     "output_type": "display_data"
    }
   ],
   "source": [
    "# Эта программа выводит простой линейный график.\n",
    "import matplotlib.pyplot as plt\n",
    "\n",
    "def main():\n",
    "    # Создать списки для координат X и Y каждой точки данных.\n",
    "    x_coords = [0, 1, 2, 3, 4]\n",
    "    y_coords = [0, 3, 1, 5, 2]\n",
    "\n",
    "    # Построить линейный график.\n",
    "    plt.plot(x_coords, y_coords)\n",
    "\n",
    "    # Добавить заголовок.\n",
    "    plt.title('Образец данных')\n",
    "\n",
    "    # Добавить на оси описательные метки.\n",
    "    plt.xlabel('Это ось X')\n",
    "    plt.ylabel('Это ось Y')\n",
    "\n",
    "    # Добавить сетку.\n",
    "    plt.grid(True)\n",
    "\n",
    "    # Показать линейный график.\n",
    "    plt.tight_layout()\n",
    "    plt.savefig('07_02.png', dpi=DPI)\n",
    "    plt.show()\n",
    "\n",
    "# Вызвать главную функцию.\n",
    "main()"
   ]
  },
  {
   "cell_type": "markdown",
   "metadata": {},
   "source": [
    "### Программа 7-21 (line_graph3.py)"
   ]
  },
  {
   "cell_type": "code",
   "execution_count": 29,
   "metadata": {},
   "outputs": [
    {
     "data": {
      "image/png": "[encoded data removed]",
      "text/plain": [
       "<matplotlib.figure.Figure at 0x192d5dbb7b8>"
      ]
     },
     "metadata": {},
     "output_type": "display_data"
    }
   ],
   "source": [
    "# Эта программа выводит простой линейный график.\n",
    "import matplotlib.pyplot as plt\n",
    "\n",
    "def main():\n",
    "    # Создать списки для координат X и Y каждой точки данных.\n",
    "    x_coords = [0, 1, 2, 3, 4]\n",
    "    y_coords = [0, 3, 1, 5, 2]\n",
    "\n",
    "    # Построить линейный график.\n",
    "    plt.plot(x_coords, y_coords)\n",
    "\n",
    "    # Добавить заголовок.\n",
    "    plt.title('Образец данных')\n",
    "\n",
    "    # Добавить на оси описательные метки.\n",
    "    plt.xlabel('Это ось X')\n",
    "    plt.ylabel('Это ось Y')\n",
    "\n",
    "    # Задать границы осей.\n",
    "    plt.xlim(xmin=-1, xmax=10)\n",
    "    plt.ylim(ymin=-1, ymax=6)\n",
    "\n",
    "    # Добавить сетку.\n",
    "    plt.grid(True)\n",
    "\n",
    "    # Показать линейный график.\n",
    "    plt.tight_layout()\n",
    "    plt.savefig('07_03.png', dpi=DPI)    \n",
    "    plt.show()\n",
    "\n",
    "# Вызвать главную функцию.\n",
    "main()"
   ]
  },
  {
   "cell_type": "markdown",
   "metadata": {},
   "source": [
    "### Программа 7-22 (line_graph4.py)"
   ]
  },
  {
   "cell_type": "code",
   "execution_count": 28,
   "metadata": {},
   "outputs": [
    {
     "data": {
      "image/png": "[encoded data removed]",
      "text/plain": [
       "<matplotlib.figure.Figure at 0x192d5bcc668>"
      ]
     },
     "metadata": {},
     "output_type": "display_data"
    }
   ],
   "source": [
    "# Эта программа выводит простой линейный график.\n",
    "import matplotlib.pyplot as plt\n",
    "\n",
    "def main():\n",
    "    # Создать списки для координат X и Y каждой точки данных.\n",
    "    x_coords = [0, 1, 2, 3, 4]\n",
    "    y_coords = [0, 3, 1, 5, 2]\n",
    "\n",
    "    # Построить линейный график.\n",
    "    plt.plot(x_coords, y_coords)\n",
    "\n",
    "    # Добавить заголовок.\n",
    "    plt.title('Продажи с разбивкой по годам')\n",
    "\n",
    "    # Добавить на оси описательные метки.\n",
    "    plt.xlabel('Год')\n",
    "    plt.ylabel('Объем продаж')\n",
    "\n",
    "    # Настроить метки делений.\n",
    "    plt.xticks([0, 1, 2, 3, 4],\n",
    "               ['2016', '2017', '2018', '2019', '2020'])\n",
    "    plt.yticks([0, 1, 2, 3, 4, 5],\n",
    "               ['$0m', '$1m', '$2m', '$3m', '$4m', '$5m'])\n",
    "\n",
    "    # Добавить сетку.\n",
    "    plt.grid(True)\n",
    "\n",
    "    # Показать линейный график.\n",
    "    plt.tight_layout()\n",
    "    plt.savefig('07_04.png', dpi=DPI)   \n",
    "    plt.show()\n",
    "\n",
    "# Вызвать главную функцию.\n",
    "main()"
   ]
  },
  {
   "cell_type": "markdown",
   "metadata": {},
   "source": [
    "### Программа 7-22 (line_graph5.py)"
   ]
  },
  {
   "cell_type": "code",
   "execution_count": 27,
   "metadata": {},
   "outputs": [
    {
     "data": {
      "image/png": "[encoded data removed]",
      "text/plain": [
       "<matplotlib.figure.Figure at 0x192d5bcca90>"
      ]
     },
     "metadata": {},
     "output_type": "display_data"
    }
   ],
   "source": [
    "# Эта программа выводит простой линейный график.\n",
    "import matplotlib.pyplot as plt\n",
    "\n",
    "def main():\n",
    "    # Создать списки для координат X и Y каждой точки данных.\n",
    "    x_coords = [0, 1, 2, 3, 4]\n",
    "    y_coords = [0, 3, 1, 5, 2]\n",
    "\n",
    "    # Построить линейный график.\n",
    "    plt.plot(x_coords, y_coords, marker='o')\n",
    "\n",
    "    # Добавить заголовок.\n",
    "    plt.title('Продажи с разбивкой по годам')\n",
    "\n",
    "    # Добавить на оси описательные метки.\n",
    "    plt.xlabel('Год')\n",
    "    plt.ylabel('Объем продаж')\n",
    "\n",
    "    # Настроить метки делений.\n",
    "    plt.xticks([0, 1, 2, 3, 4],\n",
    "               ['2016', '2017', '2018', '2019', '2020'])\n",
    "    plt.yticks([0, 1, 2, 3, 4, 5],\n",
    "               ['$0m', '$1m', '$2m', '$3m', '$4m', '$5m'])\n",
    "\n",
    "    # Добавить сетку.\n",
    "    plt.grid(True)\n",
    "\n",
    "    # Показать линейный график.\n",
    "    plt.tight_layout()\n",
    "    plt.savefig('07_05.png', dpi=DPI)   \n",
    "    plt.show()\n",
    "\n",
    "# Вызвать главную функцию.\n",
    "main()"
   ]
  },
  {
   "cell_type": "markdown",
   "metadata": {},
   "source": [
    "### Программа 7-24 (bar_chart1.py)"
   ]
  },
  {
   "cell_type": "code",
   "execution_count": 26,
   "metadata": {},
   "outputs": [
    {
     "data": {
      "image/png": "[encoded data removed]",
      "text/plain": [
       "<matplotlib.figure.Figure at 0x192d7da68d0>"
      ]
     },
     "metadata": {},
     "output_type": "display_data"
    }
   ],
   "source": [
    "# Эта программа выводит простую столбчатую диаграмму.\n",
    "import matplotlib.pyplot as plt\n",
    "\n",
    "def main():\n",
    "    # Создать список с координатами X левого края каждого столбика\n",
    "    left_edges = [0, 10, 20, 30, 40]\n",
    "\n",
    "    # Создать список с высотами каждого столбика.\n",
    "    heights = [100, 200, 300, 400, 500]\n",
    "\n",
    "    # Построить столбчатую диаграмму.\n",
    "    plt.bar(left_edges, heights)\n",
    "\n",
    "    # Построить столбчатую диаграмму.\n",
    "    plt.tight_layout()\n",
    "    plt.savefig('07_06.png', dpi=DPI)   \n",
    "    plt.show()\n",
    "\n",
    "# Показать столбчатую диаграмму.\n",
    "main()"
   ]
  },
  {
   "cell_type": "markdown",
   "metadata": {},
   "source": [
    "### Программа 7-25 (bar_chart2.py)"
   ]
  },
  {
   "cell_type": "code",
   "execution_count": 25,
   "metadata": {},
   "outputs": [
    {
     "data": {
      "image/png": "[encoded data removed]",
      "text/plain": [
       "<matplotlib.figure.Figure at 0x192d5a86eb8>"
      ]
     },
     "metadata": {},
     "output_type": "display_data"
    }
   ],
   "source": [
    "# Эта программа выводит простую столбчатую диаграмму.\n",
    "import matplotlib.pyplot as plt\n",
    "\n",
    "def main():\n",
    "    # Создать список с координатами X левого края каждого столбика\n",
    "    left_edges = [0, 10, 20, 30, 40]\n",
    "\n",
    "    # Создать список с высотами каждого столбика.\n",
    "    heights = [100, 200, 300, 400, 500]\n",
    "\n",
    "    # Создать переменную для ширины столбика.\n",
    "    bar_width = 5\n",
    "\n",
    "    # Построить столбчатую диаграмму.\n",
    "    plt.bar(left_edges, heights, bar_width)\n",
    "\n",
    "    # Показать столбчатую диаграмму.\n",
    "    plt.tight_layout()\n",
    "    plt.savefig('07_07.png', dpi=DPI)   \n",
    "    plt.show()\n",
    "\n",
    "# Вызвать главную функцию.\n",
    "main()"
   ]
  },
  {
   "cell_type": "markdown",
   "metadata": {},
   "source": [
    "### Программа 7-26 (bar_chart3.py)  "
   ]
  },
  {
   "cell_type": "code",
   "execution_count": 24,
   "metadata": {},
   "outputs": [
    {
     "data": {
      "image/png": "[encoded data removed]",
      "text/plain": [
       "<matplotlib.figure.Figure at 0x192d5a99b38>"
      ]
     },
     "metadata": {},
     "output_type": "display_data"
    }
   ],
   "source": [
    "# Эта программа выводит диаграмму объема продаж.\n",
    "import matplotlib.pyplot as plt\n",
    "\n",
    "def main():\n",
    "    # Создать список с координатами X левого края каждого столби-ка.\n",
    "    left_edges = [0, 10, 20, 30, 40]\n",
    "\n",
    "    # Создать список с высотами каждого столбика.\n",
    "    heights = [100, 200, 300, 400, 500]\n",
    "\n",
    "    # Создать переменную для ширины столбика.\n",
    "    bar_width = 10\n",
    "\n",
    "    # Построить столбчатую диаграмму.\n",
    "    plt.bar(left_edges, heights, bar_width, \n",
    "            color=('r', 'g', 'b', 'm', 'k'))\n",
    "\n",
    "    # Добавить заголовок.\n",
    "    plt.title('Продажи с разбивкой по годам')\n",
    "\n",
    "    # Добавить на оси описательные метки.\n",
    "    plt.xlabel('Год')\n",
    "    plt.ylabel('Объем продаж')\n",
    "\n",
    "    # Настроить метки делений.\n",
    "    plt.xticks([5, 15, 25, 35, 45],\n",
    "               ['2016', '2017', '2018', '2019', '2020'])\n",
    "    plt.yticks([0, 100, 200, 300, 400, 500],\n",
    "               ['$0m', '$1m', '$2m', '$3m', '$4m', '$5m'])\n",
    "\n",
    "    # Показать столбчатую диаграмму.\n",
    "    plt.tight_layout()\n",
    "    plt.savefig('07_08.png', dpi=DPI)   \n",
    "    plt.show()\n",
    "\n",
    "# Вызвать главную функцию.\n",
    "main()"
   ]
  },
  {
   "cell_type": "markdown",
   "metadata": {},
   "source": [
    "### Программа 7-27 (pie_chart1.py)"
   ]
  },
  {
   "cell_type": "code",
   "execution_count": 22,
   "metadata": {},
   "outputs": [
    {
     "data": {
      "image/png": "[encoded data removed]",
      "text/plain": [
       "<matplotlib.figure.Figure at 0x192d5d5a208>"
      ]
     },
     "metadata": {},
     "output_type": "display_data"
    }
   ],
   "source": [
    "# Эта программа выводит простую круговую диаграмму.\n",
    "import matplotlib.pyplot as plt\n",
    "\n",
    "def main():\n",
    "    # Создать список значений\n",
    "    values = [20, 60, 80, 40]\n",
    "\n",
    "    # Создать из этих значений круговую диаграмму.\n",
    "    plt.pie(values)\n",
    "\n",
    "    # Показать круговую диаграмму.\n",
    "    plt.tight_layout()\n",
    "    plt.savefig('07_09.png', dpi=DPI)  \n",
    "    plt.show()\n",
    "\n",
    "# Вызвать главную функцию.\n",
    "main()"
   ]
  },
  {
   "cell_type": "markdown",
   "metadata": {},
   "source": [
    "### Программа 7-28 (pie_chart2.py)"
   ]
  },
  {
   "cell_type": "code",
   "execution_count": 23,
   "metadata": {},
   "outputs": [
    {
     "data": {
      "image/png": "[encoded data removed]",
      "text/plain": [
       "<matplotlib.figure.Figure at 0x192d5c4d630>"
      ]
     },
     "metadata": {},
     "output_type": "display_data"
    }
   ],
   "source": [
    "# Эта программа выводит простую круговую диаграмму.\n",
    "import matplotlib.pyplot as plt\n",
    "\n",
    "def main():\n",
    "    # Создать список объемов продаж.\n",
    "    sales = [100, 400, 300, 600]\n",
    "\n",
    "    # Создать список of меток долей.\n",
    "    slice_labels = ['1-й кв', '2-й кв', '3-й кв', '4-й кв']\n",
    "\n",
    "    # Создать из этих значений круговую диаграмму.\n",
    "    plt.pie(sales, labels=slice_labels)\n",
    "\n",
    "    # Добавить заголовок.\n",
    "    plt.title('Продажи с разбивкой по кварталам')\n",
    "\n",
    "    # Показать круговую диаграмму.\n",
    "    plt.tight_layout()\n",
    "    plt.savefig('07_10.png', dpi=DPI)  \n",
    "    plt.show()\n",
    "\n",
    "# Вызвать главную функцию.\n",
    "main()"
   ]
  },
  {
   "cell_type": "code",
   "execution_count": null,
   "metadata": {},
   "outputs": [],
   "source": []
  }
 ],
 "metadata": {
  "kernelspec": {
   "display_name": "Python 3",
   "language": "python",
   "name": "python3"
  },
  "language_info": {
   "codemirror_mode": {
    "name": "ipython",
    "version": 3
   },
   "file_extension": ".py",
   "mimetype": "text/x-python",
   "name": "python",
   "nbconvert_exporter": "python",
   "pygments_lexer": "ipython3",
   "version": "3.6.4"
  }
 },
 "nbformat": 4,
 "nbformat_minor": 2
}
